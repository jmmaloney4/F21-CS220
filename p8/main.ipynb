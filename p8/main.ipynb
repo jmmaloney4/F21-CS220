{
 "cells": [
  {
   "cell_type": "code",
   "execution_count": 1,
   "id": "a4791aa6",
   "metadata": {},
   "outputs": [],
   "source": [
    "# project: p8\n",
    "# submitter: ccmaloney\n",
    "# partner: jmaloney3\n",
    "# hours: 5"
   ]
  },
  {
   "cell_type": "code",
   "execution_count": 2,
   "id": "769db6fd",
   "metadata": {},
   "outputs": [],
   "source": [
    "import csv\n",
    "\n",
    "# Modified from https://automatetheboringstuff.com/chapter14/\n",
    "def process_csv(filename):\n",
    "    example_file = open(filename, encoding=\"utf-8\")\n",
    "    example_reader = csv.reader(example_file)\n",
    "    example_data = list(example_reader)\n",
    "    example_file.close()\n",
    "    return example_data\n",
    "\n",
    "def get_mapping(path):\n",
    "    csv_data = process_csv(path) # you can use this function from p7\n",
    "    return dict(csv_data)\n",
    "    # TODO: make a dictionary where keys are the ID's and values are the names\n",
    "get_mapping(\"small_mapping.csv\")\n",
    "\n",
    "def unique(l):\n",
    "    return list(set(l))"
   ]
  },
  {
   "cell_type": "code",
   "execution_count": 3,
   "id": "2b3f66d3",
   "metadata": {},
   "outputs": [
    {
     "data": {
      "text/plain": [
       "{'tt1950186': 'Ford v Ferrari',\n",
       " 'tt2267998': 'Gone Girl',\n",
       " 'nm0000255': 'Ben Affleck',\n",
       " 'nm0003506': 'James Mangold',\n",
       " 'nm0000354': 'Matt Damon',\n",
       " 'nm1256532': 'Jon Bernthal',\n",
       " 'nm0683253': 'Rosamund Pike',\n",
       " 'nm0000288': 'Christian Bale',\n",
       " 'nm0000399': 'David Fincher'}"
      ]
     },
     "execution_count": 3,
     "metadata": {},
     "output_type": "execute_result"
    }
   ],
   "source": [
    "#Q1: What is returned by your `get_mapping(\"small_mapping.csv\")` function?\n",
    "get_mapping(\"small_mapping.csv\")"
   ]
  },
  {
   "cell_type": "code",
   "execution_count": 4,
   "id": "49f24f8c",
   "metadata": {},
   "outputs": [
    {
     "data": {
      "text/plain": [
       "'Christian Bale'"
      ]
     },
     "execution_count": 4,
     "metadata": {},
     "output_type": "execute_result"
    }
   ],
   "source": [
    "#Q2: What is the value associated with the key \"nm0000288\"?\n",
    "small_map_dict = get_mapping(\"small_mapping.csv\")\n",
    "small_map_dict['nm0000288']"
   ]
  },
  {
   "cell_type": "code",
   "execution_count": 5,
   "id": "47ed1b14",
   "metadata": {},
   "outputs": [
    {
     "data": {
      "text/plain": [
       "['Ben Affleck',\n",
       " 'James Mangold',\n",
       " 'Matt Damon',\n",
       " 'Jon Bernthal',\n",
       " 'Rosamund Pike',\n",
       " 'Christian Bale',\n",
       " 'David Fincher']"
      ]
     },
     "execution_count": 5,
     "metadata": {},
     "output_type": "execute_result"
    }
   ],
   "source": [
    "#Q3: What are the values in the mapping (dictionary) associated with keys that begin with \"nm\"?\n",
    "small_dict_names = list(map(lambda x: x[1], (filter(lambda x: x[0].startswith('nm'), small_map_dict.items()))))\n",
    "small_dict_names"
   ]
  },
  {
   "cell_type": "code",
   "execution_count": 6,
   "id": "be1fe879",
   "metadata": {},
   "outputs": [
    {
     "data": {
      "text/plain": [
       "['nm0683253']"
      ]
     },
     "execution_count": 6,
     "metadata": {},
     "output_type": "execute_result"
    }
   ],
   "source": [
    "#Q4: List the keys of all the people in the above mapping, whose last name is \"Pike\".\n",
    "split_names = list(map(lambda x: (x[0], x[1].split()), (filter(lambda x: x[0].startswith('nm'), small_map_dict.items()))))\n",
    "list(map(lambda x: x[0], (filter(lambda x: x[1][-1] == 'Pike', split_names))))\n",
    "\n",
    "#list(filter(lambda x: x[-1] == 'Pike', ((map(lambda x: x.split(), small_dict_names)))))"
   ]
  },
  {
   "cell_type": "code",
   "execution_count": 7,
   "id": "e483ea9b",
   "metadata": {},
   "outputs": [],
   "source": [
    "def format_movie_data(data):\n",
    "    data['year'] = int(data['year'])\n",
    "    data['genres'] = data['genres'].split(\", \")\n",
    "    data['duration'] = int(data['duration'])\n",
    "    data['actors'] = data['actors'].split(\", \")\n",
    "    data['directors'] = data['directors'].split(\", \")\n",
    "    data['rating'] = float(data['rating'])\n",
    "    return data\n",
    "\n",
    "def get_raw_movies(path):\n",
    "    movie_data = process_csv(path)\n",
    "    header = movie_data[0]\n",
    "    body = movie_data[1:]\n",
    "    return list(map(lambda x: format_movie_data(dict(zip(header, x))), body))"
   ]
  },
  {
   "cell_type": "code",
   "execution_count": 8,
   "id": "9be14303",
   "metadata": {},
   "outputs": [
    {
     "data": {
      "text/plain": [
       "[{'title': 'tt1950186',\n",
       "  'year': 2019,\n",
       "  'genres': ['Action', 'Biography', 'Drama'],\n",
       "  'duration': 152,\n",
       "  'directors': ['nm0003506'],\n",
       "  'actors': ['nm0000354', 'nm0000288', 'nm1256532'],\n",
       "  'rating': 8.1},\n",
       " {'title': 'tt2267998',\n",
       "  'year': 2014,\n",
       "  'genres': ['Drama', 'Mystery', 'Thriller'],\n",
       "  'duration': 149,\n",
       "  'directors': ['nm0000399'],\n",
       "  'actors': ['nm0000255', 'nm0683253'],\n",
       "  'rating': 8.1}]"
      ]
     },
     "execution_count": 8,
     "metadata": {},
     "output_type": "execute_result"
    }
   ],
   "source": [
    "#Q5: What does `get_raw_movies(\"small_movies.csv\")` return?\n",
    "small_movie_dict = get_raw_movies(\"small_movies.csv\")\n",
    "small_movie_dict"
   ]
  },
  {
   "cell_type": "code",
   "execution_count": 9,
   "id": "eb9d89b3",
   "metadata": {},
   "outputs": [
    {
     "data": {
      "text/plain": [
       "2"
      ]
     },
     "execution_count": 9,
     "metadata": {},
     "output_type": "execute_result"
    }
   ],
   "source": [
    "#Q6: How many actors does the movie at index 1 have?\n",
    "len(small_movie_dict[1]['actors'])\n"
   ]
  },
  {
   "cell_type": "code",
   "execution_count": 10,
   "id": "67ad56bf",
   "metadata": {},
   "outputs": [
    {
     "data": {
      "text/plain": [
       "'nm0000354'"
      ]
     },
     "execution_count": 10,
     "metadata": {},
     "output_type": "execute_result"
    }
   ],
   "source": [
    "#Q7: What is the ID of the first actor listed for the movie at index 0?\n",
    "small_movie_dict[0]['actors'][0]"
   ]
  },
  {
   "cell_type": "code",
   "execution_count": 11,
   "id": "d0c5e314",
   "metadata": {},
   "outputs": [],
   "source": [
    "def get_movies(movies_path, mapping_path):\n",
    "    mapping = get_mapping(mapping_path)\n",
    "    raw = get_raw_movies(movies_path)\n",
    "    \n",
    "    def replace_mapped_values(movie):\n",
    "        movie['title'] = mapping[movie['title']]\n",
    "        movie['directors'] = list(map(lambda d: mapping[d], movie['directors']))\n",
    "        movie['actors'] = list(map(lambda a: mapping[a], movie['actors']))\n",
    "        return movie\n",
    "    \n",
    "    return list(map(lambda x: replace_mapped_values(x), raw))\n"
   ]
  },
  {
   "cell_type": "code",
   "execution_count": 12,
   "id": "dad036ee",
   "metadata": {},
   "outputs": [
    {
     "data": {
      "text/plain": [
       "[{'title': 'Ford v Ferrari',\n",
       "  'year': 2019,\n",
       "  'genres': ['Action', 'Biography', 'Drama'],\n",
       "  'duration': 152,\n",
       "  'directors': ['James Mangold'],\n",
       "  'actors': ['Matt Damon', 'Christian Bale', 'Jon Bernthal'],\n",
       "  'rating': 8.1},\n",
       " {'title': 'Gone Girl',\n",
       "  'year': 2014,\n",
       "  'genres': ['Drama', 'Mystery', 'Thriller'],\n",
       "  'duration': 149,\n",
       "  'directors': ['David Fincher'],\n",
       "  'actors': ['Ben Affleck', 'Rosamund Pike'],\n",
       "  'rating': 8.1}]"
      ]
     },
     "execution_count": 12,
     "metadata": {},
     "output_type": "execute_result"
    }
   ],
   "source": [
    "#Q8: What is `small_data`?\n",
    "small_data = get_movies(\"small_movies.csv\", \"small_mapping.csv\")\n",
    "small_data"
   ]
  },
  {
   "cell_type": "code",
   "execution_count": 13,
   "id": "19c525f8",
   "metadata": {},
   "outputs": [
    {
     "data": {
      "text/plain": [
       "'Gone Girl'"
      ]
     },
     "execution_count": 13,
     "metadata": {},
     "output_type": "execute_result"
    }
   ],
   "source": [
    "#Q9: What is `small_data[1][\"title\"]`?\n",
    "\n",
    "small_data[1][\"title\"]"
   ]
  },
  {
   "cell_type": "code",
   "execution_count": 14,
   "id": "604e4089",
   "metadata": {},
   "outputs": [
    {
     "data": {
      "text/plain": [
       "['Matt Damon', 'Christian Bale', 'Jon Bernthal']"
      ]
     },
     "execution_count": 14,
     "metadata": {},
     "output_type": "execute_result"
    }
   ],
   "source": [
    "#Q10: What is `small_data[0][\"actors\"]`?\n",
    "\n",
    "small_data[0][\"actors\"]"
   ]
  },
  {
   "cell_type": "code",
   "execution_count": 15,
   "id": "8f1c85c6",
   "metadata": {},
   "outputs": [
    {
     "data": {
      "text/plain": [
       "['David Fincher']"
      ]
     },
     "execution_count": 15,
     "metadata": {},
     "output_type": "execute_result"
    }
   ],
   "source": [
    "#Q11: What is `small_data[-1][\"directors\"]`?\n",
    "small_data[-1][\"directors\"]"
   ]
  },
  {
   "cell_type": "code",
   "execution_count": 16,
   "id": "d5dfbe59",
   "metadata": {},
   "outputs": [
    {
     "data": {
      "text/plain": [
       "[{'title': 'Ambassador Bill',\n",
       "  'year': 1931,\n",
       "  'genres': ['Comedy'],\n",
       "  'duration': 70,\n",
       "  'directors': ['Sam Taylor'],\n",
       "  'actors': ['Will Rogers',\n",
       "   'Marguerite Churchill',\n",
       "   'Greta Nissen',\n",
       "   'Tad Alexander'],\n",
       "  'rating': 6.2},\n",
       " {'title': 'The Etruscan Smile',\n",
       "  'year': 2018,\n",
       "  'genres': ['Drama'],\n",
       "  'duration': 107,\n",
       "  'directors': ['Oded Binnun', 'Mihal Brezis'],\n",
       "  'actors': ['Brian Cox', 'JJ Feild', 'Thora Birch', 'Rosanna Arquette'],\n",
       "  'rating': 6.8},\n",
       " {'title': 'In Old Oklahoma',\n",
       "  'year': 1943,\n",
       "  'genres': ['Romance', 'Western'],\n",
       "  'duration': 102,\n",
       "  'directors': ['Albert S. Rogell'],\n",
       "  'actors': ['John Wayne',\n",
       "   'Martha Scott',\n",
       "   'Albert Dekker',\n",
       "   \"George 'Gabby' Hayes\",\n",
       "   'Marjorie Rambeau'],\n",
       "  'rating': 6.5}]"
      ]
     },
     "execution_count": 16,
     "metadata": {},
     "output_type": "execute_result"
    }
   ],
   "source": [
    "#Q12: What are the movies between the indices 2017 and 2019 (inclusive) in movies?\n",
    "movies_data = get_movies(\"movies.csv\", \"mapping.csv\")\n",
    "\n",
    "movies_data[2017:2020]\n",
    "\n",
    "\n"
   ]
  },
  {
   "cell_type": "code",
   "execution_count": 17,
   "id": "726603c8",
   "metadata": {},
   "outputs": [
    {
     "data": {
      "text/plain": [
       "[{'title': 'Battle Bots',\n",
       "  'year': 2018,\n",
       "  'genres': ['Action', 'Adventure', 'Sci-Fi'],\n",
       "  'duration': 67,\n",
       "  'directors': ['Mark Polonia'],\n",
       "  'actors': ['Danielle Donahue', 'Jeff Kirkendall', 'Marie DeLorenzo'],\n",
       "  'rating': 1.9},\n",
       " {'title': 'Inescapable',\n",
       "  'year': 2003,\n",
       "  'genres': ['Drama'],\n",
       "  'duration': 82,\n",
       "  'directors': ['Helen Lesnick'],\n",
       "  'actors': ['Natalie Anderson', 'Tanna Frederick', 'Athena Demos'],\n",
       "  'rating': 4.2}]"
      ]
     },
     "execution_count": 17,
     "metadata": {},
     "output_type": "execute_result"
    }
   ],
   "source": [
    "#Q13: What are the last 2 rows in movies?\n",
    "movies_data[-2:]"
   ]
  },
  {
   "cell_type": "code",
   "execution_count": 18,
   "id": "970f33d6",
   "metadata": {},
   "outputs": [],
   "source": [
    "def search_bar(movies, keyword):\n",
    "    '''given a list of movie dictionaries and a keyword, \n",
    "    returns a list of movies that contains the keyword'''\n",
    "    idx = 0\n",
    "    while idx < len(movies):\n",
    "        movie = movies[idx]\n",
    "        if (keyword not in movie['title']) and (keyword not in movie[\"genres\"]) and  (keyword not in movie[\"directors\"]) and (keyword not in movie[\"actors\"]):\n",
    "            movies.pop(idx)\n",
    "        else:\n",
    "            idx += 1\n",
    "    return movies"
   ]
  },
  {
   "cell_type": "code",
   "execution_count": 19,
   "id": "3d5b2051",
   "metadata": {},
   "outputs": [
    {
     "data": {
      "text/plain": [
       "[{'title': 'Harry Potter and the Deathly Hallows: Part 1',\n",
       "  'year': 2010,\n",
       "  'genres': ['Adventure', 'Family', 'Fantasy'],\n",
       "  'duration': 146,\n",
       "  'directors': ['David Yates'],\n",
       "  'actors': ['Bill Nighy', 'Emma Watson', 'Richard Griffiths'],\n",
       "  'rating': 7.7},\n",
       " {'title': 'Harry Potter and the Chamber of Secrets',\n",
       "  'year': 2002,\n",
       "  'genres': ['Adventure', 'Family', 'Fantasy'],\n",
       "  'duration': 161,\n",
       "  'directors': ['Chris Columbus'],\n",
       "  'actors': ['Daniel Radcliffe', 'Rupert Grint', 'Emma Watson'],\n",
       "  'rating': 7.4},\n",
       " {'title': 'Harry Potter and the Deathly Hallows: Part 2',\n",
       "  'year': 2011,\n",
       "  'genres': ['Adventure', 'Drama', 'Fantasy'],\n",
       "  'duration': 130,\n",
       "  'directors': ['David Yates'],\n",
       "  'actors': ['Ralph Fiennes', 'Michael Gambon'],\n",
       "  'rating': 8.1},\n",
       " {'title': 'Harry Potter and the Half-Blood Prince',\n",
       "  'year': 2009,\n",
       "  'genres': ['Action', 'Adventure', 'Family'],\n",
       "  'duration': 153,\n",
       "  'directors': ['David Yates'],\n",
       "  'actors': ['Daniel Radcliffe', 'Michael Gambon', 'Dave Legeno'],\n",
       "  'rating': 7.6},\n",
       " {'title': 'Harry Potter and the Prisoner of Azkaban',\n",
       "  'year': 2004,\n",
       "  'genres': ['Adventure', 'Family', 'Fantasy'],\n",
       "  'duration': 142,\n",
       "  'directors': ['Alfonso Cuarón'],\n",
       "  'actors': ['Daniel Radcliffe', 'Richard Griffiths', 'Pam Ferris'],\n",
       "  'rating': 7.9},\n",
       " {'title': 'Harry Potter and the Order of the Phoenix',\n",
       "  'year': 2007,\n",
       "  'genres': ['Action', 'Adventure', 'Family'],\n",
       "  'duration': 138,\n",
       "  'directors': ['David Yates'],\n",
       "  'actors': ['Daniel Radcliffe', 'Harry Melling'],\n",
       "  'rating': 7.5},\n",
       " {'title': 'Harry Potter and the Goblet of Fire',\n",
       "  'year': 2005,\n",
       "  'genres': ['Adventure', 'Family', 'Fantasy'],\n",
       "  'duration': 157,\n",
       "  'directors': ['Mike Newell'],\n",
       "  'actors': ['Eric Sykes',\n",
       "   'Timothy Spall',\n",
       "   'David Tennant',\n",
       "   'Daniel Radcliffe',\n",
       "   'Emma Watson'],\n",
       "  'rating': 7.7},\n",
       " {'title': \"Harry Potter and the Sorcerer's Stone\",\n",
       "  'year': 2001,\n",
       "  'genres': ['Adventure', 'Family', 'Fantasy'],\n",
       "  'duration': 152,\n",
       "  'directors': ['Chris Columbus'],\n",
       "  'actors': ['Richard Harris',\n",
       "   'Maggie Smith',\n",
       "   'Robbie Coltrane',\n",
       "   'Daniel Radcliffe',\n",
       "   'Fiona Shaw'],\n",
       "  'rating': 7.6}]"
      ]
     },
     "execution_count": 19,
     "metadata": {},
     "output_type": "execute_result"
    }
   ],
   "source": [
    "#Q14: List all the movies in the dataset, that contain \"Harry Potter\" in the title.\n",
    "#list(filter(lambda x: 'Harry Potter' in x['title'], movies_data))\n",
    "HP_copy = movies_data[:]\n",
    "search_bar(HP_copy, 'Harry Potter')"
   ]
  },
  {
   "cell_type": "code",
   "execution_count": 20,
   "id": "2833b87b",
   "metadata": {},
   "outputs": [],
   "source": [
    "def flatten(l):\n",
    "    rv = []\n",
    "    for s in l:\n",
    "        rv += s;\n",
    "    return rv\n",
    "\n"
   ]
  },
  {
   "cell_type": "code",
   "execution_count": 21,
   "id": "eef5c2ce",
   "metadata": {},
   "outputs": [
    {
     "data": {
      "text/plain": [
       "['Comedy',\n",
       " 'Sci-Fi',\n",
       " 'Crime',\n",
       " 'Mystery',\n",
       " 'Family',\n",
       " 'Action',\n",
       " 'Thriller',\n",
       " 'Adventure',\n",
       " 'Drama',\n",
       " 'Romance']"
      ]
     },
     "execution_count": 21,
     "metadata": {},
     "output_type": "execute_result"
    }
   ],
   "source": [
    "#Q15: Which genres of movies did the actor Paul Walker ever play in?\n",
    "\n",
    "\n",
    "#paul_walker = filter(lambda x: 'Paul Walker' in x['actors'], movies_data)\n",
    "#unique(flatten(list(map(lambda x: x['genres'], paul_walker))))\n",
    "\n",
    "PW_copy = movies_data[:]\n",
    "unique(flatten(list(map(lambda x: x['genres'], search_bar(PW_copy, 'Paul Walker')))))"
   ]
  },
  {
   "cell_type": "code",
   "execution_count": 22,
   "id": "7e2d211c",
   "metadata": {},
   "outputs": [
    {
     "ename": "SyntaxError",
     "evalue": "invalid syntax (<ipython-input-22-f7d55ae5478a>, line 15)",
     "output_type": "error",
     "traceback": [
      "\u001b[0;36m  File \u001b[0;32m\"<ipython-input-22-f7d55ae5478a>\"\u001b[0;36m, line \u001b[0;32m15\u001b[0m\n\u001b[0;31m    ```\u001b[0m\n\u001b[0m    ^\u001b[0m\n\u001b[0;31mSyntaxError\u001b[0m\u001b[0;31m:\u001b[0m invalid syntax\n"
     ]
    }
   ],
   "source": [
    "all_genres = unique(flatten(map(lambda x: x['genres'], movies_data)))\n",
    "def by_genre():\n",
    "    return dict(map(lambda g: (g, list(filter(lambda x: g in x['genres'], movies_data))), all_genres))\n",
    "\n",
    "\n",
    "def genre_search_bar(movies):\n",
    "    '''given a list of movie dictionaries, \n",
    "    returns a dict in which the key is the genre and \n",
    "    the value is a list of all movies that contain that genre'''\n",
    "    #TODO: initialize a dictionary\n",
    "    #TODO: loop through all movies\n",
    "    #TODO: loop through all genres in this movie\n",
    "    #TODO: if this genre is not a key in our dictionary, set the value associted with this genre to an empty list\n",
    "    #TODO: if we already have this genre in our dictionary, append the movie to the list associated with this genre\n",
    "```"
   ]
  },
  {
   "cell_type": "code",
   "execution_count": null,
   "id": "3fe7a970",
   "metadata": {},
   "outputs": [],
   "source": [
    "#Q16: List the unique genres in our dataset.\n",
    "all_genres = unique(flatten(map(lambda x: x['genres'], movies_data)))\n",
    "#all_genres"
   ]
  },
  {
   "cell_type": "code",
   "execution_count": null,
   "id": "803c68a9",
   "metadata": {},
   "outputs": [],
   "source": [
    "#Q17: How many Action movies do we have the dataset?\n",
    "\n",
    "#len(by_genre()['Action'])"
   ]
  },
  {
   "cell_type": "code",
   "execution_count": null,
   "id": "9f86e442",
   "metadata": {},
   "outputs": [],
   "source": [
    "#Q18: What is the average rating of Comedy movies?\n",
    "\n",
    "#from statistics import mean   \n",
    "#mean(map(lambda x: x['rating'], by_genre()['Comedy']))"
   ]
  },
  {
   "cell_type": "code",
   "execution_count": null,
   "id": "40518d3c",
   "metadata": {
    "scrolled": true
   },
   "outputs": [],
   "source": [
    "#Q19: List all the genres of movies that Christopher Nolan has ever acted/directed in.\n",
    "\n",
    "#cnmovies = map(lambda x: (x[0], flatten(map(lambda y: y['directors'] + y['actors'], x[1]))), by_genre().items())\n",
    "#cnmovies = filter(lambda z: \"Christopher Nolan\" in z[1], cnmovies)\n",
    "#cnmovies = map(lambda w: w[0], cnmovies)\n",
    "#list(cnmovies)\n"
   ]
  },
  {
   "cell_type": "code",
   "execution_count": null,
   "id": "4fb24e09",
   "metadata": {},
   "outputs": [],
   "source": [
    "#Q20: Which movie genre does the actress Kristen Stewart play the most?\n",
    "\n",
    "#v = map(lambda x: (x[0], map(lambda y: y['actors'], x[1])), by_genre().items())\n",
    "#v = map(lambda x: (x[0], len(list(filter(lambda y: \"Kristen Stewart\" in y, x[1])))), v)\n",
    "#max(v, key = lambda x: x[1])[0]\n"
   ]
  },
  {
   "cell_type": "code",
   "execution_count": null,
   "id": "c1cbd9ab",
   "metadata": {},
   "outputs": [],
   "source": []
  }
 ],
 "metadata": {
  "kernelspec": {
   "display_name": "Python 3",
   "language": "python",
   "name": "python3"
  },
  "language_info": {
   "codemirror_mode": {
    "name": "ipython",
    "version": 3
   },
   "file_extension": ".py",
   "mimetype": "text/x-python",
   "name": "python",
   "nbconvert_exporter": "python",
   "pygments_lexer": "ipython3",
   "version": "3.8.8"
  }
 },
 "nbformat": 4,
 "nbformat_minor": 5
}
