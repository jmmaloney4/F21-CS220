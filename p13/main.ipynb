{
 "cells": [
  {
   "cell_type": "code",
   "execution_count": 12,
   "id": "87e194b0",
   "metadata": {},
   "outputs": [],
   "source": [
    "# project: p13\n",
    "# submitter: ccmaloney\n",
    "# partner: jmaloney3\n",
    "# hours: ???"
   ]
  },
  {
   "cell_type": "code",
   "execution_count": 32,
   "id": "f63a82e6",
   "metadata": {},
   "outputs": [],
   "source": [
    "import os\n",
    "import pandas as pd\n",
    "from pandas import DataFrame, Series\n",
    "import sqlite3\n",
    "import matplotlib"
   ]
  },
  {
   "cell_type": "code",
   "execution_count": 33,
   "id": "d729a21f",
   "metadata": {},
   "outputs": [],
   "source": [
    "# ensures that font.size setting remains permanent\n",
    "%matplotlib inline \n",
    "pd.set_option('display.max_colwidth', None)\n",
    "matplotlib.rcParams[\"font.size\"] = 13 # don't use value > 13! Otherwise your y-axis tick labels will be different. "
   ]
  },
  {
   "cell_type": "code",
   "execution_count": 34,
   "id": "76e8913a",
   "metadata": {},
   "outputs": [],
   "source": [
    "# Returns True if file was downloaded, False if file already exists\n",
    "def download(url, filename = None):\n",
    "    if filename == None:\n",
    "        filename = os.path.basename(url)\n",
    "    # We do not download again if the file already exists\n",
    "    if os.path.exists(filename):\n",
    "        return False\n",
    "    \n",
    "    response = requests.get(url)\n",
    "    response.raise_for_status()\n",
    "\n",
    "    f = open(filename, \"w\", encoding=\"utf-8\")\n",
    "    f.write(response.text)\n",
    "    f.close()\n",
    "\n",
    "    return True"
   ]
  },
  {
   "cell_type": "code",
   "execution_count": 35,
   "id": "4accd436",
   "metadata": {},
   "outputs": [
    {
     "data": {
      "text/plain": [
       "False"
      ]
     },
     "execution_count": 35,
     "metadata": {},
     "output_type": "execute_result"
    }
   ],
   "source": [
    "download(\"https://raw.githubusercontent.com/msyamkumar/cs220-f21-projects/main/p13/QSranking.json\")"
   ]
  },
  {
   "cell_type": "code",
   "execution_count": 36,
   "id": "a02ca96d",
   "metadata": {},
   "outputs": [],
   "source": [
    "rankings = pd.read_json('QSranking.json')"
   ]
  },
  {
   "cell_type": "code",
   "execution_count": 37,
   "id": "01fe2b5b",
   "metadata": {},
   "outputs": [],
   "source": [
    "conn = sqlite3.connect('rankings.db')\n",
    "rankings.to_sql(\"rankings\", conn, if_exists = \"replace\", index = False)\n",
    "\n",
    "# remember to do conn.close() at the end of your notebook or your code may crash when we run test.py."
   ]
  },
  {
   "cell_type": "code",
   "execution_count": 57,
   "id": "2d7efcee",
   "metadata": {},
   "outputs": [
    {
     "data": {
      "text/html": [
       "<div>\n",
       "<style scoped>\n",
       "    .dataframe tbody tr th:only-of-type {\n",
       "        vertical-align: middle;\n",
       "    }\n",
       "\n",
       "    .dataframe tbody tr th {\n",
       "        vertical-align: top;\n",
       "    }\n",
       "\n",
       "    .dataframe thead th {\n",
       "        text-align: right;\n",
       "    }\n",
       "</style>\n",
       "<table border=\"1\" class=\"dataframe\">\n",
       "  <thead>\n",
       "    <tr style=\"text-align: right;\">\n",
       "      <th></th>\n",
       "      <th>institution_name</th>\n",
       "      <th>international_students</th>\n",
       "    </tr>\n",
       "  </thead>\n",
       "  <tbody>\n",
       "    <tr>\n",
       "      <th>0</th>\n",
       "      <td>Mcgill University</td>\n",
       "      <td>96.2</td>\n",
       "    </tr>\n",
       "    <tr>\n",
       "      <th>1</th>\n",
       "      <td>Mcgill University</td>\n",
       "      <td>96.2</td>\n",
       "    </tr>\n",
       "    <tr>\n",
       "      <th>2</th>\n",
       "      <td>Mcgill University</td>\n",
       "      <td>95.6</td>\n",
       "    </tr>\n",
       "    <tr>\n",
       "      <th>3</th>\n",
       "      <td>University Of Toronto</td>\n",
       "      <td>93.0</td>\n",
       "    </tr>\n",
       "    <tr>\n",
       "      <th>4</th>\n",
       "      <td>University Of Toronto</td>\n",
       "      <td>92.9</td>\n",
       "    </tr>\n",
       "    <tr>\n",
       "      <th>5</th>\n",
       "      <td>University Of Toronto</td>\n",
       "      <td>92.1</td>\n",
       "    </tr>\n",
       "    <tr>\n",
       "      <th>6</th>\n",
       "      <td>Simon Fraser University</td>\n",
       "      <td>91.9</td>\n",
       "    </tr>\n",
       "    <tr>\n",
       "      <th>7</th>\n",
       "      <td>Simon Fraser University</td>\n",
       "      <td>91.8</td>\n",
       "    </tr>\n",
       "    <tr>\n",
       "      <th>8</th>\n",
       "      <td>Simon Fraser University</td>\n",
       "      <td>91.5</td>\n",
       "    </tr>\n",
       "    <tr>\n",
       "      <th>9</th>\n",
       "      <td>University Of Waterloo</td>\n",
       "      <td>84.1</td>\n",
       "    </tr>\n",
       "  </tbody>\n",
       "</table>\n",
       "</div>"
      ],
      "text/plain": [
       "          institution_name  international_students\n",
       "0        Mcgill University                    96.2\n",
       "1        Mcgill University                    96.2\n",
       "2        Mcgill University                    95.6\n",
       "3    University Of Toronto                    93.0\n",
       "4    University Of Toronto                    92.9\n",
       "5    University Of Toronto                    92.1\n",
       "6  Simon Fraser University                    91.9\n",
       "7  Simon Fraser University                    91.8\n",
       "8  Simon Fraser University                    91.5\n",
       "9   University Of Waterloo                    84.1"
      ]
     },
     "execution_count": 57,
     "metadata": {},
     "output_type": "execute_result"
    }
   ],
   "source": [
    "#Q1: In the year 2020, list the top 10 institutions in Canada which have the highest value in the column `international_students`.\n",
    "\n",
    "pd.read_sql(\n",
    "\"\"\"\n",
    "SELECT institution_name, international_students\n",
    "FROM rankings\n",
    "WHERE country = \"Canada\"\n",
    "ORDER BY international_students DESC\n",
    "LIMIT 10\n",
    "\"\"\", conn)\n",
    "\n"
   ]
  },
  {
   "cell_type": "code",
   "execution_count": null,
   "id": "72031830",
   "metadata": {},
   "outputs": [],
   "source": []
  },
  {
   "cell_type": "code",
   "execution_count": null,
   "id": "bc689b45",
   "metadata": {},
   "outputs": [],
   "source": []
  },
  {
   "cell_type": "code",
   "execution_count": null,
   "id": "bb108aab",
   "metadata": {},
   "outputs": [],
   "source": []
  },
  {
   "cell_type": "code",
   "execution_count": null,
   "id": "95ef1a5b",
   "metadata": {},
   "outputs": [],
   "source": [
    "conn.close()"
   ]
  }
 ],
 "metadata": {
  "kernelspec": {
   "display_name": "Python 3 (ipykernel)",
   "language": "python",
   "name": "python3"
  },
  "language_info": {
   "codemirror_mode": {
    "name": "ipython",
    "version": 3
   },
   "file_extension": ".py",
   "mimetype": "text/x-python",
   "name": "python",
   "nbconvert_exporter": "python",
   "pygments_lexer": "ipython3",
   "version": "3.9.9"
  }
 },
 "nbformat": 4,
 "nbformat_minor": 5
}
