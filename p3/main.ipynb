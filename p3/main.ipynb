{
 "cells": [
  {
   "cell_type": "code",
   "execution_count": null,
   "id": "93160036",
   "metadata": {},
   "outputs": [],
   "source": [
    "# project: p3\n",
    "# submitter: ccmaloney\n",
    "# partner: jmaloney3\n",
    "# hours: 3.5"
   ]
  },
  {
   "cell_type": "code",
   "execution_count": 49,
   "id": "e2a60b93",
   "metadata": {},
   "outputs": [],
   "source": [
    "#set-up\n",
    "import project\n",
    "import statistics\n",
    "import math\n",
    "project.init(\"energy.csv\")\n",
    "\n",
    "# index variables\n",
    "hydroelectric_idx = project.get_idx(\"Conventional Hydroelectric Power\")\n",
    "solar_idx = project.get_idx(\"Solar Energy\")\n",
    "wind_idx = project.get_idx(\"Wind Energy\")\n",
    "biomass_idx = project.get_idx(\"Biomass Energy\")\n",
    "\n",
    "# max energy function --> This function will compute the maximum amount of energy \n",
    "#                        consumed by the US electric power sector from a single \n",
    "#                        renewable energy source in the given year.\n",
    "def year_max(year):\n",
    "    # grab the consumption of each energy source in the given year\n",
    "    hydroelectric_consumption = project.get_consumption(project.get_idx(\"Conventional Hydroelectric Power\"), year)\n",
    "    solar_consumption = project.get_consumption(project.get_idx(\"Solar Energy\"), year)\n",
    "    wind_consumption = project.get_consumption(project.get_idx(\"Wind Energy\"), year)\n",
    "    wood_consumption = project.get_consumption(project.get_idx(\"Wood Energy\"), year)    \n",
    "    biomass_consumption = project.get_consumption(project.get_idx(\"Biomass Energy\"), year)\n",
    "\n",
    "    # use builtin max function to get the maximum of the five values\n",
    "    return max(hydroelectric_consumption, solar_consumption, wind_consumption, wood_consumption, biomass_consumption)\n",
    "\n",
    "# min energy function --> This function should compute the minimum energy consumed\n",
    "#                         by the US electric power sector from the given renewable \n",
    "#                         energy source in any of the six years.\n",
    "def energy_min(source):\n",
    "    source_idx = project.get_idx(source)    \n",
    "    y15 = project.get_consumption(source_idx, 2015)\n",
    "    y16 = project.get_consumption(source_idx, 2016)\n",
    "    y17 = project.get_consumption(source_idx, 2017)\n",
    "    y18 = project.get_consumption(source_idx, 2018)\n",
    "    y19 = project.get_consumption(source_idx, 2019)\n",
    "    y20 = project.get_consumption(source_idx, 2020)\n",
    "    # grab the consumptions from other years\n",
    "\n",
    "    # use the min function (similar to the max function)\n",
    "    # to get the minimum across the six years\n",
    "    # and return that value\n",
    "    return min(y15, y16, y17, y18, y19, y20)\n",
    "\n",
    "def energy_avg(source):\n",
    "    source_idx = project.get_idx(source)    \n",
    "    y15 = project.get_consumption(source_idx, 2015)\n",
    "    y16 = project.get_consumption(source_idx, 2016)\n",
    "    y17 = project.get_consumption(source_idx, 2017)\n",
    "    y18 = project.get_consumption(source_idx, 2018)\n",
    "    y19 = project.get_consumption(source_idx, 2019)\n",
    "    y20 = project.get_consumption(source_idx, 2020)\n",
    "    # grab the consumptions from other years\n",
    "\n",
    "    # use the min function (similar to the max function)\n",
    "    # to get the minimum across the six years\n",
    "    # and return that value\n",
    "    return statistics.mean([y15, y16, y17, y18, y19, y20])\n",
    "\n",
    "def year_sum(year=2016):\n",
    "    hydroelectric_consumption = project.get_consumption(project.get_idx(\"Conventional Hydroelectric Power\"), year)\n",
    "    solar_consumption = project.get_consumption(project.get_idx(\"Solar Energy\"), year)\n",
    "    wind_consumption = project.get_consumption(project.get_idx(\"Wind Energy\"), year)\n",
    "    wood_consumption = project.get_consumption(project.get_idx(\"Wood Energy\"), year)    \n",
    "    biomass_consumption = project.get_consumption(project.get_idx(\"Biomass Energy\"), year)\n",
    "    return sum([hydroelectric_consumption, solar_consumption, wind_consumption, wood_consumption, biomass_consumption])\n",
    "\n",
    "\n",
    "\n",
    "\n",
    "def change_per_year(energy, start_year=2015, end_year=2020):\n",
    "    source_idx = project.get_idx(energy)\n",
    "    return (project.get_consumption(source_idx, end_year) - project.get_consumption(source_idx, start_year)) / (end_year - start_year)\n",
    "\n",
    "def find_threshold_year(energy, threshold=0):\n",
    "    source_idx = project.get_idx(energy)\n",
    "    average = change_per_year(energy, 2015, 2020)\n",
    "    return math.ceil((threshold - project.get_consumption(source_idx, 2020)) / average)\n",
    "    \n",
    "def find_overtake_year(energy1, energy2):\n",
    "    m1 = change_per_year(energy1, 2015, 2020)\n",
    "    m2 = change_per_year(energy2, 2015, 2020)\n",
    "    \n",
    "    return math.ceil((project.get_consumption(project.get_idx(energy2), 2020) - project.get_consumption(project.get_idx(energy1), 2020)) / (m1 - m2))\n",
    "    \n",
    "    \n",
    "    "
   ]
  },
  {
   "cell_type": "code",
   "execution_count": 25,
   "id": "4960aa37",
   "metadata": {},
   "outputs": [
    {
     "data": {
      "text/plain": [
       "6423.5070000000005"
      ]
     },
     "execution_count": 25,
     "metadata": {},
     "output_type": "execute_result"
    }
   ],
   "source": [
    "year_sum(2018)"
   ]
  },
  {
   "cell_type": "code",
   "execution_count": null,
   "id": "76fd7b1c",
   "metadata": {},
   "outputs": [],
   "source": []
  },
  {
   "cell_type": "code",
   "execution_count": 26,
   "id": "4349f8b3",
   "metadata": {},
   "outputs": [
    {
     "data": {
      "text/plain": [
       "7"
      ]
     },
     "execution_count": 26,
     "metadata": {},
     "output_type": "execute_result"
    }
   ],
   "source": [
    "# Q1\n",
    "project.get_idx(\"Biomass Energy\")"
   ]
  },
  {
   "cell_type": "code",
   "execution_count": 27,
   "id": "3f6361ba",
   "metadata": {},
   "outputs": [
    {
     "data": {
      "text/plain": [
       "509.541"
      ]
     },
     "execution_count": 27,
     "metadata": {},
     "output_type": "execute_result"
    }
   ],
   "source": [
    "# Q2\n",
    "project.get_consumption(project.get_idx(\"Biomass Energy\"), 2017)"
   ]
  },
  {
   "cell_type": "code",
   "execution_count": 28,
   "id": "3b52f498",
   "metadata": {},
   "outputs": [
    {
     "data": {
      "text/plain": [
       "634.613"
      ]
     },
     "execution_count": 28,
     "metadata": {},
     "output_type": "execute_result"
    }
   ],
   "source": [
    "# Q3\n",
    "project.get_consumption(solar_idx, 2019)"
   ]
  },
  {
   "cell_type": "code",
   "execution_count": 29,
   "id": "7f6f244f",
   "metadata": {},
   "outputs": [
    {
     "data": {
      "text/plain": [
       "2307.717"
      ]
     },
     "execution_count": 29,
     "metadata": {},
     "output_type": "execute_result"
    }
   ],
   "source": [
    "# Q4: What was the maximum energy consumed by the US electric power sector from a single renewable energy source in 2015?\n",
    "year_max(2015)"
   ]
  },
  {
   "cell_type": "code",
   "execution_count": 30,
   "id": "596217b1",
   "metadata": {},
   "outputs": [
    {
     "data": {
      "text/plain": [
       "2752.024"
      ]
     },
     "execution_count": 30,
     "metadata": {},
     "output_type": "execute_result"
    }
   ],
   "source": [
    "# Q5: What was the maximum energy consumed by the US electric power sector from a single renewable\n",
    "#    energy source in 2017?\n",
    "year_max(2017)"
   ]
  },
  {
   "cell_type": "code",
   "execution_count": 31,
   "id": "254a23ea",
   "metadata": {},
   "outputs": [
    {
     "data": {
      "text/plain": [
       "185.145"
      ]
     },
     "execution_count": 31,
     "metadata": {},
     "output_type": "execute_result"
    }
   ],
   "source": [
    "#Q6: What was the minimum amount of Wood Energy consumed by the US electric power sector in a single year?\n",
    "energy_min(\"Wood Energy\")"
   ]
  },
  {
   "cell_type": "code",
   "execution_count": 32,
   "id": "d5fd54a5",
   "metadata": {},
   "outputs": [
    {
     "data": {
      "text/plain": [
       "2307.717"
      ]
     },
     "execution_count": 32,
     "metadata": {},
     "output_type": "execute_result"
    }
   ],
   "source": [
    "# Q7: What was the minimum amount of Conventional Hydroelectric Power consumed by the US \n",
    "#     electric power sector in a single year?\n",
    "energy_min(\"Conventional Hydroelectric Power\")"
   ]
  },
  {
   "cell_type": "code",
   "execution_count": 33,
   "id": "497f5762",
   "metadata": {},
   "outputs": [
    {
     "data": {
      "text/plain": [
       "509.02316666666667"
      ]
     },
     "execution_count": 33,
     "metadata": {},
     "output_type": "execute_result"
    }
   ],
   "source": [
    "#Q8: How much Solar Energy was consumed by the US electric power sector on average between 2015 and 2020?\n",
    "energy_avg(\"Solar Energy\")"
   ]
  },
  {
   "cell_type": "code",
   "execution_count": 34,
   "id": "796b44ef",
   "metadata": {},
   "outputs": [
    {
     "data": {
      "text/plain": [
       "2386.7683333333334"
      ]
     },
     "execution_count": 34,
     "metadata": {},
     "output_type": "execute_result"
    }
   ],
   "source": [
    "#Q9: How much Wind Energy was consumed by the US electric power sector on average between 2015 and 2020?\n",
    "energy_avg(\"Wind Energy\")"
   ]
  },
  {
   "cell_type": "code",
   "execution_count": 55,
   "id": "9a15148e",
   "metadata": {},
   "outputs": [
    {
     "data": {
      "text/plain": [
       "2.3832356915050217"
      ]
     },
     "execution_count": 55,
     "metadata": {},
     "output_type": "execute_result"
    }
   ],
   "source": [
    "#Q10: How much Biomass Energy was consumed by the US electric power sector in 2018 above its average over the 6 years?\n",
    "((project.get_consumption(project.get_idx(\"Biomass Energy\"), 2018) - energy_avg(\"Biomass Energy\")) / energy_avg(\"Biomass Energy\")) * 100\n",
    "\n",
    "\n"
   ]
  },
  {
   "cell_type": "code",
   "execution_count": 36,
   "id": "0b316c9a",
   "metadata": {},
   "outputs": [
    {
     "data": {
      "text/plain": [
       "5609.637000000001"
      ]
     },
     "execution_count": 36,
     "metadata": {},
     "output_type": "execute_result"
    }
   ],
   "source": [
    "#Q11: How much renewable energy was consumed by the US electric power sector in 2016?\n",
    "year_sum()"
   ]
  },
  {
   "cell_type": "code",
   "execution_count": 37,
   "id": "edb006e8",
   "metadata": {},
   "outputs": [
    {
     "data": {
      "text/plain": [
       "6990.408"
      ]
     },
     "execution_count": 37,
     "metadata": {},
     "output_type": "execute_result"
    }
   ],
   "source": [
    "#Q12: How much renewable energy was consumed by the US electric power sector in 2020?\n",
    "year_sum(2020)"
   ]
  },
  {
   "cell_type": "code",
   "execution_count": 38,
   "id": "0a0f7cbb",
   "metadata": {},
   "outputs": [
    {
     "data": {
      "text/plain": [
       "114.88319999999999"
      ]
     },
     "execution_count": 38,
     "metadata": {},
     "output_type": "execute_result"
    }
   ],
   "source": [
    "#Q13: How much has the consumption of Solar Energy by the US electric power sector increased per \n",
    "#     year (on average) from 2015 to 2020?\n",
    "\n",
    "change_per_year(\"Solar Energy\")"
   ]
  },
  {
   "cell_type": "code",
   "execution_count": 39,
   "id": "b7da08a5",
   "metadata": {},
   "outputs": [
    {
     "data": {
      "text/plain": [
       "226.10349999999994"
      ]
     },
     "execution_count": 39,
     "metadata": {},
     "output_type": "execute_result"
    }
   ],
   "source": [
    "#Q14: How much has the consumption of Wind Energy by the US electric power sector increased \n",
    "#     per year (on average) from 2016 to 2020?\n",
    "\n",
    "change_per_year(\"Wind Energy\", 2016, 2020)"
   ]
  },
  {
   "cell_type": "code",
   "execution_count": 40,
   "id": "ffe7692b",
   "metadata": {},
   "outputs": [
    {
     "data": {
      "text/plain": [
       "2036"
      ]
     },
     "execution_count": 40,
     "metadata": {},
     "output_type": "execute_result"
    }
   ],
   "source": [
    "#Q15: In which year is the consumption of Wood Energy by the US electric power sector estimated to reach zero?\n",
    "2020 + find_threshold_year(\"Wood Energy\", 0)"
   ]
  },
  {
   "cell_type": "code",
   "execution_count": 41,
   "id": "91351463",
   "metadata": {},
   "outputs": [
    {
     "data": {
      "text/plain": [
       "2041"
      ]
     },
     "execution_count": 41,
     "metadata": {},
     "output_type": "execute_result"
    }
   ],
   "source": [
    "#Q16: In which year is the consumption of Biomass Energy by the US electric power sector estimated to reach zero?\n",
    "2020 + find_threshold_year(\"Biomass Energy\", 0)"
   ]
  },
  {
   "cell_type": "code",
   "execution_count": 42,
   "id": "ee4a13c9",
   "metadata": {},
   "outputs": [
    {
     "name": "stdout",
     "output_type": "stream",
     "text": [
      "423.513\n"
     ]
    },
    {
     "data": {
      "text/plain": [
       "2032"
      ]
     },
     "execution_count": 42,
     "metadata": {},
     "output_type": "execute_result"
    }
   ],
   "source": [
    "#Q17: In which year is the consumption of Biomass Energy by the US electric power sector estimated to be less than the consumption of Wood Energy in 2020?\n",
    "2020 + find_threshold_year(\"Biomass Energy\", project.get_consumption(project.get_idx(\"Wood Energy\"), 2020))\n"
   ]
  },
  {
   "cell_type": "code",
   "execution_count": 47,
   "id": "671af041",
   "metadata": {},
   "outputs": [
    {
     "data": {
      "text/plain": [
       "2422"
      ]
     },
     "execution_count": 47,
     "metadata": {},
     "output_type": "execute_result"
    }
   ],
   "source": [
    "#Q18: In which year will the consumption of Wood Energy by the US electric power sector overtake Biomass Energy?\n",
    "2020 + find_overtake_year(\"Wood Energy\", \"Biomass Energy\")"
   ]
  },
  {
   "cell_type": "code",
   "execution_count": 50,
   "id": "dab9a9a5",
   "metadata": {},
   "outputs": [
    {
     "data": {
      "text/plain": [
       "2050"
      ]
     },
     "execution_count": 50,
     "metadata": {},
     "output_type": "execute_result"
    }
   ],
   "source": [
    "#Q19: In which year will the consumption of Solar Energy by the US electric power sector overtake Conventional Hydroelectric Power?\n",
    "\n",
    "2020 + find_overtake_year(\"Solar Energy\", \"Conventional Hydroelectric Power\")\n"
   ]
  },
  {
   "cell_type": "code",
   "execution_count": 53,
   "id": "94465f08",
   "metadata": {},
   "outputs": [
    {
     "data": {
      "text/plain": [
       "1.6662191138389904"
      ]
     },
     "execution_count": 53,
     "metadata": {},
     "output_type": "execute_result"
    }
   ],
   "source": [
    "#Q20: What is the increase in the unit market share for Solar Energy from 2019 to 2020?\n",
    "share2019 = project.get_consumption(project.get_idx(\"Solar Energy\"), 2019) / year_sum(2019)\n",
    "share2020 = project.get_consumption(project.get_idx(\"Solar Energy\"), 2020) / year_sum(2020)\n",
    "\n",
    "(share2020 - share2019) * 100\n",
    "\n",
    "\n",
    "\n"
   ]
  },
  {
   "cell_type": "code",
   "execution_count": null,
   "id": "34a71513",
   "metadata": {},
   "outputs": [],
   "source": []
  }
 ],
 "metadata": {
  "kernelspec": {
   "display_name": "Python 3",
   "language": "python",
   "name": "python3"
  },
  "language_info": {
   "codemirror_mode": {
    "name": "ipython",
    "version": 3
   },
   "file_extension": ".py",
   "mimetype": "text/x-python",
   "name": "python",
   "nbconvert_exporter": "python",
   "pygments_lexer": "ipython3",
   "version": "3.8.8"
  }
 },
 "nbformat": 4,
 "nbformat_minor": 5
}
