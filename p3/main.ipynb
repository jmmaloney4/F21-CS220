{
 "cells": [
  {
   "cell_type": "code",
   "execution_count": 1,
   "id": "e2a60b93",
   "metadata": {},
   "outputs": [],
   "source": [
    "#set-up\n",
    "import project\n",
    "project.init(\"energy.csv\")\n",
    "\n",
    "# index variables\n",
    "hydroelectric_idx = project.get_idx(\"Conventional Hydroelectric Power\")\n",
    "solar_idx = project.get_idx(\"Solar Energy\")\n",
    "wind_idx = project.get_idx(\"Wind Energy\")\n",
    "biomass_idx = project.get_idx(\"Biomass Energy\")\n",
    "\n",
    "# max energy function --> This function will compute the maximum amount of energy \n",
    "#                        consumed by the US electric power sector from a single \n",
    "#                        renewable energy source in the given year.\n",
    "def year_max(year):\n",
    "    # grab the consumption of each energy source in the given year\n",
    "    hydroelectric_consumption = project.get_consumption(project.get_idx(\"Conventional Hydroelectric Power\"), year)\n",
    "    solar_consumption = project.get_consumption(project.get_idx(\"Solar Energy\"), year)\n",
    "    wind_consumption = project.get_consumption(project.get_idx(\"Wind Energy\"), year)\n",
    "    wood_consumption = project.get_consumption(project.get_idx(\"Wood Energy\"), year)    \n",
    "    biomass_consumption = project.get_consumption(project.get_idx(\"Biomass Energy\"), year)\n",
    "\n",
    "    # use builtin max function to get the maximum of the five values\n",
    "    return max(hydroelectric_consumption, solar_consumption, wind_consumption, wood_consumption, biomass_consumption)\n",
    "\n",
    "# min energy function --> This function should compute the minimum energy consumed\n",
    "#                         by the US electric power sector from the given renewable \n",
    "#                         energy source in any of the six years.\n",
    "def energy_min(source):\n",
    "    source_idx = project.get_idx(source)    \n",
    "    y15 = project.get_consumption(source_idx, 2015)\n",
    "    y16 = project.get_consumption(source_idx, 2016)\n",
    "    # grab the consumptions from other years\n",
    "\n",
    "    # use the min function (similar to the max function)\n",
    "    # to get the minimum across the six years\n",
    "    # and return that value"
   ]
  },
  {
   "cell_type": "code",
   "execution_count": null,
   "id": "cf5b4aca",
   "metadata": {},
   "outputs": [],
   "source": []
  },
  {
   "cell_type": "code",
   "execution_count": 2,
   "id": "4349f8b3",
   "metadata": {},
   "outputs": [
    {
     "data": {
      "text/plain": [
       "7"
      ]
     },
     "execution_count": 2,
     "metadata": {},
     "output_type": "execute_result"
    }
   ],
   "source": [
    "#Q1\n",
    "project.get_idx(\"Biomass Energy\")"
   ]
  },
  {
   "cell_type": "code",
   "execution_count": 3,
   "id": "3f6361ba",
   "metadata": {},
   "outputs": [
    {
     "data": {
      "text/plain": [
       "423.513"
      ]
     },
     "execution_count": 3,
     "metadata": {},
     "output_type": "execute_result"
    }
   ],
   "source": [
    "#Q2\n",
    "project.get_consumption(project.get_idx(\"Biomass Energy\"))"
   ]
  },
  {
   "cell_type": "code",
   "execution_count": 4,
   "id": "3b52f498",
   "metadata": {},
   "outputs": [
    {
     "data": {
      "text/plain": [
       "634.613"
      ]
     },
     "execution_count": 4,
     "metadata": {},
     "output_type": "execute_result"
    }
   ],
   "source": [
    "#Q3\n",
    "project.get_consumption(solar_idx, 2019)"
   ]
  },
  {
   "cell_type": "code",
   "execution_count": 5,
   "id": "7f6f244f",
   "metadata": {},
   "outputs": [
    {
     "data": {
      "text/plain": [
       "2307.717"
      ]
     },
     "execution_count": 5,
     "metadata": {},
     "output_type": "execute_result"
    }
   ],
   "source": [
    "#Q4\n",
    "year_max(2015)"
   ]
  },
  {
   "cell_type": "code",
   "execution_count": null,
   "id": "3ab7932a",
   "metadata": {},
   "outputs": [],
   "source": []
  }
 ],
 "metadata": {
  "kernelspec": {
   "display_name": "Python 3",
   "language": "python",
   "name": "python3"
  },
  "language_info": {
   "codemirror_mode": {
    "name": "ipython",
    "version": 3
   },
   "file_extension": ".py",
   "mimetype": "text/x-python",
   "name": "python",
   "nbconvert_exporter": "python",
   "pygments_lexer": "ipython3",
   "version": "3.8.8"
  }
 },
 "nbformat": 4,
 "nbformat_minor": 5
}
