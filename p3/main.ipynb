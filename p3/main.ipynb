{
 "cells": [
  {
   "cell_type": "code",
   "execution_count": 1,
   "id": "e2a60b93",
   "metadata": {},
   "outputs": [],
   "source": [
    "#set-up\n",
    "import project\n",
    "project.init(\"energy.csv\")\n"
   ]
  },
  {
   "cell_type": "code",
   "execution_count": 2,
   "id": "4349f8b3",
   "metadata": {},
   "outputs": [
    {
     "data": {
      "text/plain": [
       "7"
      ]
     },
     "execution_count": 2,
     "metadata": {},
     "output_type": "execute_result"
    }
   ],
   "source": [
    "#Q1\n",
    "project.get_idx(\"Biomass Energy\")"
   ]
  },
  {
   "cell_type": "code",
   "execution_count": 3,
   "id": "3f6361ba",
   "metadata": {},
   "outputs": [
    {
     "data": {
      "text/plain": [
       "423.513"
      ]
     },
     "execution_count": 3,
     "metadata": {},
     "output_type": "execute_result"
    }
   ],
   "source": [
    "#Q2\n",
    "project.get_consumption(project.get_idx(\"Biomass Energy\"))"
   ]
  },
  {
   "cell_type": "code",
   "execution_count": null,
   "id": "3b52f498",
   "metadata": {},
   "outputs": [],
   "source": [
    "#Q3"
   ]
  },
  {
   "cell_type": "code",
   "execution_count": null,
   "id": "7f6f244f",
   "metadata": {},
   "outputs": [],
   "source": [
    "#Q4"
   ]
  }
 ],
 "metadata": {
  "kernelspec": {
   "display_name": "Python 3",
   "language": "python",
   "name": "python3"
  },
  "language_info": {
   "codemirror_mode": {
    "name": "ipython",
    "version": 3
   },
   "file_extension": ".py",
   "mimetype": "text/x-python",
   "name": "python",
   "nbconvert_exporter": "python",
   "pygments_lexer": "ipython3",
   "version": "3.8.8"
  }
 },
 "nbformat": 4,
 "nbformat_minor": 5
}
