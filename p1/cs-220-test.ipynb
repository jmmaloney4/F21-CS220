{
 "cells": [
  {
   "cell_type": "code",
   "execution_count": 1,
   "id": "522fe952",
   "metadata": {
    "execution": {
     "iopub.execute_input": "2021-09-13T20:43:57.776510Z",
     "iopub.status.busy": "2021-09-13T20:43:57.775384Z",
     "iopub.status.idle": "2021-09-13T20:43:57.779192Z",
     "shell.execute_reply": "2021-09-13T20:43:57.779782Z"
    }
   },
   "outputs": [
    {
     "data": {
      "text/plain": [
       "'Hello World!'"
      ]
     },
     "execution_count": 1,
     "metadata": {},
     "output_type": "execute_result"
    }
   ],
   "source": [
    "#q1\n",
    "name = \"World\"\n",
    "\"Hello \" + name + \"!\""
   ]
  },
  {
   "cell_type": "code",
   "execution_count": 2,
   "id": "acf88b56",
   "metadata": {
    "execution": {
     "iopub.execute_input": "2021-09-13T20:43:57.785105Z",
     "iopub.status.busy": "2021-09-13T20:43:57.784123Z",
     "iopub.status.idle": "2021-09-13T20:43:57.787568Z",
     "shell.execute_reply": "2021-09-13T20:43:57.788145Z"
    }
   },
   "outputs": [
    {
     "data": {
      "text/plain": [
       "2021"
      ]
     },
     "execution_count": 1,
     "metadata": {},
     "output_type": "execute_result"
    }
   ],
   "source": [
    "#q2\n",
    "43*47"
   ]
  },
  {
   "cell_type": "code",
   "execution_count": 3,
   "id": "dd3425b5",
   "metadata": {
    "execution": {
     "iopub.execute_input": "2021-09-13T20:43:57.793369Z",
     "iopub.status.busy": "2021-09-13T20:43:57.792351Z",
     "iopub.status.idle": "2021-09-13T20:43:57.794657Z",
     "shell.execute_reply": "2021-09-13T20:43:57.795294Z"
    }
   },
   "outputs": [],
   "source": [
    "# project: p1\n",
    "# submitter: ccmaloney\n",
    "# partner: jmaloney3\n",
    "# hours: 0.5"
   ]
  }
 ],
 "metadata": {
  "kernelspec": {
   "display_name": "Python 3",
   "language": "python",
   "name": "python3"
  },
  "language_info": {
   "codemirror_mode": {
    "name": "ipython",
    "version": 3
   },
   "file_extension": ".py",
   "mimetype": "text/x-python",
   "name": "python",
   "nbconvert_exporter": "python",
   "pygments_lexer": "ipython3",
   "version": "3.8.8"
  }
 },
 "nbformat": 4,
 "nbformat_minor": 5
}
