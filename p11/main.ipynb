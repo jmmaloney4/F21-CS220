{
 "cells": [
  {
   "cell_type": "code",
   "execution_count": 1,
   "id": "1b01d90e",
   "metadata": {},
   "outputs": [],
   "source": [
    "# project: p11\n",
    "# submitter: jmaloney3\n",
    "# partner: ccmaloney\n",
    "# hours: 7"
   ]
  },
  {
   "cell_type": "code",
   "execution_count": 2,
   "id": "0598662f",
   "metadata": {},
   "outputs": [],
   "source": [
    "import os\n",
    "import json\n",
    "import csv\n",
    "from os import path\n",
    "\n",
    "from collections import namedtuple\n",
    "\n",
    "%matplotlib inline"
   ]
  },
  {
   "cell_type": "code",
   "execution_count": 3,
   "id": "f6a89370",
   "metadata": {},
   "outputs": [],
   "source": [
    "#scatterplots\n",
    "import pandas as pd\n",
    "\n",
    "def scatter(x, y, xlabel=\"please label me!\", ylabel=\"please label me!\"):\n",
    "    df = pd.DataFrame({\"x\":x, \"y\":y})\n",
    "    ax = df.plot.scatter(x=\"x\", y=\"y\", color=\"black\", fontsize=16, xlim=0, ylim=0)\n",
    "    ax.set_xlabel(xlabel, fontsize=16)\n",
    "    ax.set_ylabel(ylabel, fontsize=16)\n",
    "    ax.get_xaxis().get_major_formatter().set_scientific(False)\n",
    "    ax.get_yaxis().get_major_formatter().set_scientific(False)\n",
    "    "
   ]
  },
  {
   "cell_type": "code",
   "execution_count": 4,
   "id": "a979b0f7",
   "metadata": {},
   "outputs": [
    {
     "data": {
      "text/plain": [
       "Tweet(tweet_id='id123', username='user456', num_liked=100, length=140)"
      ]
     },
     "execution_count": 4,
     "metadata": {},
     "output_type": "execute_result"
    }
   ],
   "source": [
    "#p10 functions\n",
    "\n",
    "def process_csv(filename):\n",
    "    example_file = open(filename, encoding=\"utf-8\")\n",
    "    example_reader = csv.reader(example_file)\n",
    "    example_data = list(example_reader)\n",
    "    example_file.close()\n",
    "    return example_data\n",
    "\n",
    "sample_data_path = path.join('sample_data') # path.join('tweets', 'sample_data')\n",
    "full_data_path = path.join('full_data') # path.join('tweets', 'full_data')\n",
    "\n",
    "Tweet = namedtuple('Tweet',['tweet_id', 'username', 'num_liked', 'length'])\n",
    "t = Tweet(\"id123\", \"user456\", 100, 140)\n",
    "t"
   ]
  },
  {
   "cell_type": "code",
   "execution_count": 5,
   "id": "4bcc1189",
   "metadata": {},
   "outputs": [],
   "source": [
    "#p10 cont.\n",
    "\n",
    "def fix_num(s):\n",
    "    if type(s) == int:\n",
    "        return s\n",
    "    m = 1\n",
    "    if type(s) == str:\n",
    "        s = s.upper()\n",
    "        if s.endswith('K'):\n",
    "            m = 1000\n",
    "            s = s[:-1]\n",
    "        elif s.endswith('M'):\n",
    "            m = 1000000\n",
    "            s = s[:-1]\n",
    "    try: return int(s) * m\n",
    "    except ValueError: return 0\n",
    "    \n",
    "def process_tweets(csv_file):\n",
    "    header = csv_file[0]\n",
    "    csv_file = csv_file[1:]\n",
    "    id_idx = header.index(\"tweet_id\")\n",
    "    user_idx = header.index(\"username\")\n",
    "    liked_idx = header.index(\"num_liked\")\n",
    "    text_idx = header.index(\"tweet_text\")\n",
    "    \n",
    "    def process_tweet(row):\n",
    "        if len(row) != len(header):\n",
    "            return None\n",
    "        return(Tweet(\n",
    "            row[id_idx], \n",
    "            row[user_idx], \n",
    "            fix_num(row[liked_idx]),\n",
    "            len(row[text_idx])))\n",
    "        \n",
    "    return list(filter(lambda x: x != None, map(process_tweet, csv_file)))"
   ]
  },
  {
   "cell_type": "code",
   "execution_count": 6,
   "id": "e26c2e63",
   "metadata": {},
   "outputs": [],
   "source": [
    "#p10 cont.\n",
    "\n",
    "def process_json_tweets(data):\n",
    "    def process_json_tweet(i, data):\n",
    "        return(Tweet(i, data['username'],fix_num(data['num_liked']),len(data['tweet_text'])))\n",
    "    return list(map(lambda x: process_json_tweet(x[0], x[1]), data.items()))\n",
    "    \n",
    "def read_json(file):\n",
    "    f = open(file, encoding=\"utf-8\")\n",
    "    try:\n",
    "        data = json.load(f)\n",
    "    except:\n",
    "        data = {}\n",
    "    f.close()\n",
    "    return data\n",
    "\n",
    "def load_tweets(file):\n",
    "    if file.endswith('.json'):\n",
    "        return process_json_tweets(read_json(file))\n",
    "    elif file.endswith('.csv'):\n",
    "        return process_tweets(process_csv(file))\n",
    "    else:\n",
    "        return []\n",
    "\n",
    "def list_dir(p):\n",
    "    return list(map(lambda x: path.join(p, x), os.listdir(p)))\n",
    "    \n",
    "def load_dir(p):\n",
    "    return list(map(lambda x: (x, load_tweets(x)), list_dir(p)))\n",
    "    \n",
    "def tweets_greater_than(textLength, directory):\n",
    "    tweets = map(lambda x: load_tweets(x), list_dir(directory))\n",
    "    tweets = [y for x in tweets for y in x if y.length > textLength]\n",
    "    return tweets\n",
    "\n",
    "def contains_tweet(i, l):\n",
    "    return len(list(filter(lambda x: x.tweet_id == i, l))) != 0\n",
    "\n",
    "def find_tweet(i, p):\n",
    "    return list(map(lambda x: x[0], filter(lambda x: contains_tweet(i, x[1]), load_dir(p))))\n",
    "\n",
    "def contains_user(u, l):\n",
    "    return len(list(filter(lambda x: x.username == u, l))) != 0\n",
    "\n",
    "def find_user(u, p):\n",
    "    return list(map(lambda x: x[0], filter(lambda x: contains_user(u, x[1]), load_dir(p))))\n",
    "\n",
    "def unique(l):\n",
    "    return list(set(l))"
   ]
  },
  {
   "cell_type": "code",
   "execution_count": 7,
   "id": "cc4789ee",
   "metadata": {},
   "outputs": [],
   "source": [
    "def reduce(f, i, initial = None):\n",
    "    if initial == None:\n",
    "        try:\n",
    "            rv = next(i)\n",
    "        except StopIteration:\n",
    "            print(\"Out\")\n",
    "            return None\n",
    "    else:\n",
    "        rv = initial\n",
    "    \n",
    "    for j in i:\n",
    "        rv = f(rv, j)\n",
    "    return rv\n",
    "\n",
    "def bucketize_reduce(d, row, key, value):\n",
    "    k = key(row)\n",
    "    if type(k) == list:\n",
    "        for i in k:\n",
    "            bucketize_reduce(d, (i, value(row)), lambda x: x[0], lambda x: x[1])\n",
    "    else:\n",
    "        if not k in d:\n",
    "            d[k] = []\n",
    "        d[k].append(value(row))\n",
    "    return d\n",
    "\n",
    "def bucketize(l, key = lambda x: x[0], value = lambda x: x[1]):\n",
    "    return reduce(lambda d, row: bucketize_reduce(d, row, key, value), l, initial = {})\n",
    "\n",
    "\n"
   ]
  },
  {
   "cell_type": "code",
   "execution_count": 8,
   "id": "2b2d911c",
   "metadata": {},
   "outputs": [
    {
     "data": {
      "text/plain": [
       "131"
      ]
     },
     "execution_count": 8,
     "metadata": {},
     "output_type": "execute_result"
    }
   ],
   "source": [
    "#Q1: How many unique tweet lengths are present in the dataset?\n",
    "all_tweets = tweets_greater_than(-1, full_data_path)\n",
    "all_tweets = list(filter(lambda x: x.num_liked != None, all_tweets))\n",
    "\n",
    "\n",
    "all_full_data = tweets_greater_than(-1, full_data_path)\n",
    "\n",
    "len(unique(map(lambda x: x.length, all_full_data)))\n",
    "\n",
    "\n"
   ]
  },
  {
   "cell_type": "code",
   "execution_count": 9,
   "id": "d3f811d7",
   "metadata": {},
   "outputs": [
    {
     "data": {
      "text/plain": [
       "['USERID_4',\n",
       " 'USERID_7',\n",
       " 'USERID_5',\n",
       " 'USERID_6',\n",
       " 'USERID_8',\n",
       " 'USERID_9',\n",
       " 'USERID_2',\n",
       " 'USERID_1',\n",
       " 'USERID_3',\n",
       " 'USERID_10']"
      ]
     },
     "execution_count": 9,
     "metadata": {},
     "output_type": "execute_result"
    }
   ],
   "source": [
    "#Q2: Which usernames appear in the dataset?\n",
    "list(unique(map(lambda x: x.username, all_full_data)))"
   ]
  },
  {
   "cell_type": "code",
   "execution_count": 10,
   "id": "3c543f1c",
   "metadata": {},
   "outputs": [
    {
     "data": {
      "text/plain": [
       "{'USERID_1': 52,\n",
       " 'USERID_2': 47,\n",
       " 'USERID_6': 51,\n",
       " 'USERID_7': 55,\n",
       " 'USERID_4': 35,\n",
       " 'USERID_8': 31,\n",
       " 'USERID_5': 46,\n",
       " 'USERID_10': 45,\n",
       " 'USERID_9': 44,\n",
       " 'USERID_3': 39}"
      ]
     },
     "execution_count": 10,
     "metadata": {},
     "output_type": "execute_result"
    }
   ],
   "source": [
    " #Q3: How **prolific** is each user?\n",
    "def bucketize_by_username(data):\n",
    "    d = {}\n",
    "    for i in data:\n",
    "        if i.username not in d:\n",
    "            d[i.username] = [i]\n",
    "        else:\n",
    "            d[i.username].append(i)\n",
    "            \n",
    "    return d   \n",
    "#bucketize_by_username(all_full_data)\n",
    "\n",
    "buckets_of_data = bucketize(all_full_data, key = lambda x: x.username, value = lambda x: x)\n",
    "buckets_of_data\n",
    "\n",
    "num_tweets = list(map(lambda x: len(buckets_of_data[str(x)]) ,buckets_of_data))\n",
    "users = list(map(lambda x: x, buckets_of_data))\n",
    "num_tweets_per_user = dict(zip(users,num_tweets))\n",
    "num_tweets_per_user\n"
   ]
  },
  {
   "cell_type": "code",
   "execution_count": 11,
   "id": "5e0d1bb0",
   "metadata": {},
   "outputs": [
    {
     "data": {
      "text/plain": [
       "{'USERID_1': 150,\n",
       " 'USERID_2': 138,\n",
       " 'USERID_6': 145,\n",
       " 'USERID_7': 144,\n",
       " 'USERID_4': 138,\n",
       " 'USERID_8': 145,\n",
       " 'USERID_5': 146,\n",
       " 'USERID_10': 136,\n",
       " 'USERID_9': 137,\n",
       " 'USERID_3': 138}"
      ]
     },
     "execution_count": 11,
     "metadata": {},
     "output_type": "execute_result"
    }
   ],
   "source": [
    " #Q4: What is the length of the longest tweet for each user?\n",
    "def max_length(data):\n",
    "    longest_tweet = max(data, key = lambda x: x.length)\n",
    "    return longest_tweet\n",
    "\n",
    "longest_tweets = list(map(lambda x: max_length(x[1]), buckets_of_data.items()))\n",
    "longest_tweet_per_user = dict(map(lambda x: (x.username, x.length), longest_tweets))\n",
    "\n",
    "longest_tweet_per_user\n",
    "    "
   ]
  },
  {
   "cell_type": "code",
   "execution_count": 12,
   "id": "a0c6c0f2",
   "metadata": {},
   "outputs": [
    {
     "data": {
      "text/plain": [
       "{'USERID_1': 9393,\n",
       " 'USERID_2': 869000000,\n",
       " 'USERID_6': 9149,\n",
       " 'USERID_7': 9851,\n",
       " 'USERID_4': 9618,\n",
       " 'USERID_8': 915000,\n",
       " 'USERID_5': 9608,\n",
       " 'USERID_10': 9936,\n",
       " 'USERID_9': 9728,\n",
       " 'USERID_3': 9678}"
      ]
     },
     "execution_count": 12,
     "metadata": {},
     "output_type": "execute_result"
    }
   ],
   "source": [
    "#Q5: What is the largest number of likes received on a tweet for each user?\n",
    "def max_likes(data):\n",
    "    most_liked_tweet = max(data, key = lambda x: x.num_liked)\n",
    "    return most_liked_tweet\n",
    "most_liked_tweets = list(map(lambda x: max_likes(x[1]), buckets_of_data.items()))\n",
    "most_likes_per_user = dict(map(lambda x: (x.username, x.num_liked), most_liked_tweets))\n",
    "most_likes_per_user\n"
   ]
  },
  {
   "cell_type": "code",
   "execution_count": 14,
   "id": "72768a40",
   "metadata": {},
   "outputs": [
    {
     "data": {
      "image/png": "[encoded data removed]",
      "text/plain": [
       "<Figure size 432x288 with 1 Axes>"
      ]
     },
     "metadata": {
      "needs_background": "light"
     },
     "output_type": "display_data"
    }
   ],
   "source": [
    "#Q6: What is the relationship between the number of tweets by a user and the length of their longest tweet?\n",
    "scatter(num_tweets_per_user, longest_tweet_per_user, xlabel = \"number of tweets\", ylabel = \"longest length\")"
   ]
  },
  {
   "cell_type": "code",
   "execution_count": 16,
   "id": "5aae40a0",
   "metadata": {},
   "outputs": [
    {
     "data": {
      "image/png": "[encoded data removed]",
      "text/plain": [
       "<Figure size 432x288 with 1 Axes>"
      ]
     },
     "metadata": {
      "needs_background": "light"
     },
     "output_type": "display_data"
    }
   ],
   "source": [
    "#Q7: What is the relationship between the number of tweets and the largest number of likes?\n",
    "scatter(num_tweets_per_user, most_likes_per_user, xlabel = \"number of tweets\", ylabel = \"largest number of likes\")"
   ]
  },
  {
   "cell_type": "code",
   "execution_count": 17,
   "id": "0e99b3da",
   "metadata": {},
   "outputs": [
    {
     "data": {
      "image/png": "[encoded data removed]",
      "text/plain": [
       "<Figure size 432x288 with 1 Axes>"
      ]
     },
     "metadata": {
      "needs_background": "light"
     },
     "output_type": "display_data"
    }
   ],
   "source": [
    "#Q8: What is the relationship between the length of their longest tweet and the largest number of likes?\n",
    "scatter(longest_tweet_per_user, most_likes_per_user, xlabel = \"longest tweet\", ylabel = \"largest number of likes\")"
   ]
  },
  {
   "cell_type": "code",
   "execution_count": 26,
   "id": "7cdbe19a",
   "metadata": {},
   "outputs": [
    {
     "data": {
      "text/plain": [
       "'USERID_2'"
      ]
     },
     "execution_count": 26,
     "metadata": {},
     "output_type": "execute_result"
    }
   ],
   "source": [
    "#Q9: What is the username of the user represented by the outlier in the last two plots?\n",
    "outlier_user = sorted(most_likes_per_user.items(), key = lambda x: x[1])[-1][0]\n",
    "outlier_user"
   ]
  },
  {
   "cell_type": "code",
   "execution_count": 32,
   "id": "c34c51f0",
   "metadata": {},
   "outputs": [
    {
     "data": {
      "text/plain": [
       "[Tweet(tweet_id='1467894593', username='USERID_2', num_liked=869000000, length=136),\n",
       " Tweet(tweet_id='1467875163', username='USERID_2', num_liked=9891, length=69),\n",
       " Tweet(tweet_id='1467862806', username='USERID_2', num_liked=9465, length=68),\n",
       " Tweet(tweet_id='1467907751', username='USERID_2', num_liked=9048, length=110),\n",
       " Tweet(tweet_id='1467928764', username='USERID_2', num_liked=9026, length=41),\n",
       " Tweet(tweet_id='1467943007', username='USERID_2', num_liked=9000, length=130),\n",
       " Tweet(tweet_id='1467918682', username='USERID_2', num_liked=8884, length=102),\n",
       " Tweet(tweet_id='1467935121', username='USERID_2', num_liked=8740, length=37),\n",
       " Tweet(tweet_id='1467947913', username='USERID_2', num_liked=8578, length=36),\n",
       " Tweet(tweet_id='1467892667', username='USERID_2', num_liked=8270, length=20),\n",
       " Tweet(tweet_id='1467897316', username='USERID_2', num_liked=7890, length=64),\n",
       " Tweet(tweet_id='1467854917', username='USERID_2', num_liked=7741, length=30),\n",
       " Tweet(tweet_id='1467961106', username='USERID_2', num_liked=7552, length=65),\n",
       " Tweet(tweet_id='1467951252', username='USERID_2', num_liked=7515, length=48),\n",
       " Tweet(tweet_id='1467889988', username='USERID_2', num_liked=7394, length=51),\n",
       " Tweet(tweet_id='1467916959', username='USERID_2', num_liked=7081, length=69),\n",
       " Tweet(tweet_id='1467874916', username='USERID_2', num_liked=6935, length=23),\n",
       " Tweet(tweet_id='1467855981', username='USERID_2', num_liked=6455, length=92),\n",
       " Tweet(tweet_id='1467872247', username='USERID_2', num_liked=6316, length=137),\n",
       " Tweet(tweet_id='1467918850', username='USERID_2', num_liked=5383, length=103),\n",
       " Tweet(tweet_id='1467919055', username='USERID_2', num_liked=5370, length=68),\n",
       " Tweet(tweet_id='1467915670', username='USERID_2', num_liked=5287, length=138),\n",
       " Tweet(tweet_id='1467880442', username='USERID_2', num_liked=5125, length=96),\n",
       " Tweet(tweet_id='1467896253', username='USERID_2', num_liked=4906, length=91),\n",
       " Tweet(tweet_id='1467962897', username='USERID_2', num_liked=4898, length=98),\n",
       " Tweet(tweet_id='1467855812', username='USERID_2', num_liked=4806, length=28),\n",
       " Tweet(tweet_id='1467930220', username='USERID_2', num_liked=4770, length=94),\n",
       " Tweet(tweet_id='1467852031', username='USERID_2', num_liked=4565, length=63),\n",
       " Tweet(tweet_id='1467905378', username='USERID_2', num_liked=4420, length=111),\n",
       " Tweet(tweet_id='1467877833', username='USERID_2', num_liked=4270, length=89),\n",
       " Tweet(tweet_id='1467870866', username='USERID_2', num_liked=4166, length=82),\n",
       " Tweet(tweet_id='1467879984', username='USERID_2', num_liked=3694, length=69),\n",
       " Tweet(tweet_id='1467898511', username='USERID_2', num_liked=3477, length=99),\n",
       " Tweet(tweet_id='1467926632', username='USERID_2', num_liked=2602, length=98),\n",
       " Tweet(tweet_id='1467862213', username='USERID_2', num_liked=2455, length=138),\n",
       " Tweet(tweet_id='1467878633', username='USERID_2', num_liked=2351, length=33),\n",
       " Tweet(tweet_id='1467878971', username='USERID_2', num_liked=2238, length=27),\n",
       " Tweet(tweet_id='1467953090', username='USERID_2', num_liked=1896, length=64),\n",
       " Tweet(tweet_id='1467908798', username='USERID_2', num_liked=1659, length=51),\n",
       " Tweet(tweet_id='1467918015', username='USERID_2', num_liked=1508, length=97),\n",
       " Tweet(tweet_id='1467926444', username='USERID_2', num_liked=1394, length=61),\n",
       " Tweet(tweet_id='1467914499', username='USERID_2', num_liked=910, length=138),\n",
       " Tweet(tweet_id='1467968584', username='USERID_2', num_liked=777, length=132),\n",
       " Tweet(tweet_id='1467933102', username='USERID_2', num_liked=625, length=135),\n",
       " Tweet(tweet_id='1467953277', username='USERID_2', num_liked=494, length=31),\n",
       " Tweet(tweet_id='1467890222', username='USERID_2', num_liked=227, length=107),\n",
       " Tweet(tweet_id='1467871956', username='USERID_2', num_liked=110, length=68)]"
      ]
     },
     "execution_count": 32,
     "metadata": {},
     "output_type": "execute_result"
    }
   ],
   "source": [
    "#Q10: What are the tweets made by that outlier user?\n",
    "sorted(buckets_of_data[outlier_user], key = lambda x: x.num_liked, reverse = True)\n"
   ]
  },
  {
   "cell_type": "code",
   "execution_count": 33,
   "id": "5443c5c6",
   "metadata": {},
   "outputs": [],
   "source": [
    "#Q11: After excluding the outlier tweet of this outlier user (found in q10), what is the average of the remaining num_liked values for this user?"
   ]
  },
  {
   "cell_type": "code",
   "execution_count": 34,
   "id": "2a68744f",
   "metadata": {},
   "outputs": [],
   "source": [
    "#Q12: If we exclude the top 3 most-liked tweets (among all tweets), what is the relationship between the number of tweets and the largest number of likes?\n"
   ]
  },
  {
   "cell_type": "code",
   "execution_count": null,
   "id": "29084619",
   "metadata": {},
   "outputs": [],
   "source": []
  }
 ],
 "metadata": {
  "kernelspec": {
   "display_name": "Python 3",
   "language": "python",
   "name": "python3"
  },
  "language_info": {
   "codemirror_mode": {
    "name": "ipython",
    "version": 3
   },
   "file_extension": ".py",
   "mimetype": "text/x-python",
   "name": "python",
   "nbconvert_exporter": "python",
   "pygments_lexer": "ipython3",
   "version": "3.8.8"
  }
 },
 "nbformat": 4,
 "nbformat_minor": 5
}
