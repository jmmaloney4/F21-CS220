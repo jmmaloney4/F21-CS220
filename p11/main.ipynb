{
 "cells": [
  {
   "cell_type": "code",
   "execution_count": 29,
   "id": "1b01d90e",
   "metadata": {},
   "outputs": [],
   "source": [
    "# project: p11\n",
    "# submitter: ccmaloney\n",
    "# partner: jmaloney3\n",
    "# hours: 6"
   ]
  },
  {
   "cell_type": "code",
   "execution_count": 2,
   "id": "7ca32a35",
   "metadata": {},
   "outputs": [],
   "source": [
    "import os\n",
    "import json\n",
    "import csv\n",
    "from os import path\n",
    "\n",
    "from collections import namedtuple\n",
    "\n",
    "%matplotlib inline"
   ]
  },
  {
   "cell_type": "code",
   "execution_count": 3,
   "id": "36664de3",
   "metadata": {},
   "outputs": [],
   "source": [
    "#scatterplots\n",
    "import pandas as pd\n",
    "\n",
    "def scatter(x, y, xlabel=\"please label me!\", ylabel=\"please label me!\"):\n",
    "    df = pd.DataFrame({\"x\":x, \"y\":y})\n",
    "    ax = df.plot.scatter(x=\"x\", y=\"y\", color=\"black\", fontsize=16, xlim=0, ylim=0)\n",
    "    ax.set_xlabel(xlabel, fontsize=16)\n",
    "    ax.set_ylabel(ylabel, fontsize=16)\n",
    "    ax.get_xaxis().get_major_formatter().set_scientific(False)\n",
    "    ax.get_yaxis().get_major_formatter().set_scientific(False)\n",
    "    "
   ]
  },
  {
   "cell_type": "code",
   "execution_count": 4,
   "id": "8c7fc276",
   "metadata": {},
   "outputs": [],
   "source": [
    "#p10 functions\n",
    "\n",
    "Tweet = namedtuple('Tweet',['tweet_id', 'username', 'num_liked', 'length'])\n",
    "\n",
    "\n",
    "def process_csv(filename):\n",
    "    example_file = open(filename, encoding=\"utf-8\")\n",
    "    example_reader = csv.reader(example_file)\n",
    "    example_data = list(example_reader)\n",
    "    example_file.close()\n",
    "    return example_data\n",
    "\n",
    "sample_data_path = path.join('sample_data') # path.join('tweets', 'sample_data')\n",
    "full_data_path = path.join('full_data') # path.join('tweets', 'full_data')\n",
    "\n"
   ]
  },
  {
   "cell_type": "code",
   "execution_count": 5,
   "id": "70fa3d6a",
   "metadata": {},
   "outputs": [],
   "source": [
    "#p10 cont.\n",
    "\n",
    "def fix_num(s):\n",
    "    if type(s) == int:\n",
    "        return s\n",
    "    m = 1\n",
    "    if type(s) == str:\n",
    "        s = s.upper()\n",
    "        if s.endswith('K'):\n",
    "            m = 1000\n",
    "            s = s[:-1]\n",
    "        elif s.endswith('M'):\n",
    "            m = 1000000\n",
    "            s = s[:-1]\n",
    "    try: return int(s) * m\n",
    "    except ValueError: return 0\n",
    "    \n",
    "def process_tweets(csv_file):\n",
    "    header = csv_file[0]\n",
    "    csv_file = csv_file[1:]\n",
    "    id_idx = header.index(\"tweet_id\")\n",
    "    user_idx = header.index(\"username\")\n",
    "    liked_idx = header.index(\"num_liked\")\n",
    "    text_idx = header.index(\"tweet_text\")\n",
    "    \n",
    "    def process_tweet(row):\n",
    "        if len(row) != len(header):\n",
    "            return None\n",
    "        return(Tweet(\n",
    "            row[id_idx], \n",
    "            row[user_idx], \n",
    "            fix_num(row[liked_idx]),\n",
    "            len(row[text_idx])))\n",
    "        \n",
    "    return list(filter(lambda x: x != None, map(process_tweet, csv_file)))"
   ]
  },
  {
   "cell_type": "code",
   "execution_count": 6,
   "id": "0626334b",
   "metadata": {},
   "outputs": [],
   "source": [
    "#p10 cont.\n",
    "\n",
    "def process_json_tweets(data):\n",
    "    def process_json_tweet(i, data):\n",
    "        return(Tweet(i, data['username'],fix_num(data['num_liked']),len(data['tweet_text'])))\n",
    "    return list(map(lambda x: process_json_tweet(x[0], x[1]), data.items()))\n",
    "    \n",
    "def read_json(file):\n",
    "    f = open(file, encoding=\"utf-8\")\n",
    "    try:\n",
    "        data = json.load(f)\n",
    "    except:\n",
    "        data = {}\n",
    "    f.close()\n",
    "    return data\n",
    "\n",
    "def load_tweets(file):\n",
    "    if file.endswith('.json'):\n",
    "        return process_json_tweets(read_json(file))\n",
    "    elif file.endswith('.csv'):\n",
    "        return process_tweets(process_csv(file))\n",
    "    else:\n",
    "        return []\n",
    "\n",
    "def list_dir(p):\n",
    "    return list(map(lambda x: path.join(p, x), os.listdir(p)))\n",
    "    \n",
    "def load_dir(p):\n",
    "    return list(map(lambda x: (x, load_tweets(x)), list_dir(p)))\n",
    "    \n",
    "def tweets_greater_than(textLength, directory):\n",
    "    tweets = map(lambda x: load_tweets(x), list_dir(directory))\n",
    "    tweets = [y for x in tweets for y in x if y.length > textLength]\n",
    "    return tweets\n",
    "\n",
    "def contains_tweet(i, l):\n",
    "    return len(list(filter(lambda x: x.tweet_id == i, l))) != 0\n",
    "\n",
    "def find_tweet(i, p):\n",
    "    return list(map(lambda x: x[0], filter(lambda x: contains_tweet(i, x[1]), load_dir(p))))\n",
    "\n",
    "def contains_user(u, l):\n",
    "    return len(list(filter(lambda x: x.username == u, l))) != 0\n",
    "\n",
    "def find_user(u, p):\n",
    "    return list(map(lambda x: x[0], filter(lambda x: contains_user(u, x[1]), load_dir(p))))\n",
    "\n",
    "def unique(l):\n",
    "    return list(set(l))"
   ]
  },
  {
   "cell_type": "code",
   "execution_count": 7,
   "id": "bd14088e",
   "metadata": {},
   "outputs": [],
   "source": [
    "def reduce(f, i, initial = None):\n",
    "    if initial == None:\n",
    "        try:\n",
    "            rv = next(i)\n",
    "        except StopIteration:\n",
    "            print(\"Out\")\n",
    "            return None\n",
    "    else:\n",
    "        rv = initial\n",
    "    \n",
    "    for j in i:\n",
    "        rv = f(rv, j)\n",
    "    return rv\n",
    "\n",
    "def bucketize_reduce(d, row, key, value):\n",
    "    k = key(row)\n",
    "    if type(k) == list:\n",
    "        for i in k:\n",
    "            bucketize_reduce(d, (i, value(row)), lambda x: x[0], lambda x: x[1])\n",
    "    else:\n",
    "        if not k in d:\n",
    "            d[k] = []\n",
    "        d[k].append(value(row))\n",
    "    return d\n",
    "\n",
    "def bucketize(l, key = lambda x: x[0], value = lambda x: x[1]):\n",
    "    return reduce(lambda d, row: bucketize_reduce(d, row, key, value), l, initial = {})\n",
    "\n",
    "def mean(l, key = lambda x: x):\n",
    "    l = list(l)\n",
    "    return sum(map(key, l)) / len(l)\n"
   ]
  },
  {
   "cell_type": "code",
   "execution_count": 8,
   "id": "2b2d911c",
   "metadata": {},
   "outputs": [
    {
     "data": {
      "text/plain": [
       "131"
      ]
     },
     "execution_count": 8,
     "metadata": {},
     "output_type": "execute_result"
    }
   ],
   "source": [
    "#Q1: How many unique tweet lengths are present in the dataset?\n",
    "all_full_data = tweets_greater_than(-1, full_data_path)\n",
    "\n",
    "len(unique(map(lambda x: x.length, all_full_data)))\n"
   ]
  },
  {
   "cell_type": "code",
   "execution_count": 9,
   "id": "5ad88715",
   "metadata": {},
   "outputs": [
    {
     "data": {
      "text/plain": [
       "['USERID_9',\n",
       " 'USERID_3',\n",
       " 'USERID_5',\n",
       " 'USERID_2',\n",
       " 'USERID_7',\n",
       " 'USERID_4',\n",
       " 'USERID_8',\n",
       " 'USERID_10',\n",
       " 'USERID_6',\n",
       " 'USERID_1']"
      ]
     },
     "execution_count": 9,
     "metadata": {},
     "output_type": "execute_result"
    }
   ],
   "source": [
    "#Q2: Which usernames appear in the dataset?\n",
    "list(unique(map(lambda x: x.username, all_full_data)))"
   ]
  },
  {
   "cell_type": "code",
   "execution_count": 10,
   "id": "53523c9e",
   "metadata": {},
   "outputs": [
    {
     "data": {
      "text/plain": [
       "{'USERID_1': 52,\n",
       " 'USERID_2': 47,\n",
       " 'USERID_6': 51,\n",
       " 'USERID_7': 55,\n",
       " 'USERID_4': 35,\n",
       " 'USERID_8': 31,\n",
       " 'USERID_5': 46,\n",
       " 'USERID_10': 45,\n",
       " 'USERID_9': 44,\n",
       " 'USERID_3': 39}"
      ]
     },
     "execution_count": 10,
     "metadata": {},
     "output_type": "execute_result"
    }
   ],
   "source": [
    " #Q3: How **prolific** is each user?\n",
    "    \n",
    "buckets_of_data = bucketize(all_full_data, key = lambda x: x.username, value = lambda x: x)\n",
    "buckets_of_data\n",
    "\n",
    "num_tweets = list(map(lambda x: len(buckets_of_data[str(x)]) ,buckets_of_data))\n",
    "users = list(map(lambda x: x, buckets_of_data))\n",
    "num_tweets_per_user = dict(zip(users,num_tweets))\n",
    "num_tweets_per_user\n"
   ]
  },
  {
   "cell_type": "code",
   "execution_count": 11,
   "id": "00e61e0a",
   "metadata": {},
   "outputs": [
    {
     "data": {
      "text/plain": [
       "{'USERID_1': 150,\n",
       " 'USERID_2': 138,\n",
       " 'USERID_6': 145,\n",
       " 'USERID_7': 144,\n",
       " 'USERID_4': 138,\n",
       " 'USERID_8': 145,\n",
       " 'USERID_5': 146,\n",
       " 'USERID_10': 136,\n",
       " 'USERID_9': 137,\n",
       " 'USERID_3': 138}"
      ]
     },
     "execution_count": 11,
     "metadata": {},
     "output_type": "execute_result"
    }
   ],
   "source": [
    " #Q4: What is the length of the longest tweet for each user?\n",
    "def max_length(data):\n",
    "    longest_tweet = max(data, key = lambda x: x.length)\n",
    "    return longest_tweet\n",
    "\n",
    "longest_tweets = list(map(lambda x: max_length(x[1]), buckets_of_data.items()))\n",
    "longest_tweet_per_user = dict(map(lambda x: (x.username, x.length), longest_tweets))\n",
    "\n",
    "longest_tweet_per_user\n",
    "    "
   ]
  },
  {
   "cell_type": "code",
   "execution_count": 12,
   "id": "dfa908e5",
   "metadata": {},
   "outputs": [
    {
     "data": {
      "text/plain": [
       "{'USERID_1': 9393,\n",
       " 'USERID_2': 869000000,\n",
       " 'USERID_6': 9149,\n",
       " 'USERID_7': 9851,\n",
       " 'USERID_4': 9618,\n",
       " 'USERID_8': 915000,\n",
       " 'USERID_5': 9608,\n",
       " 'USERID_10': 9936,\n",
       " 'USERID_9': 9728,\n",
       " 'USERID_3': 9678}"
      ]
     },
     "execution_count": 12,
     "metadata": {},
     "output_type": "execute_result"
    }
   ],
   "source": [
    "#Q5: What is the largest number of likes received on a tweet for each user?\n",
    "def most_attrs_per_user(attr, buckets):\n",
    "    most_liked_tweets = map(lambda x: max(x[1], key = attr), buckets.items())\n",
    "    return dict(map(lambda x: (x.username, x.num_liked), most_liked_tweets))\n",
    "    \n",
    "most_likes_per_user = most_attrs_per_user(lambda x: x.num_liked, buckets_of_data)\n",
    "most_likes_per_user"
   ]
  },
  {
   "cell_type": "code",
   "execution_count": 13,
   "id": "3b042103",
   "metadata": {},
   "outputs": [
    {
     "data": {
      "image/png": "[encoded data removed]",
      "text/plain": [
       "<Figure size 432x288 with 1 Axes>"
      ]
     },
     "metadata": {
      "needs_background": "light"
     },
     "output_type": "display_data"
    }
   ],
   "source": [
    "#Q6: What is the relationship between the number of tweets by a user and the length of their longest tweet?\n",
    "scatter(num_tweets_per_user, longest_tweet_per_user, xlabel = \"number of tweets\", ylabel = \"longest length\")"
   ]
  },
  {
   "cell_type": "code",
   "execution_count": 14,
   "id": "9e21f68a",
   "metadata": {},
   "outputs": [
    {
     "data": {
      "image/png": "[encoded data removed]",
      "text/plain": [
       "<Figure size 432x288 with 1 Axes>"
      ]
     },
     "metadata": {
      "needs_background": "light"
     },
     "output_type": "display_data"
    }
   ],
   "source": [
    "#Q7: What is the relationship between the number of tweets and the largest number of likes?\n",
    "scatter(num_tweets_per_user, most_likes_per_user, xlabel = \"number of tweets\", ylabel = \"largest number of likes\")"
   ]
  },
  {
   "cell_type": "code",
   "execution_count": 15,
   "id": "d0f1ad4c",
   "metadata": {},
   "outputs": [
    {
     "data": {
      "image/png": "[encoded data removed]",
      "text/plain": [
       "<Figure size 432x288 with 1 Axes>"
      ]
     },
     "metadata": {
      "needs_background": "light"
     },
     "output_type": "display_data"
    }
   ],
   "source": [
    "#Q8: What is the relationship between the length of their longest tweet and the largest number of likes?\n",
    "scatter(longest_tweet_per_user, most_likes_per_user, xlabel = \"longest tweet\", ylabel = \"largest number of likes\")"
   ]
  },
  {
   "cell_type": "code",
   "execution_count": 16,
   "id": "e0d6dd64",
   "metadata": {},
   "outputs": [
    {
     "data": {
      "text/plain": [
       "'USERID_2'"
      ]
     },
     "execution_count": 16,
     "metadata": {},
     "output_type": "execute_result"
    }
   ],
   "source": [
    "#Q9: What is the username of the user represented by the outlier in the last two plots?\n",
    "outlier_user = sorted(most_likes_per_user.items(), key = lambda x: x[1])[-1][0]\n",
    "outlier_user"
   ]
  },
  {
   "cell_type": "code",
   "execution_count": 17,
   "id": "fa2636de",
   "metadata": {},
   "outputs": [
    {
     "data": {
      "text/plain": [
       "[Tweet(tweet_id='1467894593', username='USERID_2', num_liked=869000000, length=136),\n",
       " Tweet(tweet_id='1467875163', username='USERID_2', num_liked=9891, length=69),\n",
       " Tweet(tweet_id='1467862806', username='USERID_2', num_liked=9465, length=68),\n",
       " Tweet(tweet_id='1467907751', username='USERID_2', num_liked=9048, length=110),\n",
       " Tweet(tweet_id='1467928764', username='USERID_2', num_liked=9026, length=41),\n",
       " Tweet(tweet_id='1467943007', username='USERID_2', num_liked=9000, length=130),\n",
       " Tweet(tweet_id='1467918682', username='USERID_2', num_liked=8884, length=102),\n",
       " Tweet(tweet_id='1467935121', username='USERID_2', num_liked=8740, length=37),\n",
       " Tweet(tweet_id='1467947913', username='USERID_2', num_liked=8578, length=36),\n",
       " Tweet(tweet_id='1467892667', username='USERID_2', num_liked=8270, length=20),\n",
       " Tweet(tweet_id='1467897316', username='USERID_2', num_liked=7890, length=64),\n",
       " Tweet(tweet_id='1467854917', username='USERID_2', num_liked=7741, length=30),\n",
       " Tweet(tweet_id='1467961106', username='USERID_2', num_liked=7552, length=65),\n",
       " Tweet(tweet_id='1467951252', username='USERID_2', num_liked=7515, length=48),\n",
       " Tweet(tweet_id='1467889988', username='USERID_2', num_liked=7394, length=51),\n",
       " Tweet(tweet_id='1467916959', username='USERID_2', num_liked=7081, length=69),\n",
       " Tweet(tweet_id='1467874916', username='USERID_2', num_liked=6935, length=23),\n",
       " Tweet(tweet_id='1467855981', username='USERID_2', num_liked=6455, length=92),\n",
       " Tweet(tweet_id='1467872247', username='USERID_2', num_liked=6316, length=137),\n",
       " Tweet(tweet_id='1467918850', username='USERID_2', num_liked=5383, length=103),\n",
       " Tweet(tweet_id='1467919055', username='USERID_2', num_liked=5370, length=68),\n",
       " Tweet(tweet_id='1467915670', username='USERID_2', num_liked=5287, length=138),\n",
       " Tweet(tweet_id='1467880442', username='USERID_2', num_liked=5125, length=96),\n",
       " Tweet(tweet_id='1467896253', username='USERID_2', num_liked=4906, length=91),\n",
       " Tweet(tweet_id='1467962897', username='USERID_2', num_liked=4898, length=98),\n",
       " Tweet(tweet_id='1467855812', username='USERID_2', num_liked=4806, length=28),\n",
       " Tweet(tweet_id='1467930220', username='USERID_2', num_liked=4770, length=94),\n",
       " Tweet(tweet_id='1467852031', username='USERID_2', num_liked=4565, length=63),\n",
       " Tweet(tweet_id='1467905378', username='USERID_2', num_liked=4420, length=111),\n",
       " Tweet(tweet_id='1467877833', username='USERID_2', num_liked=4270, length=89),\n",
       " Tweet(tweet_id='1467870866', username='USERID_2', num_liked=4166, length=82),\n",
       " Tweet(tweet_id='1467879984', username='USERID_2', num_liked=3694, length=69),\n",
       " Tweet(tweet_id='1467898511', username='USERID_2', num_liked=3477, length=99),\n",
       " Tweet(tweet_id='1467926632', username='USERID_2', num_liked=2602, length=98),\n",
       " Tweet(tweet_id='1467862213', username='USERID_2', num_liked=2455, length=138),\n",
       " Tweet(tweet_id='1467878633', username='USERID_2', num_liked=2351, length=33),\n",
       " Tweet(tweet_id='1467878971', username='USERID_2', num_liked=2238, length=27),\n",
       " Tweet(tweet_id='1467953090', username='USERID_2', num_liked=1896, length=64),\n",
       " Tweet(tweet_id='1467908798', username='USERID_2', num_liked=1659, length=51),\n",
       " Tweet(tweet_id='1467918015', username='USERID_2', num_liked=1508, length=97),\n",
       " Tweet(tweet_id='1467926444', username='USERID_2', num_liked=1394, length=61),\n",
       " Tweet(tweet_id='1467914499', username='USERID_2', num_liked=910, length=138),\n",
       " Tweet(tweet_id='1467968584', username='USERID_2', num_liked=777, length=132),\n",
       " Tweet(tweet_id='1467933102', username='USERID_2', num_liked=625, length=135),\n",
       " Tweet(tweet_id='1467953277', username='USERID_2', num_liked=494, length=31),\n",
       " Tweet(tweet_id='1467890222', username='USERID_2', num_liked=227, length=107),\n",
       " Tweet(tweet_id='1467871956', username='USERID_2', num_liked=110, length=68)]"
      ]
     },
     "execution_count": 17,
     "metadata": {},
     "output_type": "execute_result"
    }
   ],
   "source": [
    "#Q10: What are the tweets made by that outlier user?\n",
    "outlier_tweets = sorted(buckets_of_data[outlier_user], key = lambda x: x.num_liked, reverse = True)\n",
    "outlier_tweets"
   ]
  },
  {
   "cell_type": "code",
   "execution_count": 18,
   "id": "8c61d05d",
   "metadata": {},
   "outputs": [
    {
     "data": {
      "text/plain": [
       "5003.565217391304"
      ]
     },
     "execution_count": 18,
     "metadata": {},
     "output_type": "execute_result"
    }
   ],
   "source": [
    "#Q11: After excluding the outlier tweet of this outlier user (found in q10), what is the average of the remaining num_liked values for this user?\n",
    "outlier_tweets.pop(0)\n",
    "mean(map(lambda x: x.num_liked, outlier_tweets))\n",
    "\n"
   ]
  },
  {
   "cell_type": "code",
   "execution_count": 19,
   "id": "a5a8cf88",
   "metadata": {},
   "outputs": [
    {
     "data": {
      "image/png": "[encoded data removed]",
      "text/plain": [
       "<Figure size 432x288 with 1 Axes>"
      ]
     },
     "metadata": {
      "needs_background": "light"
     },
     "output_type": "display_data"
    }
   ],
   "source": [
    "#Q12: If we exclude the top 3 most-liked tweets (among all tweets), what is the relationship between the number of tweets and the largest number of likes?\n",
    "data_without_top_3 = sorted(all_full_data, key = lambda x: x.num_liked, reverse = True)[3:]\n",
    "buckets_without_top_3 = bucketize(data_without_top_3, key = lambda x: x.username, value = lambda x: x)\n",
    "\n",
    "def graph_numtweets_numliked(buckets):\n",
    "    num_tweets_ = dict(map(lambda x: (x[0], len(x[1])), buckets.items()))\n",
    "    most_likes_ = most_attrs_per_user(lambda x: x.num_liked, buckets)\n",
    "    scatter(num_tweets_, most_likes_, xlabel = \"number of tweets\", ylabel = \"largest number of likes\")\n",
    "\n",
    "graph_numtweets_numliked(buckets_without_top_3)"
   ]
  },
  {
   "cell_type": "code",
   "execution_count": 20,
   "id": "9c4413fb",
   "metadata": {},
   "outputs": [
    {
     "data": {
      "image/png": "[encoded data removed]",
      "text/plain": [
       "<Figure size 432x288 with 1 Axes>"
      ]
     },
     "metadata": {
      "needs_background": "light"
     },
     "output_type": "display_data"
    }
   ],
   "source": [
    "#Q13: If we exclude the 20 most-liked tweets (among all tweets), what is the relationship between the number of tweets and the largest number of likes?\n",
    "\n",
    "data_without_top_20 = sorted(all_full_data, key = lambda x: x.num_liked, reverse = True)[20:]\n",
    "buckets_without_top_20 = bucketize(data_without_top_20, key = lambda x: x.username, value = lambda x: x)\n",
    "\n",
    "graph_numtweets_numliked(buckets_without_top_20)\n"
   ]
  },
  {
   "cell_type": "code",
   "execution_count": 21,
   "id": "e15751e4",
   "metadata": {},
   "outputs": [
    {
     "data": {
      "text/plain": [
       "['recursive/USERID_1/tweets.json',\n",
       " 'recursive/USERID_2/tweets.json',\n",
       " 'recursive/USERID_3/tweets.json',\n",
       " 'recursive/USERID_4/1.csv',\n",
       " 'recursive/USERID_4/1.json',\n",
       " 'recursive/USERID_4/2.csv',\n",
       " 'recursive/USERID_4/2.json',\n",
       " 'recursive/USERID_4/false/tweets.json',\n",
       " 'recursive/USERID_4/true/tweets.json',\n",
       " 'recursive/others/USERID_10.json',\n",
       " 'recursive/others/USERID_5.json',\n",
       " 'recursive/others/USERID_6.json',\n",
       " 'recursive/others/USERID_7.json',\n",
       " 'recursive/others/USERID_8.json',\n",
       " 'recursive/others/USERID_9.json']"
      ]
     },
     "execution_count": 21,
     "metadata": {},
     "output_type": "execute_result"
    }
   ],
   "source": [
    "def list_recursive(basepath):\n",
    "    l = os.listdir(basepath)\n",
    "    rv = []\n",
    "    for name in l:\n",
    "        if os.path.isdir(os.path.join(basepath, name)):\n",
    "            rv += list_recursive(os.path.join(basepath, name))\n",
    "        elif os.path.isfile(os.path.join(basepath, name)):\n",
    "            rv.append(os.path.join(basepath, name))\n",
    "    return sorted(rv)\n",
    "    \n",
    "list_recursive('recursive')"
   ]
  },
  {
   "cell_type": "code",
   "execution_count": 22,
   "id": "29a8b9d9",
   "metadata": {},
   "outputs": [
    {
     "data": {
      "text/plain": [
       "['play/rb/ppt.ppt', 'play/rb/rb9/12.xls', 'play/rb/rb9/89.csv']"
      ]
     },
     "execution_count": 22,
     "metadata": {},
     "output_type": "execute_result"
    }
   ],
   "source": [
    "#Q14: What are the files in the `rb` directory of `play` directory?\n",
    "list_recursive('play/rb/')"
   ]
  },
  {
   "cell_type": "code",
   "execution_count": 23,
   "id": "8d2b9145",
   "metadata": {},
   "outputs": [
    {
     "data": {
      "text/plain": [
       "['play/ls/qwe/iuqwe.json', 'play/ls/qwe/usun.pdf']"
      ]
     },
     "execution_count": 23,
     "metadata": {},
     "output_type": "execute_result"
    }
   ],
   "source": [
    "#Q15: What are the files in the `qwe` directory of `ls` directory of the `play` directory?\n",
    "list_recursive('play/ls/qwe')"
   ]
  },
  {
   "cell_type": "code",
   "execution_count": 24,
   "id": "7284c190",
   "metadata": {},
   "outputs": [
    {
     "data": {
      "text/plain": [
       "['play/ls/lu.txt',\n",
       " 'play/ls/mf.py',\n",
       " 'play/ls/qwe/iuqwe.json',\n",
       " 'play/ls/qwe/usun.pdf',\n",
       " 'play/ou/a',\n",
       " 'play/ou/b',\n",
       " 'play/ou/quap/aoq/aqnsa',\n",
       " 'play/ou/quap/aoq/qsonj',\n",
       " 'play/ou/quap/qonxu.txt',\n",
       " 'play/ou/quap/uikwe',\n",
       " 'play/ou/v',\n",
       " 'play/rb/ppt.ppt',\n",
       " 'play/rb/rb9/12.xls',\n",
       " 'play/rb/rb9/89.csv']"
      ]
     },
     "execution_count": 24,
     "metadata": {},
     "output_type": "execute_result"
    }
   ],
   "source": [
    "#Q16: What are the files in the `play` directory?\n",
    "list_recursive('play')"
   ]
  },
  {
   "cell_type": "code",
   "execution_count": 25,
   "id": "6044e119",
   "metadata": {},
   "outputs": [
    {
     "data": {
      "text/plain": [
       "['recursive/others/USERID_10.json',\n",
       " 'recursive/others/USERID_5.json',\n",
       " 'recursive/others/USERID_6.json',\n",
       " 'recursive/others/USERID_7.json',\n",
       " 'recursive/others/USERID_8.json',\n",
       " 'recursive/others/USERID_9.json']"
      ]
     },
     "execution_count": 25,
     "metadata": {},
     "output_type": "execute_result"
    }
   ],
   "source": [
    "#Q17: What are the files in the `others` directory of the `recursive` directory?\n",
    "list_recursive('recursive/others')"
   ]
  },
  {
   "cell_type": "code",
   "execution_count": 26,
   "id": "94962420",
   "metadata": {},
   "outputs": [
    {
     "data": {
      "text/plain": [
       "['recursive/USERID_1/tweets.json',\n",
       " 'recursive/USERID_2/tweets.json',\n",
       " 'recursive/USERID_3/tweets.json',\n",
       " 'recursive/USERID_4/1.csv',\n",
       " 'recursive/USERID_4/1.json',\n",
       " 'recursive/USERID_4/2.csv',\n",
       " 'recursive/USERID_4/2.json',\n",
       " 'recursive/USERID_4/false/tweets.json',\n",
       " 'recursive/USERID_4/true/tweets.json',\n",
       " 'recursive/others/USERID_10.json',\n",
       " 'recursive/others/USERID_5.json',\n",
       " 'recursive/others/USERID_6.json',\n",
       " 'recursive/others/USERID_7.json',\n",
       " 'recursive/others/USERID_8.json',\n",
       " 'recursive/others/USERID_9.json']"
      ]
     },
     "execution_count": 26,
     "metadata": {},
     "output_type": "execute_result"
    }
   ],
   "source": [
    "#Q18: What are the files in the `recursive` directory?\n",
    "list_recursive('recursive')"
   ]
  },
  {
   "cell_type": "code",
   "execution_count": 27,
   "id": "ff0d8f7b",
   "metadata": {},
   "outputs": [
    {
     "data": {
      "text/plain": [
       "37"
      ]
     },
     "execution_count": 27,
     "metadata": {},
     "output_type": "execute_result"
    }
   ],
   "source": [
    "#Q19: How many tweets are in the files in the `USERID_4` directory of the `recursive` directory?\n",
    "def load_recursive(basepath):\n",
    "    return dict(map(lambda x: (x, load_tweets(x)), list_recursive(basepath)))\n",
    "\n",
    "def combine_tweets(d):\n",
    "    return reduce(lambda x, y: x + y, d.values(), initial = [])\n",
    "\n",
    "len(combine_tweets(load_recursive('recursive/USERID_4')))"
   ]
  },
  {
   "cell_type": "code",
   "execution_count": 28,
   "id": "0ad39685",
   "metadata": {},
   "outputs": [
    {
     "data": {
      "text/plain": [
       "220"
      ]
     },
     "execution_count": 28,
     "metadata": {},
     "output_type": "execute_result"
    }
   ],
   "source": [
    "#Q20: How many tweets are in the files in the `recursive` directory?\n",
    "len(combine_tweets(load_recursive('recursive/')))"
   ]
  }
 ],
 "metadata": {
  "kernelspec": {
   "display_name": "Python 3",
   "language": "python",
   "name": "python3"
  },
  "language_info": {
   "codemirror_mode": {
    "name": "ipython",
    "version": 3
   },
   "file_extension": ".py",
   "mimetype": "text/x-python",
   "name": "python",
   "nbconvert_exporter": "python",
   "pygments_lexer": "ipython3",
   "version": "3.8.8"
  }
 },
 "nbformat": 4,
 "nbformat_minor": 5
}
