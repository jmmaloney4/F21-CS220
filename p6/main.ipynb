{
 "cells": [
  {
   "cell_type": "code",
   "execution_count": 1,
   "id": "d20b6b2e",
   "metadata": {},
   "outputs": [],
   "source": [
    "# project: p6\n",
    "# submitter: jmaloney3\n",
    "# partner: ccmaloney\n",
    "# hours: 5"
   ]
  },
  {
   "cell_type": "code",
   "execution_count": 2,
   "id": "5a134639",
   "metadata": {},
   "outputs": [],
   "source": [
    "import csv\n",
    "\n",
    "def process_csv(filename):\n",
    "    example_file = open(filename, encoding=\"utf-8\")\n",
    "    example_reader = csv.reader(example_file)\n",
    "    example_data = list(example_reader)\n",
    "    example_file.close()\n",
    "    return example_data\n",
    "\n",
    "# Use process_csv to pull out the header and data rows\n",
    "csv_rows = process_csv(\"airbnb.csv\")\n",
    "csv_header = csv_rows[0] # A list of the column headers\n",
    "csv_data = csv_rows[1:] # The entire CSV data set besides the headers\n",
    "\n",
    "def cell(row_idx, col_name):\n",
    "    col_idx = csv_header.index(col_name)\n",
    "    val = csv_data[row_idx][col_idx]\n",
    "    if val == \"\":\n",
    "        return None\n",
    "    \n",
    "    try: return int(val)\n",
    "    except ValueError: pass\n",
    "    \n",
    "    try: return float(val)\n",
    "    except ValueError: pass\n",
    "\n",
    "    return val\n",
    "\n",
    "def unique(l):\n",
    "    return list(set(l))\n",
    "\n",
    "def remove_none(l):\n",
    "    return filter(lambda x: not x is None, l)\n",
    "\n",
    "def coerce_str(l):\n",
    "    return list(map(lambda x: str(x), l))"
   ]
  },
  {
   "cell_type": "code",
   "execution_count": 3,
   "id": "5071eee7",
   "metadata": {},
   "outputs": [
    {
     "data": {
      "text/plain": [
       "['room_id',\n",
       " 'name',\n",
       " 'host_id',\n",
       " 'host_name',\n",
       " 'neighborhood_group',\n",
       " 'neighborhood',\n",
       " 'latitude',\n",
       " 'longitude',\n",
       " 'room_type',\n",
       " 'price',\n",
       " 'minimum_nights',\n",
       " 'number_of_reviews',\n",
       " 'last_review',\n",
       " 'reviews_per_month',\n",
       " 'calculated_host_listings_count',\n",
       " 'availability_365']"
      ]
     },
     "execution_count": 3,
     "metadata": {},
     "output_type": "execute_result"
    }
   ],
   "source": [
    "csv_header"
   ]
  },
  {
   "cell_type": "code",
   "execution_count": 4,
   "id": "06e5c1c6",
   "metadata": {},
   "outputs": [
    {
     "data": {
      "text/plain": [
       "['Manhattan', 'Brooklyn', 'Bronx', 'Staten Island', 'Queens']"
      ]
     },
     "execution_count": 4,
     "metadata": {},
     "output_type": "execute_result"
    }
   ],
   "source": [
    "#Q1: What neighborhood groups are present in the airbnb dataset?\n",
    "#list(set(map(lambda row: cell(row[0], 'neighborhood_group'), enumerate(csv_data))))\n",
    "\n",
    "def extract_column(name):\n",
    "    l = []\n",
    "    for row in enumerate(csv_data):\n",
    "         l.append(cell(row[0], name))\n",
    "    return l\n",
    "\n",
    "unique(extract_column('neighborhood_group'))"
   ]
  },
  {
   "cell_type": "code",
   "execution_count": 5,
   "id": "cff3c381",
   "metadata": {},
   "outputs": [
    {
     "data": {
      "text/plain": [
       "23"
      ]
     },
     "execution_count": 5,
     "metadata": {},
     "output_type": "execute_result"
    }
   ],
   "source": [
    "#Q2: What is the average number of reviews among all the reviews?\n",
    "from statistics import mean\n",
    "round(mean(extract_column('number_of_reviews')))"
   ]
  },
  {
   "cell_type": "code",
   "execution_count": 6,
   "id": "552b7661",
   "metadata": {},
   "outputs": [
    {
     "data": {
      "text/plain": [
       "358"
      ]
     },
     "execution_count": 6,
     "metadata": {},
     "output_type": "execute_result"
    }
   ],
   "source": [
    "#Q3: Count the number of rooms located in neighborhood \"SoHo\"?\n",
    "\n",
    "len(\n",
    "    list(\n",
    "        filter(\n",
    "            lambda nb: nb == \"SoHo\", \n",
    "            extract_column('neighborhood')\n",
    "        )\n",
    "    )\n",
    ")\n"
   ]
  },
  {
   "cell_type": "code",
   "execution_count": 7,
   "id": "9df094d0",
   "metadata": {},
   "outputs": [],
   "source": [
    "import re\n",
    "\n",
    "def find_room_names(contained):\n",
    "    return list(filter(lambda name: re.search(contained, str(name), re.IGNORECASE), \n",
    "           extract_column('name')))\n",
    "\n",
    "def secondary_word_in_found_rooms(find_room_word, secondary_word):\n",
    "    return list(\n",
    "        filter(\n",
    "            lambda name: re.search(find_room_word, str(name), re.IGNORECASE) and re.search(secondary_word, str(name), re.IGNORECASE), \n",
    "           extract_column('name')))"
   ]
  },
  {
   "cell_type": "code",
   "execution_count": 8,
   "id": "63bff273",
   "metadata": {},
   "outputs": [
    {
     "data": {
      "text/plain": [
       "['The Epic: Right by MSG',\n",
       " 'Lavish 3 bedroom near Penn Station / MSG',\n",
       " 'Stately Midtown Studio w/ Doorman, Gym, near MSG by Blueground',\n",
       " 'Room Near Times Square/Javits/Hells Kitchen/MSG',\n",
       " 'Cheery Midtown 1BR w/ Doorman + Gym, near MSG by Blueground',\n",
       " 'Homey Hudson Yards w/ Gym + Doorman, near MSG by Blueground',\n",
       " 'Private Room With Kitchen Across From MSG',\n",
       " 'Accessible Two Bedded Suite With Kitchen near MSG',\n",
       " 'Two Beds in Private Room near Times Square and MSG',\n",
       " 'Private and Spacious Queen Room Across From MSG',\n",
       " 'Comfy Kips Bay 1BR w/ Gym, Doorman + Sundecks, walk to MSG by Blueground',\n",
       " 'A+ Chelsea Location! MSG, Javits, Penn!',\n",
       " 'Heart of Williamsburg living for 1-5 msg!',\n",
       " '3 Bedroom by MSG + Empire State',\n",
       " 'Next to Times Square/Javits/MSG! Amazing 1BR!']"
      ]
     },
     "execution_count": 8,
     "metadata": {},
     "output_type": "execute_result"
    }
   ],
   "source": [
    "#Q4: Find the room names containing \"MSG\"\n",
    "find_room_names(\"MSG\")"
   ]
  },
  {
   "cell_type": "code",
   "execution_count": 9,
   "id": "b2554f39",
   "metadata": {},
   "outputs": [
    {
     "data": {
      "text/plain": [
       "['Cinema + gym included with room',\n",
       " 'WoodyAllen FilmSet-Like Digs (Apt)',\n",
       " 'Cool apartment in Brooklyn with free cinema & gym',\n",
       " 'HUGE LUX 2FLOOR 2 BDRMSOHO LOFTw/HOME CINEMA',\n",
       " 'WoodyAllen FilmSet-Like Digs (Room)',\n",
       " 'Victorian Film location',\n",
       " 'Shoot. Film. Sleep. Unique Loft Space in Brooklyn.',\n",
       " 'Sunny private room featured in film',\n",
       " 'The Otheroom Bar/Event/Filming Space -read details',\n",
       " 'Music Recording Mixing Film Photography Art',\n",
       " 'TV-PHOTO-FILM-CINEMA-ART GALLERY-MUSIC STUDIO-LOFT',\n",
       " 'Premium Chelsea 1BR w/ Gym, W/D, Doorman, Sundeck, Cinema, by Blueground',\n",
       " 'Cinema Studio on Duplex Apt.',\n",
       " 'Modern Townhouse for Photo, Film &  Daytime Events',\n",
       " \"Downtown Filmmaker's Loft by WTC\",\n",
       " 'Clean music/film themed bedroom',\n",
       " 'Stunning Chelsea 1BR w/ Gym, W/D, Doorman, Sundeck, Cinema, by Blueground',\n",
       " 'Brooklyn townhouse for filming',\n",
       " 'Film Location',\n",
       " 'Film / photography location in unique apartment']"
      ]
     },
     "execution_count": 9,
     "metadata": {},
     "output_type": "execute_result"
    }
   ],
   "source": [
    "#Q5: Find the room names containing \"cinema\" or \"film\"\n",
    "\n",
    "unique(find_room_names(\"cinema\") + find_room_names(\"film\"))\n"
   ]
  },
  {
   "cell_type": "code",
   "execution_count": 10,
   "id": "87fb12f6",
   "metadata": {},
   "outputs": [
    {
     "data": {
      "text/plain": [
       "['Leisa', 'Elias', 'Elisa']"
      ]
     },
     "execution_count": 10,
     "metadata": {},
     "output_type": "execute_result"
    }
   ],
   "source": [
    "#Q6: Which host names are anagrams of the word \"aisle\"?\n",
    "def is_anagram_of_asile_check(host_name):\n",
    "    return set(list(host_name.lower())) == {'a','i','s','l','e'} and len(host_name) == 5\n",
    "\n",
    "unique(\n",
    "    list(\n",
    "        filter(\n",
    "            is_anagram_of_asile_check, \n",
    "            remove_none(coerce_str(extract_column('host_name')))\n",
    "        )\n",
    "    )\n",
    ")"
   ]
  },
  {
   "cell_type": "code",
   "execution_count": 11,
   "id": "c05f87f1",
   "metadata": {},
   "outputs": [
    {
     "data": {
      "text/plain": [
       "['16276632',\n",
       " '18173787',\n",
       " '21550302',\n",
       " '22176831',\n",
       " '22750161',\n",
       " '28826608',\n",
       " '30423106',\n",
       " '31090222',\n",
       " '31249784',\n",
       " '32678719',\n",
       " '32678720']"
      ]
     },
     "execution_count": 11,
     "metadata": {},
     "output_type": "execute_result"
    }
   ],
   "source": [
    "#Q7: List all room ids that receive more than 15 reviews per month \n",
    "\n",
    "coerce_str(\n",
    "    list(\n",
    "        map(\n",
    "            lambda x: x[0], \n",
    "            filter(lambda x: x[1] != None and x[1] > 15, \n",
    "                   zip(extract_column('room_id'), \n",
    "                       extract_column('reviews_per_month'))))))\n"
   ]
  },
  {
   "cell_type": "code",
   "execution_count": 12,
   "id": "3ee789a7",
   "metadata": {},
   "outputs": [
    {
     "data": {
      "text/plain": [
       "51.96645873811229"
      ]
     },
     "execution_count": 12,
     "metadata": {},
     "output_type": "execute_result"
    }
   ],
   "source": [
    "#Q8: What percentage of rooms are entire homes or apartments? (room_type == \"Entire home/apt\")\n",
    "len(\n",
    "    list(\n",
    "        filter(\n",
    "            lambda x: x == \"Entire home/apt\",\n",
    "            extract_column('room_type')\n",
    "        )\n",
    "    )\n",
    ") / len(extract_column('room_id')) * 100\n"
   ]
  },
  {
   "cell_type": "code",
   "execution_count": 13,
   "id": "091f5513",
   "metadata": {},
   "outputs": [
    {
     "data": {
      "text/plain": [
       "['712136',\n",
       " '738588',\n",
       " '826307',\n",
       " '1598033',\n",
       " '2794725',\n",
       " '8253376',\n",
       " '9045427',\n",
       " '12914239',\n",
       " '15949915',\n",
       " '15988392',\n",
       " '17475711']"
      ]
     },
     "execution_count": 13,
     "metadata": {},
     "output_type": "execute_result"
    }
   ],
   "source": [
    "#Q9: Which room ids in Staten Island (`neighborhood_group == \"Staten Island\"`) received their last review in the year 2017 or earlier?\n",
    "\n",
    "import datetime\n",
    "\n",
    "def parse_date(s):\n",
    "    return datetime.datetime.strptime(s, \"%Y-%m-%d\")\n",
    "\n",
    "\n",
    "si = filter(lambda x: x[1] == \"Staten Island\",\n",
    "       zip(extract_column('room_id'),\n",
    "           extract_column('neighborhood_group'), \n",
    "           extract_column('last_review')))\n",
    "\n",
    "si = filter(lambda x: x[2] != None, si)\n",
    "si = map(lambda x: (x[0], x[1], parse_date(x[2]).year), si)\n",
    "si = filter(lambda x: x[2] <= 2017, si)\n",
    "si = map(lambda x: x[0], si)\n",
    "coerce_str(si)\n",
    "\n",
    "\n"
   ]
  },
  {
   "cell_type": "code",
   "execution_count": 14,
   "id": "d4d03fe8",
   "metadata": {},
   "outputs": [],
   "source": [
    "def availability_per_host_name(host_name, neighborhood_group=None):\n",
    "    ls = zip(extract_column('availability_365'),\n",
    "           extract_column('neighborhood_group'), \n",
    "           extract_column('host_name'))\n",
    "    ls = filter(lambda x: x[0] != None and x[2] != None, ls)\n",
    "    ls = filter(lambda x: (neighborhood_group == None or x[1] == neighborhood_group), ls)\n",
    "    ls = map(lambda x: (x[0], x[1], str(x[2])), ls)\n",
    "    ls = filter(lambda x: x[2].lower() == host_name.lower(), ls)\n",
    "    ls = map(lambda x: x[0], ls)\n",
    "    return list(ls)"
   ]
  },
  {
   "cell_type": "code",
   "execution_count": 15,
   "id": "f99872a2",
   "metadata": {},
   "outputs": [
    {
     "data": {
      "text/plain": [
       "[360, 353, 348, 333, 321, 308, 264, 106, 15, 0]"
      ]
     },
     "execution_count": 15,
     "metadata": {},
     "output_type": "execute_result"
    }
   ],
   "source": [
    "#Q10: What are the different availabilities of all rooms in the neighborhood group \"Brooklyn\" whose host name is \"Stanley\"?\n",
    "\n",
    "sorted(unique(availability_per_host_name(\"Stanley\", \"Brooklyn\")), reverse=True)\n",
    "\n",
    "\n"
   ]
  },
  {
   "cell_type": "code",
   "execution_count": 16,
   "id": "e8e4655c",
   "metadata": {},
   "outputs": [
    {
     "data": {
      "text/plain": [
       "253"
      ]
     },
     "execution_count": 16,
     "metadata": {},
     "output_type": "execute_result"
    }
   ],
   "source": [
    "#Q11: What is the difference between the most and least availability among all rooms whose host name is \"Helena\" (`host_name == \"Helena\"`)?\n",
    "\n",
    "helena_availability = availability_per_host_name('Helena')\n",
    "a = max(helena_availability) - min(helena_availability)\n",
    "a\n",
    "\n",
    "\n",
    "\n"
   ]
  },
  {
   "cell_type": "code",
   "execution_count": 17,
   "id": "b3b88cfa",
   "metadata": {},
   "outputs": [],
   "source": [
    "def find_prices_within(lat_min, lat_max, long_min, long_max):\n",
    "    pricelist = zip(extract_column('price'),\n",
    "           extract_column('latitude'), \n",
    "           extract_column('longitude'))\n",
    "    pricelist = filter(lambda x: x[1]>=lat_min and x[1]<=lat_max, pricelist)\n",
    "    pricelist = filter(lambda x: x[2]>= long_min and x[2]<= long_max, pricelist)\n",
    "    return(list(map(lambda x: x[0], pricelist)))\n",
    "    # TODO: create a list\n",
    "    # TODO: add every price of rooms that locate in the given area to the list\n",
    "    # TODO: return the filled list of prices"
   ]
  },
  {
   "cell_type": "code",
   "execution_count": 18,
   "id": "4406ed60",
   "metadata": {},
   "outputs": [
    {
     "data": {
      "text/plain": [
       "169.4356387798248"
      ]
     },
     "execution_count": 18,
     "metadata": {},
     "output_type": "execute_result"
    }
   ],
   "source": [
    "#Q12: What is the average price among rooms within (40.50 <= latitude <= 40.75, -74.00 <= longitude <= -73.95)?\n",
    "mean(find_prices_within(40.50, 40.75, -74.00, -73.95))\n"
   ]
  },
  {
   "cell_type": "code",
   "execution_count": 19,
   "id": "a8aeeea7",
   "metadata": {},
   "outputs": [
    {
     "data": {
      "text/plain": [
       "10000"
      ]
     },
     "execution_count": 19,
     "metadata": {},
     "output_type": "execute_result"
    }
   ],
   "source": [
    "#Q13: What is the highest price among rooms within (40.75 <= latitude <= 41.00, -73.95 <= longitude <= -73.85)?\n",
    "max(find_prices_within(40.75, 41.00, -73.95, -73.85))"
   ]
  },
  {
   "cell_type": "code",
   "execution_count": 20,
   "id": "79ae85c8",
   "metadata": {},
   "outputs": [
    {
     "data": {
      "text/plain": [
       "45.27971221694415"
      ]
     },
     "execution_count": 20,
     "metadata": {},
     "output_type": "execute_result"
    }
   ],
   "source": [
    "#Q14: What percentage of rooms within (40.50 <= latitude <= 41.00, -74.00 <= longitude <= -73.85) \n",
    "# have a price less than 100?\n",
    "len(list(filter(lambda x: x<100, find_prices_within(40.50, 41.00, -74.00, -73.85))))/len(find_prices_within(40.50, 41.00, -74.00, -73.85))*100\n",
    "\n"
   ]
  },
  {
   "cell_type": "code",
   "execution_count": 21,
   "id": "8ebddb43",
   "metadata": {},
   "outputs": [
    {
     "data": {
      "text/plain": [
       "0.27323293295076073"
      ]
     },
     "execution_count": 21,
     "metadata": {},
     "output_type": "execute_result"
    }
   ],
   "source": [
    "#Q15: What is the average ratio of the number of reviews to availability in the neighborhood Manhattan Beach?\n",
    "\n",
    "# The denominator is the availability of a room (`availability_365` column). \n",
    "#    The numerator is the number of reviews of a room (`number_of_reviews` column).\n",
    "# 2. Be careful! You need to compute the ratio for each room in the given neighborhood, \n",
    "#    then take the average of those ratios. \n",
    "#    Simply dividing the sum of reviews by the sum of availability\n",
    "#    will calculate the wrong answer.\n",
    "def avg_ratio_reviews_to_availability(neighborhood):\n",
    "    list_avail = zip(extract_column('neighborhood'), extract_column('number_of_reviews'), extract_column('availability_365'))\n",
    "    list_avail = filter(lambda x: x[2] != 0, list_avail)\n",
    "    list_avail = filter(lambda x: x[0] != None and x[1] != None and x[2] != None, list_avail)\n",
    "    list_avail = filter(lambda x: x[0] == neighborhood, list_avail)\n",
    "    ratio_list = map(lambda x: x[1] / x[2], list_avail)\n",
    "    return mean(ratio_list)\n",
    "\n",
    "    \n",
    "    \n",
    "avg_ratio_reviews_to_availability('Manhattan Beach')    \n",
    "    \n"
   ]
  },
  {
   "cell_type": "code",
   "execution_count": 22,
   "id": "4d7774d7",
   "metadata": {},
   "outputs": [
    {
     "data": {
      "text/plain": [
       "0.043732334137215216"
      ]
     },
     "execution_count": 22,
     "metadata": {},
     "output_type": "execute_result"
    }
   ],
   "source": [
    "#Q16: What is the average ratio of the number of reviews to availability in the neighborhood Riverdale?\n",
    "avg_ratio_reviews_to_availability('Riverdale')"
   ]
  },
  {
   "cell_type": "code",
   "execution_count": 23,
   "id": "1e3fc94b",
   "metadata": {
    "scrolled": true
   },
   "outputs": [
    {
     "data": {
      "text/plain": [
       "'Fresh Meadows'"
      ]
     },
     "execution_count": 23,
     "metadata": {},
     "output_type": "execute_result"
    }
   ],
   "source": [
    "#Q17: Which neighborhood in the \n",
    "# neighborhood group Queens has the highest average ratio of the number of reviews to availability?\n",
    "from functools import reduce\n",
    "\n",
    "queens_nb = zip(extract_column('neighborhood'), extract_column('neighborhood_group'))\n",
    "queens_nb = filter(lambda x: x[1] == \"Queens\", queens_nb)\n",
    "queens_nb = map(lambda x: x[0], queens_nb)\n",
    "queens_nb = unique(queens_nb)\n",
    "reviews_ratio = map(lambda x: (x, avg_ratio_reviews_to_availability(x)), queens_nb)\n",
    "reduce(lambda x, y: y if y[1] > x[1] else x, reviews_ratio)[0]\n"
   ]
  },
  {
   "cell_type": "code",
   "execution_count": 24,
   "id": "0d7cf3b2",
   "metadata": {},
   "outputs": [
    {
     "data": {
      "text/plain": [
       "3.9522598317354727"
      ]
     },
     "execution_count": 24,
     "metadata": {},
     "output_type": "execute_result"
    }
   ],
   "source": [
    "#Q18: What percentage of rooms whose name contains the word \"cozy\" also contain the word \"home\" in its name?\n",
    "\n",
    "len(secondary_word_in_found_rooms(\"cozy\", \"home\"))/len(find_room_names(\"cozy\")) * 100\n",
    "\n"
   ]
  },
  {
   "cell_type": "code",
   "execution_count": 25,
   "id": "40cc0353",
   "metadata": {},
   "outputs": [
    {
     "data": {
      "text/plain": [
       "48.92086330935252"
      ]
     },
     "execution_count": 25,
     "metadata": {},
     "output_type": "execute_result"
    }
   ],
   "source": [
    "#Q19: What percentage of rooms whose name contains the word \"pool\" also contain the word \"gym\" in its name?\n",
    "\n",
    "len(secondary_word_in_found_rooms(\"pool\", \"gym\"))/len(find_room_names(\"pool\")) * 100\n"
   ]
  },
  {
   "cell_type": "code",
   "execution_count": 26,
   "id": "aaaa2805",
   "metadata": {},
   "outputs": [
    {
     "data": {
      "text/plain": [
       "175"
      ]
     },
     "execution_count": 26,
     "metadata": {},
     "output_type": "execute_result"
    }
   ],
   "source": [
    "#Q20: What is the minimum amount of money one needs to spend to stay for 10 days in Manhattan, and then 5 days in Staten Island?\n",
    "\n",
    "z = list(zip(extract_column('neighborhood_group'), extract_column('price'), extract_column('availability_365'), extract_column('minimum_nights')))\n",
    "\n",
    "manhattan = list(filter(lambda x: x[0] == \"Manhattan\" and x[2] >= 10 and x[3] <= 10, z))\n",
    "si = list(filter(lambda x: x[0] == \"Staten Island\" and x[2] >= 5 and x[3] <= 5, z))\n",
    "\n",
    "manhattan.sort(key=lambda x: x[1])\n",
    "si.sort(key=lambda x: x[1])\n",
    "\n",
    "manhattan[0][1] * 10 + si[0][1] * 5\n",
    "\n"
   ]
  },
  {
   "cell_type": "code",
   "execution_count": null,
   "id": "dceadd2d",
   "metadata": {},
   "outputs": [],
   "source": []
  }
 ],
 "metadata": {
  "kernelspec": {
   "display_name": "Python 3",
   "language": "python",
   "name": "python3"
  },
  "language_info": {
   "codemirror_mode": {
    "name": "ipython",
    "version": 3
   },
   "file_extension": ".py",
   "mimetype": "text/x-python",
   "name": "python",
   "nbconvert_exporter": "python",
   "pygments_lexer": "ipython3",
   "version": "3.8.8"
  }
 },
 "nbformat": 4,
 "nbformat_minor": 5
}
