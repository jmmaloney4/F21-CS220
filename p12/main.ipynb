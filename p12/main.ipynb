{
 "cells": [
  {
   "cell_type": "code",
   "execution_count": 1,
   "id": "9c7fd203",
   "metadata": {},
   "outputs": [],
   "source": [
    "# project: p12\n",
    "# submitter: ccmaloney\n",
    "# partner: jmaloney3\n",
    "# hours: ???"
   ]
  },
  {
   "cell_type": "code",
   "execution_count": 2,
   "id": "3b23bb24",
   "metadata": {},
   "outputs": [],
   "source": [
    "import requests\n",
    "import os\n",
    "import pandas as pd\n",
    "from pandas import DataFrame, Series\n",
    "import json\n",
    "from bs4 import BeautifulSoup"
   ]
  },
  {
   "cell_type": "code",
   "execution_count": 3,
   "id": "4b1dc29d",
   "metadata": {},
   "outputs": [],
   "source": [
    "# Returns True if file was downloaded, False if file already exists\n",
    "def download(filename, url):\n",
    "    # We do not download again if the file already exists\n",
    "    if os.path.exists(filename):\n",
    "        return False\n",
    "    \n",
    "    response = requests.get(url)\n",
    "    response.raise_for_status()\n",
    "\n",
    "    f = open(filename, \"w\", encoding=\"utf-8\")\n",
    "    f.write(response.text)\n",
    "    f.close()\n",
    "\n",
    "    return True"
   ]
  },
  {
   "cell_type": "code",
   "execution_count": 4,
   "id": "eb205eab",
   "metadata": {},
   "outputs": [
    {
     "data": {
      "text/plain": [
       "False"
      ]
     },
     "execution_count": 4,
     "metadata": {},
     "output_type": "execute_result"
    }
   ],
   "source": [
    "download(\"rankings.json\", \"https://raw.githubusercontent.com/msyamkumar/cs220-f21-projects/main/p12/rankings.json\")\n",
    "download(\"2019-2020.html\", \"https://raw.githubusercontent.com/msyamkumar/cs220-f21-projects/main/p12/2019-2020.html\")\n",
    "download(\"2020-2021.html\", \"https://raw.githubusercontent.com/msyamkumar/cs220-f21-projects/main/p12/2020-2021.html\")\n",
    "download(\"2021-2022.html\", \"https://raw.githubusercontent.com/msyamkumar/cs220-f21-projects/main/p12/2021-2022.html\")\n"
   ]
  },
  {
   "cell_type": "code",
   "execution_count": 5,
   "id": "61fd78a7",
   "metadata": {},
   "outputs": [
    {
     "data": {
      "text/plain": [
       "103"
      ]
     },
     "execution_count": 5,
     "metadata": {},
     "output_type": "execute_result"
    }
   ],
   "source": [
    "#Q1: How many countries do we have in our dataset?\n",
    "rankings = pd.DataFrame(pd.read_json(\"rankings.json\"))\n",
    "#len(set(rankings.Country))\n",
    "rankings[\"Country\"].nunique()\n",
    "#rankings.head()"
   ]
  },
  {
   "cell_type": "code",
   "execution_count": 6,
   "id": "82731350",
   "metadata": {},
   "outputs": [
    {
     "data": {
      "text/html": [
       "<div>\n",
       "<style scoped>\n",
       "    .dataframe tbody tr th:only-of-type {\n",
       "        vertical-align: middle;\n",
       "    }\n",
       "\n",
       "    .dataframe tbody tr th {\n",
       "        vertical-align: top;\n",
       "    }\n",
       "\n",
       "    .dataframe thead th {\n",
       "        text-align: right;\n",
       "    }\n",
       "</style>\n",
       "<table border=\"1\" class=\"dataframe\">\n",
       "  <thead>\n",
       "    <tr style=\"text-align: right;\">\n",
       "      <th></th>\n",
       "      <th>World Rank</th>\n",
       "      <th>Year</th>\n",
       "      <th>Institution</th>\n",
       "      <th>Country</th>\n",
       "      <th>National Rank</th>\n",
       "      <th>Quality of Education Rank</th>\n",
       "      <th>Alumni Employment Rank</th>\n",
       "      <th>Quality of Faculty Rank</th>\n",
       "      <th>Research Performance Rank</th>\n",
       "      <th>Score</th>\n",
       "    </tr>\n",
       "  </thead>\n",
       "  <tbody>\n",
       "    <tr>\n",
       "      <th>0</th>\n",
       "      <td>1</td>\n",
       "      <td>2019-2020</td>\n",
       "      <td>Harvard University</td>\n",
       "      <td>USA</td>\n",
       "      <td>1</td>\n",
       "      <td>2.0</td>\n",
       "      <td>1.0</td>\n",
       "      <td>1.0</td>\n",
       "      <td>1.0</td>\n",
       "      <td>100.0</td>\n",
       "    </tr>\n",
       "    <tr>\n",
       "      <th>2000</th>\n",
       "      <td>1</td>\n",
       "      <td>2020-2021</td>\n",
       "      <td>Harvard University</td>\n",
       "      <td>USA</td>\n",
       "      <td>1</td>\n",
       "      <td>3.0</td>\n",
       "      <td>1.0</td>\n",
       "      <td>1.0</td>\n",
       "      <td>1.0</td>\n",
       "      <td>100.0</td>\n",
       "    </tr>\n",
       "    <tr>\n",
       "      <th>4000</th>\n",
       "      <td>1</td>\n",
       "      <td>2021-2022</td>\n",
       "      <td>Harvard University</td>\n",
       "      <td>USA</td>\n",
       "      <td>1</td>\n",
       "      <td>1.0</td>\n",
       "      <td>1.0</td>\n",
       "      <td>1.0</td>\n",
       "      <td>1.0</td>\n",
       "      <td>100.0</td>\n",
       "    </tr>\n",
       "  </tbody>\n",
       "</table>\n",
       "</div>"
      ],
      "text/plain": [
       "      World Rank       Year         Institution Country  National Rank  \\\n",
       "0              1  2019-2020  Harvard University     USA              1   \n",
       "2000           1  2020-2021  Harvard University     USA              1   \n",
       "4000           1  2021-2022  Harvard University     USA              1   \n",
       "\n",
       "      Quality of Education Rank  Alumni Employment Rank  \\\n",
       "0                           2.0                     1.0   \n",
       "2000                        3.0                     1.0   \n",
       "4000                        1.0                     1.0   \n",
       "\n",
       "      Quality of Faculty Rank  Research Performance Rank  Score  \n",
       "0                         1.0                        1.0  100.0  \n",
       "2000                      1.0                        1.0  100.0  \n",
       "4000                      1.0                        1.0  100.0  "
      ]
     },
     "execution_count": 6,
     "metadata": {},
     "output_type": "execute_result"
    }
   ],
   "source": [
    " #Q2: Generate a pandas DataFrame containing all the statistics of the highest-ranked institution based on \"World Rank\" (Note: highest rank is 1).\n",
    "rankings[rankings[\"World Rank\"] == 1]"
   ]
  },
  {
   "cell_type": "code",
   "execution_count": 7,
   "id": "8dfa6526",
   "metadata": {},
   "outputs": [
    {
     "data": {
      "text/html": [
       "<div>\n",
       "<style scoped>\n",
       "    .dataframe tbody tr th:only-of-type {\n",
       "        vertical-align: middle;\n",
       "    }\n",
       "\n",
       "    .dataframe tbody tr th {\n",
       "        vertical-align: top;\n",
       "    }\n",
       "\n",
       "    .dataframe thead th {\n",
       "        text-align: right;\n",
       "    }\n",
       "</style>\n",
       "<table border=\"1\" class=\"dataframe\">\n",
       "  <thead>\n",
       "    <tr style=\"text-align: right;\">\n",
       "      <th></th>\n",
       "      <th>World Rank</th>\n",
       "      <th>Year</th>\n",
       "      <th>Institution</th>\n",
       "      <th>Country</th>\n",
       "      <th>National Rank</th>\n",
       "      <th>Quality of Education Rank</th>\n",
       "      <th>Alumni Employment Rank</th>\n",
       "      <th>Quality of Faculty Rank</th>\n",
       "      <th>Research Performance Rank</th>\n",
       "      <th>Score</th>\n",
       "    </tr>\n",
       "  </thead>\n",
       "  <tbody>\n",
       "    <tr>\n",
       "      <th>24</th>\n",
       "      <td>25</td>\n",
       "      <td>2019-2020</td>\n",
       "      <td>University of Wisconsin–Madison</td>\n",
       "      <td>USA</td>\n",
       "      <td>19</td>\n",
       "      <td>28.0</td>\n",
       "      <td>80.0</td>\n",
       "      <td>35.0</td>\n",
       "      <td>27.0</td>\n",
       "      <td>87.3</td>\n",
       "    </tr>\n",
       "    <tr>\n",
       "      <th>2025</th>\n",
       "      <td>26</td>\n",
       "      <td>2020-2021</td>\n",
       "      <td>University of Wisconsin–Madison</td>\n",
       "      <td>USA</td>\n",
       "      <td>20</td>\n",
       "      <td>34.0</td>\n",
       "      <td>93.0</td>\n",
       "      <td>34.0</td>\n",
       "      <td>31.0</td>\n",
       "      <td>87.2</td>\n",
       "    </tr>\n",
       "    <tr>\n",
       "      <th>4024</th>\n",
       "      <td>25</td>\n",
       "      <td>2021-2022</td>\n",
       "      <td>University of Wisconsin–Madison</td>\n",
       "      <td>USA</td>\n",
       "      <td>19</td>\n",
       "      <td>33.0</td>\n",
       "      <td>97.0</td>\n",
       "      <td>29.0</td>\n",
       "      <td>32.0</td>\n",
       "      <td>87.3</td>\n",
       "    </tr>\n",
       "  </tbody>\n",
       "</table>\n",
       "</div>"
      ],
      "text/plain": [
       "      World Rank       Year                      Institution Country  \\\n",
       "24            25  2019-2020  University of Wisconsin–Madison     USA   \n",
       "2025          26  2020-2021  University of Wisconsin–Madison     USA   \n",
       "4024          25  2021-2022  University of Wisconsin–Madison     USA   \n",
       "\n",
       "      National Rank  Quality of Education Rank  Alumni Employment Rank  \\\n",
       "24               19                       28.0                    80.0   \n",
       "2025             20                       34.0                    93.0   \n",
       "4024             19                       33.0                    97.0   \n",
       "\n",
       "      Quality of Faculty Rank  Research Performance Rank  Score  \n",
       "24                       35.0                       27.0   87.3  \n",
       "2025                     34.0                       31.0   87.2  \n",
       "4024                     29.0                       32.0   87.3  "
      ]
     },
     "execution_count": 7,
     "metadata": {},
     "output_type": "execute_result"
    }
   ],
   "source": [
    "#Q3: Generate a pandas DataFrame containing all the statistics of \"University of Wisconsin–Madison\"\n",
    "rankings[rankings[\"Institution\"] == 'University of Wisconsin–Madison']"
   ]
  },
  {
   "cell_type": "code",
   "execution_count": 8,
   "id": "0e31e4c2",
   "metadata": {},
   "outputs": [
    {
     "data": {
      "text/plain": [
       "19"
      ]
     },
     "execution_count": 8,
     "metadata": {},
     "output_type": "execute_result"
    }
   ],
   "source": [
    "#Q4: What is the \"National Rank\" of the \"University of Wisconsin–Madison\" in the year 2021-2022?\n",
    "uwrank = rankings[rankings[\"Institution\"] == 'University of Wisconsin–Madison']\n",
    "uwrank = uwrank[uwrank['Year'] == '2021-2022']\n",
    "uwrank['National Rank'].iloc[0]"
   ]
  },
  {
   "cell_type": "code",
   "execution_count": 9,
   "id": "aa9d6a8d",
   "metadata": {},
   "outputs": [
    {
     "data": {
      "text/plain": [
       "87.26666666666667"
      ]
     },
     "execution_count": 9,
     "metadata": {},
     "output_type": "execute_result"
    }
   ],
   "source": [
    "#Q5: What is the average score of the \"University of Wisconsin–Madison\"?\n",
    "uwrank = rankings[rankings[\"Institution\"] == 'University of Wisconsin–Madison']\n",
    "uwrank['Score'].mean()"
   ]
  },
  {
   "cell_type": "code",
   "execution_count": 10,
   "id": "9cac14e9",
   "metadata": {},
   "outputs": [
    {
     "data": {
      "text/html": [
       "<div>\n",
       "<style scoped>\n",
       "    .dataframe tbody tr th:only-of-type {\n",
       "        vertical-align: middle;\n",
       "    }\n",
       "\n",
       "    .dataframe tbody tr th {\n",
       "        vertical-align: top;\n",
       "    }\n",
       "\n",
       "    .dataframe thead th {\n",
       "        text-align: right;\n",
       "    }\n",
       "</style>\n",
       "<table border=\"1\" class=\"dataframe\">\n",
       "  <thead>\n",
       "    <tr style=\"text-align: right;\">\n",
       "      <th></th>\n",
       "      <th>World Rank</th>\n",
       "      <th>Year</th>\n",
       "      <th>Institution</th>\n",
       "      <th>Country</th>\n",
       "      <th>National Rank</th>\n",
       "      <th>Quality of Education Rank</th>\n",
       "      <th>Alumni Employment Rank</th>\n",
       "      <th>Quality of Faculty Rank</th>\n",
       "      <th>Research Performance Rank</th>\n",
       "      <th>Score</th>\n",
       "    </tr>\n",
       "  </thead>\n",
       "  <tbody>\n",
       "    <tr>\n",
       "      <th>2094</th>\n",
       "      <td>95</td>\n",
       "      <td>2020-2021</td>\n",
       "      <td>National University of Singapore</td>\n",
       "      <td>Singapore</td>\n",
       "      <td>1</td>\n",
       "      <td>330.0</td>\n",
       "      <td>165.0</td>\n",
       "      <td>NaN</td>\n",
       "      <td>41.0</td>\n",
       "      <td>82.0</td>\n",
       "    </tr>\n",
       "    <tr>\n",
       "      <th>2139</th>\n",
       "      <td>140</td>\n",
       "      <td>2020-2021</td>\n",
       "      <td>Nanyang Technological University</td>\n",
       "      <td>Singapore</td>\n",
       "      <td>2</td>\n",
       "      <td>NaN</td>\n",
       "      <td>996.0</td>\n",
       "      <td>NaN</td>\n",
       "      <td>75.0</td>\n",
       "      <td>80.3</td>\n",
       "    </tr>\n",
       "    <tr>\n",
       "      <th>3150</th>\n",
       "      <td>1151</td>\n",
       "      <td>2020-2021</td>\n",
       "      <td>Singapore University of Technology and Design</td>\n",
       "      <td>Singapore</td>\n",
       "      <td>3</td>\n",
       "      <td>NaN</td>\n",
       "      <td>NaN</td>\n",
       "      <td>NaN</td>\n",
       "      <td>1092.0</td>\n",
       "      <td>69.4</td>\n",
       "    </tr>\n",
       "    <tr>\n",
       "      <th>3286</th>\n",
       "      <td>1287</td>\n",
       "      <td>2020-2021</td>\n",
       "      <td>Singapore Management University</td>\n",
       "      <td>Singapore</td>\n",
       "      <td>4</td>\n",
       "      <td>NaN</td>\n",
       "      <td>NaN</td>\n",
       "      <td>NaN</td>\n",
       "      <td>1225.0</td>\n",
       "      <td>68.7</td>\n",
       "    </tr>\n",
       "  </tbody>\n",
       "</table>\n",
       "</div>"
      ],
      "text/plain": [
       "      World Rank       Year                                    Institution  \\\n",
       "2094          95  2020-2021               National University of Singapore   \n",
       "2139         140  2020-2021               Nanyang Technological University   \n",
       "3150        1151  2020-2021  Singapore University of Technology and Design   \n",
       "3286        1287  2020-2021                Singapore Management University   \n",
       "\n",
       "        Country  National Rank  Quality of Education Rank  \\\n",
       "2094  Singapore              1                      330.0   \n",
       "2139  Singapore              2                        NaN   \n",
       "3150  Singapore              3                        NaN   \n",
       "3286  Singapore              4                        NaN   \n",
       "\n",
       "      Alumni Employment Rank  Quality of Faculty Rank  \\\n",
       "2094                   165.0                      NaN   \n",
       "2139                   996.0                      NaN   \n",
       "3150                     NaN                      NaN   \n",
       "3286                     NaN                      NaN   \n",
       "\n",
       "      Research Performance Rank  Score  \n",
       "2094                       41.0   82.0  \n",
       "2139                       75.0   80.3  \n",
       "3150                     1092.0   69.4  \n",
       "3286                     1225.0   68.7  "
      ]
     },
     "execution_count": 10,
     "metadata": {},
     "output_type": "execute_result"
    }
   ],
   "source": [
    "#Q6: Generate a pandas dataframe containing all the statistics of universities from Singapore in the year 2020-2021.\n",
    "Singapore = rankings[rankings[\"Country\"] == \"Singapore\"]\n",
    "Singapore[Singapore['Year'] == '2020-2021']"
   ]
  },
  {
   "cell_type": "code",
   "execution_count": 11,
   "id": "7c92389b",
   "metadata": {},
   "outputs": [
    {
     "data": {
      "text/plain": [
       "'Ludwig Maximilian University of Munich'"
      ]
     },
     "execution_count": 11,
     "metadata": {},
     "output_type": "execute_result"
    }
   ],
   "source": [
    "#Q7: In the year 2019-2020, what was the highest-ranked institution in Germany?\n",
    "Germany = rankings[rankings[\"Country\"] == \"Germany\"]\n",
    "Germany = Germany[Germany[\"National Rank\"] == 1]\n",
    "Germany = Germany[Germany['Year'] == \"2019-2020\"]\n",
    "Germany['Institution'].iloc[0]"
   ]
  },
  {
   "cell_type": "code",
   "execution_count": 12,
   "id": "1e5f7d4a",
   "metadata": {},
   "outputs": [
    {
     "data": {
      "text/plain": [
       "['Harvard University',\n",
       " 'Massachusetts Institute of Technology',\n",
       " 'Stanford University',\n",
       " 'Columbia University',\n",
       " 'Princeton University',\n",
       " 'University of California, Berkeley',\n",
       " 'University of Pennsylvania',\n",
       " 'University of Chicago',\n",
       " 'California Institute of Technology',\n",
       " 'Yale University',\n",
       " 'Cornell University',\n",
       " 'Northwestern University',\n",
       " 'University of California, Los Angeles',\n",
       " 'University of Michigan, Ann Arbor',\n",
       " 'Johns Hopkins University',\n",
       " 'University of Washington - Seattle',\n",
       " 'University of Illinois at Urbana–Champaign',\n",
       " 'Duke University',\n",
       " 'University of Wisconsin–Madison',\n",
       " 'New York University',\n",
       " 'University of California San Diego',\n",
       " 'University of Texas at Austin',\n",
       " 'University of California, San Francisco',\n",
       " 'University of North Carolina at Chapel Hill',\n",
       " 'University of Minnesota - Twin Cities',\n",
       " 'University of Texas Southwestern Medical Center',\n",
       " 'Washington University in St. Louis',\n",
       " 'University of Southern California',\n",
       " 'Brown University',\n",
       " 'Vanderbilt University',\n",
       " 'Pennsylvania State University',\n",
       " 'Rutgers University–New Brunswick',\n",
       " 'Dartmouth College',\n",
       " 'University of California, Davis']"
      ]
     },
     "execution_count": 12,
     "metadata": {},
     "output_type": "execute_result"
    }
   ],
   "source": [
    "#Q8: In the year 2019-2020, list all the institutions in the USA ranked better than the highest-ranked institution in Germany.\n",
    "Germany2019 = rankings[(rankings[\"Country\"] == \"Germany\") & (rankings[\"Year\"] == \"2019-2020\")]\n",
    "\n",
    "\n",
    "rankings[(rankings[\"Country\"] == \"USA\") & (rankings['World Rank'] < Germany2019['World Rank'].min()) & (rankings['Year'] == \"2019-2020\")][\"Institution\"].tolist()\n"
   ]
  },
  {
   "cell_type": "code",
   "execution_count": 13,
   "id": "69c562b6",
   "metadata": {},
   "outputs": [
    {
     "data": {
      "text/plain": [
       "'Fudan University'"
      ]
     },
     "execution_count": 13,
     "metadata": {},
     "output_type": "execute_result"
    }
   ],
   "source": [
    "#Q9: What is the highest-ranked institution based on “Quality of Education Rank” in China for the year 2021-2022?\n",
    "China = rankings[(rankings[\"Country\"] == \"China\") & (rankings['Year'] == '2021-2022')]\n",
    "China = China[China[\"Quality of Education Rank\"] == China[\"Quality of Education Rank\"].min()]\n",
    "China[\"Institution\"].iloc[0]\n",
    "\n",
    "\n"
   ]
  },
  {
   "cell_type": "code",
   "execution_count": 14,
   "id": "5012b247",
   "metadata": {},
   "outputs": [
    {
     "data": {
      "text/plain": [
       "['Indian Institute of Science',\n",
       " 'Tata Institute of Fundamental Research',\n",
       " 'Indian Institute of Technology Bombay',\n",
       " 'University of Delhi',\n",
       " 'Indian Institute of Technology Madras']"
      ]
     },
     "execution_count": 14,
     "metadata": {},
     "output_type": "execute_result"
    }
   ],
   "source": [
    "#Q10: What are the top five highest-ranked institutions based on \"Research Performance Rank\" in India for the year 2020-2021?\n",
    "\n",
    "sortedrankings = rankings.sort_values(by=[\"Research Performance Rank\"])\n",
    "top5 = sortedrankings[(sortedrankings[\"Country\"] == \"India\") & (sortedrankings['Year'] == '2020-2021')].iloc[0:5]\n",
    "top5['Institution'].tolist()"
   ]
  },
  {
   "cell_type": "code",
   "execution_count": 15,
   "id": "a825df7a",
   "metadata": {},
   "outputs": [
    {
     "data": {
      "text/plain": [
       "1856"
      ]
     },
     "execution_count": 15,
     "metadata": {},
     "output_type": "execute_result"
    }
   ],
   "source": [
    "#Q11: How many institutions have rankings for all three years?\n",
    "\n",
    "year_2019_ranking_df = rankings[rankings[\"Year\"] == \"2019-2020\"]\n",
    "year_2019_institutions_df = year_2019_ranking_df['Institution']\n",
    "set2019 = set(year_2019_institutions_df)\n",
    "\n",
    "year_2020_ranking_df = rankings[rankings[\"Year\"] == \"2020-2021\"]\n",
    "year_2020_institutions_df = year_2020_ranking_df['Institution']\n",
    "set2020 = set(year_2020_institutions_df)\n",
    "\n",
    "year_2021_ranking_df = rankings[rankings[\"Year\"] == \"2021-2022\"]\n",
    "year_2021_institutions_df = year_2021_ranking_df['Institution']\n",
    "set2021 = set(year_2021_institutions_df)\n",
    "\n",
    "len(list(set2019.intersection(set2020, set2021)))\n",
    "#institution_2019_2020_2021 = "
   ]
  },
  {
   "cell_type": "code",
   "execution_count": 16,
   "id": "abff01a2",
   "metadata": {},
   "outputs": [],
   "source": [
    "def reduce(f, i, initial = None):\n",
    "    if initial == None:\n",
    "        try:\n",
    "            rv = next(i)\n",
    "        except StopIteration:\n",
    "            return []\n",
    "    else:\n",
    "        rv = initial\n",
    "    \n",
    "    for j in i:\n",
    "        rv = f(rv, j)\n",
    "    return rv\n",
    "\n",
    "def bucketize_reduce(d, row, key, value):\n",
    "    k = key(row)\n",
    "    if type(k) == list:\n",
    "        for i in k:\n",
    "            bucketize_reduce(d, (i, value(row)), lambda x: x[0], lambda x: x[1])\n",
    "    else:\n",
    "        if not k in d:\n",
    "            d[k] = []\n",
    "        d[k].append(value(row))\n",
    "    return d\n",
    "\n",
    "def bucketize(l, key = lambda x: x[0], value = lambda x: x[1]):\n",
    "    return reduce(lambda d, row: bucketize_reduce(d, row, key, value), l, initial = {})\n",
    "\n",
    "def mean(l, key = lambda x: x):\n",
    "    l = list(l)\n",
    "    return sum(map(key, l)) / len(l)"
   ]
  },
  {
   "cell_type": "code",
   "execution_count": 17,
   "id": "4737511c",
   "metadata": {},
   "outputs": [
    {
     "data": {
      "text/html": [
       "<div>\n",
       "<style scoped>\n",
       "    .dataframe tbody tr th:only-of-type {\n",
       "        vertical-align: middle;\n",
       "    }\n",
       "\n",
       "    .dataframe tbody tr th {\n",
       "        vertical-align: top;\n",
       "    }\n",
       "\n",
       "    .dataframe thead th {\n",
       "        text-align: right;\n",
       "    }\n",
       "</style>\n",
       "<table border=\"1\" class=\"dataframe\">\n",
       "  <thead>\n",
       "    <tr style=\"text-align: right;\">\n",
       "      <th></th>\n",
       "      <th>Institution</th>\n",
       "      <th>2019_ranking</th>\n",
       "      <th>2020_ranking</th>\n",
       "      <th>2021_ranking</th>\n",
       "    </tr>\n",
       "  </thead>\n",
       "  <tbody>\n",
       "    <tr>\n",
       "      <th>0</th>\n",
       "      <td>Harvard University</td>\n",
       "      <td>1</td>\n",
       "      <td>1</td>\n",
       "      <td>1</td>\n",
       "    </tr>\n",
       "    <tr>\n",
       "      <th>1</th>\n",
       "      <td>Massachusetts Institute of Technology</td>\n",
       "      <td>2</td>\n",
       "      <td>2</td>\n",
       "      <td>2</td>\n",
       "    </tr>\n",
       "    <tr>\n",
       "      <th>2</th>\n",
       "      <td>Stanford University</td>\n",
       "      <td>3</td>\n",
       "      <td>3</td>\n",
       "      <td>3</td>\n",
       "    </tr>\n",
       "    <tr>\n",
       "      <th>3</th>\n",
       "      <td>University of Cambridge</td>\n",
       "      <td>4</td>\n",
       "      <td>4</td>\n",
       "      <td>4</td>\n",
       "    </tr>\n",
       "    <tr>\n",
       "      <th>4</th>\n",
       "      <td>University of Oxford</td>\n",
       "      <td>5</td>\n",
       "      <td>5</td>\n",
       "      <td>5</td>\n",
       "    </tr>\n",
       "    <tr>\n",
       "      <th>...</th>\n",
       "      <td>...</td>\n",
       "      <td>...</td>\n",
       "      <td>...</td>\n",
       "      <td>...</td>\n",
       "    </tr>\n",
       "    <tr>\n",
       "      <th>1851</th>\n",
       "      <td>Tôn Đức Thắng University</td>\n",
       "      <td>1978</td>\n",
       "      <td>1602</td>\n",
       "      <td>1426</td>\n",
       "    </tr>\n",
       "    <tr>\n",
       "      <th>1852</th>\n",
       "      <td>Taibah University</td>\n",
       "      <td>1979</td>\n",
       "      <td>1864</td>\n",
       "      <td>1826</td>\n",
       "    </tr>\n",
       "    <tr>\n",
       "      <th>1853</th>\n",
       "      <td>University of Massachusetts Dartmouth</td>\n",
       "      <td>1980</td>\n",
       "      <td>1607</td>\n",
       "      <td>1593</td>\n",
       "    </tr>\n",
       "    <tr>\n",
       "      <th>1854</th>\n",
       "      <td>Linyi University</td>\n",
       "      <td>1994</td>\n",
       "      <td>1943</td>\n",
       "      <td>1863</td>\n",
       "    </tr>\n",
       "    <tr>\n",
       "      <th>1855</th>\n",
       "      <td>Government College University Faisalabad</td>\n",
       "      <td>2000</td>\n",
       "      <td>1910</td>\n",
       "      <td>1853</td>\n",
       "    </tr>\n",
       "  </tbody>\n",
       "</table>\n",
       "<p>1856 rows × 4 columns</p>\n",
       "</div>"
      ],
      "text/plain": [
       "                                   Institution  2019_ranking  2020_ranking  \\\n",
       "0                           Harvard University             1             1   \n",
       "1        Massachusetts Institute of Technology             2             2   \n",
       "2                          Stanford University             3             3   \n",
       "3                      University of Cambridge             4             4   \n",
       "4                         University of Oxford             5             5   \n",
       "...                                        ...           ...           ...   \n",
       "1851                  Tôn Đức Thắng University          1978          1602   \n",
       "1852                         Taibah University          1979          1864   \n",
       "1853     University of Massachusetts Dartmouth          1980          1607   \n",
       "1854                          Linyi University          1994          1943   \n",
       "1855  Government College University Faisalabad          2000          1910   \n",
       "\n",
       "      2021_ranking  \n",
       "0                1  \n",
       "1                2  \n",
       "2                3  \n",
       "3                4  \n",
       "4                5  \n",
       "...            ...  \n",
       "1851          1426  \n",
       "1852          1826  \n",
       "1853          1593  \n",
       "1854          1863  \n",
       "1855          1853  \n",
       "\n",
       "[1856 rows x 4 columns]"
      ]
     },
     "execution_count": 17,
     "metadata": {},
     "output_type": "execute_result"
    }
   ],
   "source": [
    "years = [(year_2019_ranking_df, \"2019\"), (year_2020_ranking_df, \"2020\"), (year_2021_ranking_df, 2021)]\n",
    "\n",
    "institutions_df = reduce(lambda x, y: x.merge(y, how='inner', on='Institution'), map(lambda x: x[0][[\"Institution\", \"World Rank\"]].rename(columns = { \"World Rank\": f\"{x[1]}_ranking\" }), years))\n",
    "institutions_df"
   ]
  },
  {
   "cell_type": "code",
   "execution_count": 18,
   "id": "98a1ea1e",
   "metadata": {},
   "outputs": [
    {
     "data": {
      "text/html": [
       "<div>\n",
       "<style scoped>\n",
       "    .dataframe tbody tr th:only-of-type {\n",
       "        vertical-align: middle;\n",
       "    }\n",
       "\n",
       "    .dataframe tbody tr th {\n",
       "        vertical-align: top;\n",
       "    }\n",
       "\n",
       "    .dataframe thead th {\n",
       "        text-align: right;\n",
       "    }\n",
       "</style>\n",
       "<table border=\"1\" class=\"dataframe\">\n",
       "  <thead>\n",
       "    <tr style=\"text-align: right;\">\n",
       "      <th></th>\n",
       "      <th>Institution</th>\n",
       "      <th>2019_ranking</th>\n",
       "      <th>2020_ranking</th>\n",
       "      <th>2021_ranking</th>\n",
       "    </tr>\n",
       "  </thead>\n",
       "  <tbody>\n",
       "    <tr>\n",
       "      <th>0</th>\n",
       "      <td>Harvard University</td>\n",
       "      <td>1</td>\n",
       "      <td>1</td>\n",
       "      <td>1</td>\n",
       "    </tr>\n",
       "    <tr>\n",
       "      <th>1</th>\n",
       "      <td>Massachusetts Institute of Technology</td>\n",
       "      <td>2</td>\n",
       "      <td>2</td>\n",
       "      <td>2</td>\n",
       "    </tr>\n",
       "    <tr>\n",
       "      <th>2</th>\n",
       "      <td>Stanford University</td>\n",
       "      <td>3</td>\n",
       "      <td>3</td>\n",
       "      <td>3</td>\n",
       "    </tr>\n",
       "    <tr>\n",
       "      <th>3</th>\n",
       "      <td>University of Cambridge</td>\n",
       "      <td>4</td>\n",
       "      <td>4</td>\n",
       "      <td>4</td>\n",
       "    </tr>\n",
       "    <tr>\n",
       "      <th>4</th>\n",
       "      <td>University of Oxford</td>\n",
       "      <td>5</td>\n",
       "      <td>5</td>\n",
       "      <td>5</td>\n",
       "    </tr>\n",
       "    <tr>\n",
       "      <th>...</th>\n",
       "      <td>...</td>\n",
       "      <td>...</td>\n",
       "      <td>...</td>\n",
       "      <td>...</td>\n",
       "    </tr>\n",
       "    <tr>\n",
       "      <th>1851</th>\n",
       "      <td>Tôn Đức Thắng University</td>\n",
       "      <td>1978</td>\n",
       "      <td>1602</td>\n",
       "      <td>1426</td>\n",
       "    </tr>\n",
       "    <tr>\n",
       "      <th>1852</th>\n",
       "      <td>Taibah University</td>\n",
       "      <td>1979</td>\n",
       "      <td>1864</td>\n",
       "      <td>1826</td>\n",
       "    </tr>\n",
       "    <tr>\n",
       "      <th>1853</th>\n",
       "      <td>University of Massachusetts Dartmouth</td>\n",
       "      <td>1980</td>\n",
       "      <td>1607</td>\n",
       "      <td>1593</td>\n",
       "    </tr>\n",
       "    <tr>\n",
       "      <th>1854</th>\n",
       "      <td>Linyi University</td>\n",
       "      <td>1994</td>\n",
       "      <td>1943</td>\n",
       "      <td>1863</td>\n",
       "    </tr>\n",
       "    <tr>\n",
       "      <th>1855</th>\n",
       "      <td>Government College University Faisalabad</td>\n",
       "      <td>2000</td>\n",
       "      <td>1910</td>\n",
       "      <td>1853</td>\n",
       "    </tr>\n",
       "  </tbody>\n",
       "</table>\n",
       "<p>1856 rows × 4 columns</p>\n",
       "</div>"
      ],
      "text/plain": [
       "                                   Institution  2019_ranking  2020_ranking  \\\n",
       "0                           Harvard University             1             1   \n",
       "1        Massachusetts Institute of Technology             2             2   \n",
       "2                          Stanford University             3             3   \n",
       "3                      University of Cambridge             4             4   \n",
       "4                         University of Oxford             5             5   \n",
       "...                                        ...           ...           ...   \n",
       "1851                  Tôn Đức Thắng University          1978          1602   \n",
       "1852                         Taibah University          1979          1864   \n",
       "1853     University of Massachusetts Dartmouth          1980          1607   \n",
       "1854                          Linyi University          1994          1943   \n",
       "1855  Government College University Faisalabad          2000          1910   \n",
       "\n",
       "      2021_ranking  \n",
       "0                1  \n",
       "1                2  \n",
       "2                3  \n",
       "3                4  \n",
       "4                5  \n",
       "...            ...  \n",
       "1851          1426  \n",
       "1852          1826  \n",
       "1853          1593  \n",
       "1854          1863  \n",
       "1855          1853  \n",
       "\n",
       "[1856 rows x 4 columns]"
      ]
     },
     "execution_count": 18,
     "metadata": {},
     "output_type": "execute_result"
    }
   ],
   "source": [
    "#Q11.5\n",
    "# set_index function enables us to set any column in the DataFrame as row indices\n",
    "# to_json function enables us to convert the DataFrame into a JSON data structure\n",
    "institutions_df.set_index('Institution').to_json('my_institutions.json')\n",
    "institutions_df"
   ]
  },
  {
   "cell_type": "code",
   "execution_count": 19,
   "id": "cb69597c",
   "metadata": {},
   "outputs": [
    {
     "data": {
      "text/plain": [
       "['International Institute for Management Development',\n",
       " 'Haverford College',\n",
       " 'Academy of Scientific & Innovative Research',\n",
       " 'École nationale supérieure de chimie de Montpellier',\n",
       " 'SOAS University of London',\n",
       " 'Federal University of Mato Grosso do Sul',\n",
       " 'USI - University of Italian Speaking Switzerland',\n",
       " 'Antioch College',\n",
       " 'Tôn Đức Thắng University']"
      ]
     },
     "execution_count": 19,
     "metadata": {},
     "output_type": "execute_result"
    }
   ],
   "source": [
    "#Q12: Between the years 2019-2020 and 2021-2022, list the institutions which have seen an improvement in their \"World Rank\" by more than 500 ranks.\n",
    "\n",
    "institutions_df[\"2019_to_2021\"] = institutions_df[\"2019_ranking\"] - institutions_df[\"2021_ranking\"] \n",
    "institutions_df[(institutions_df[\"2019_to_2021\"] > 500)][\"Institution\"].tolist()"
   ]
  },
  {
   "cell_type": "code",
   "execution_count": 20,
   "id": "cb2d5ede",
   "metadata": {},
   "outputs": [
    {
     "data": {
      "text/plain": [
       "'USI - University of Italian Speaking Switzerland'"
      ]
     },
     "execution_count": 20,
     "metadata": {},
     "output_type": "execute_result"
    }
   ],
   "source": [
    "#Q13: Between the years 2019-2020 and 2021-2022, which institution has the most significant change in its \"World Rank\"?\n",
    "\n",
    "\n",
    "institutions_df[institutions_df[\"2019_to_2021\"] == institutions_df[\"2019_to_2021\"].max()][\"Institution\"].iloc[0]\n"
   ]
  },
  {
   "cell_type": "code",
   "execution_count": 21,
   "id": "fcd6ef7d",
   "metadata": {},
   "outputs": [
    {
     "data": {
      "text/plain": [
       "451"
      ]
     },
     "execution_count": 21,
     "metadata": {},
     "output_type": "execute_result"
    }
   ],
   "source": [
    "#Q14: For all the three years, find the number of institutions which have a continuous improvement in their \"World Rank\".\n",
    "improved = institutions_df[(institutions_df[\"2019_ranking\"] - institutions_df[\"2020_ranking\"] > 0)]\n",
    "improved = improved[(improved[\"2020_ranking\"] - improved['2021_ranking'] > 0)]\n",
    "len(improved[\"Institution\"].tolist())\n",
    "\n",
    "#institutions_df[\"2021_ranking\"]"
   ]
  },
  {
   "cell_type": "code",
   "execution_count": 22,
   "id": "324b618b",
   "metadata": {},
   "outputs": [
    {
     "data": {
      "text/plain": [
       "['HEC Paris',\n",
       " 'University of Tokyo',\n",
       " 'International Institute for Management Development',\n",
       " 'INSEAD',\n",
       " \"École nationale d'administration\",\n",
       " 'Institut Polytechnique de Paris',\n",
       " 'China Europe International Business School']"
      ]
     },
     "execution_count": 22,
     "metadata": {},
     "output_type": "execute_result"
    }
   ],
   "source": [
    "#Q15: In the year 2020-2021, list the institutions which are within the top 10 in the world based on \"Alumni Employment Rank\" but do not feature in the top 10 of the world ranking.\n",
    "alum_top10 = rankings[(rankings['Year'] == \"2020-2021\")].sort_values(by = \"Alumni Employment Rank\").iloc[0:10]\n",
    "world_top10 = rankings[(rankings['Year'] == \"2020-2021\")].sort_values(by = \"World Rank\").iloc[0:10]\n",
    "\n",
    "\n",
    "list(set(alum_top10[\"Institution\"]) - set(world_top10[\"Institution\"]))\n",
    "\n"
   ]
  },
  {
   "cell_type": "code",
   "execution_count": 23,
   "id": "96370c22",
   "metadata": {},
   "outputs": [
    {
     "data": {
      "text/plain": [
       "['Emory University',\n",
       " 'Aarhus University',\n",
       " 'École normale supérieure',\n",
       " 'École Polytechnique Fédérale de Lausanne',\n",
       " 'Tufts University',\n",
       " 'University of Utah',\n",
       " 'University of Groningen',\n",
       " 'University of California San Diego',\n",
       " 'Paris-Sud University',\n",
       " 'École Polytechnique',\n",
       " 'University of Texas MD Anderson Cancer Center',\n",
       " 'Paris Diderot University']"
      ]
     },
     "execution_count": 23,
     "metadata": {},
     "output_type": "execute_result"
    }
   ],
   "source": [
    " #Q16: List the universities which ranked in the top 100 of world rankings in the year 2019-2020 but failed to do so in rankings of year 2021-2022.\n",
    "world100_2019_2020 = rankings[(rankings['Year'] == \"2019-2020\")].sort_values(by = \"World Rank\").iloc[0:100]\n",
    "world100_2021_2022 = rankings[(rankings['Year'] == \"2021-2022\")].sort_values(by = \"World Rank\").iloc[0:100]\n",
    "    \n",
    "list(set(world100_2019_2020[\"Institution\"]) - set(world100_2021_2022[\"Institution\"]))\n",
    "    \n",
    "    "
   ]
  },
  {
   "cell_type": "code",
   "execution_count": 24,
   "id": "005648bd",
   "metadata": {},
   "outputs": [
    {
     "data": {
      "text/plain": [
       "['USA', 'United Kingdom']"
      ]
     },
     "execution_count": 24,
     "metadata": {},
     "output_type": "execute_result"
    }
   ],
   "source": [
    "#Q17: List the countries which have at least 10 institutions featuring in the top 100 of world rankings in the year 2020-2021.\n",
    "top100_2021 = rankings[(rankings[\"Year\"] == \"2020-2021\") & (rankings['World Rank'] <= 100)]\n",
    "counts = top100_2021[\"Country\"].value_counts()\n",
    "counts[counts >= 10].index.tolist()\n",
    "\n"
   ]
  },
  {
   "cell_type": "code",
   "execution_count": 31,
   "id": "59ee5bbd",
   "metadata": {},
   "outputs": [],
   "source": [
    "def parse_int(d):\n",
    "    try: return int(d)\n",
    "    except ValueError: return None\n",
    "    \n",
    "def parse_float(d):\n",
    "    try: return float(d)\n",
    "    except ValueError: return None\n",
    "\n",
    "def parse_table(table):\n",
    "    tbl = table.find_all('tr')\n",
    "    header = parse_header(tbl[0])\n",
    "    rows = map(lambda x: dict(zip(header, parse_row(x))), tbl[1:])\n",
    "    return rows\n",
    "    \n",
    "def parse_row(row):\n",
    "    return parse_rowlike(row, 'td')\n",
    "    \n",
    "def parse_header(header):\n",
    "    return parse_rowlike(header, 'th')\n",
    "    \n",
    "def parse_rowlike(data, tag):\n",
    "    return list(map(lambda x: x.text, data.find_all(tag)))\n",
    "\n",
    "def parse_html_table_file(path):\n",
    "    f = open(path, encoding='utf-8')\n",
    "    doc = BeautifulSoup(f.read(), 'html.parser')\n",
    "    f.close()\n",
    "    return parse_datatypes(parse_table(doc.find('table')))\n",
    "\n",
    "def insert_year(table, year):\n",
    "    def _f(x):\n",
    "        x[\"Year\"] = year\n",
    "        return x\n",
    "    return map(_f, table)\n",
    "\n",
    "def parse_datatypes(table):\n",
    "    ints = [\"World Rank\", 'National Rank', 'Quality of Education Rank', 'Alumni Employment Rank', 'Quality of Faculty Rank', 'Research Performance Rank']\n",
    "    floats = ['Score']\n",
    "\n",
    "    def _f(x):\n",
    "        def _g(y):\n",
    "            if y[0] in ints:\n",
    "                return (y[0], parse_int(y[1]))\n",
    "            elif y[0] in floats:\n",
    "                return (y[0], parse_float(y[1]))\n",
    "            else:\n",
    "                return y\n",
    "            \n",
    "        return dict(map(_g, x.items()))\n",
    "    return map(_f, table)"
   ]
  },
  {
   "cell_type": "code",
   "execution_count": 32,
   "id": "39590940",
   "metadata": {},
   "outputs": [
    {
     "data": {
      "text/plain": [
       "['World Rank',\n",
       " 'Institution',\n",
       " 'Country',\n",
       " 'National Rank',\n",
       " 'Quality of Education Rank',\n",
       " 'Alumni Employment Rank',\n",
       " 'Quality of Faculty Rank',\n",
       " 'Research Performance Rank',\n",
       " 'Score']"
      ]
     },
     "execution_count": 32,
     "metadata": {},
     "output_type": "execute_result"
    }
   ],
   "source": [
    "#Q18: Use BeautifulSoup to parse `2019-2020.html`, and find the table containing the ranking data. What are the column names of this table?\n",
    "table19 = list(parse_html_table_file(\"2019-2020.html\"))\n",
    "list(table19[0].keys())\n"
   ]
  },
  {
   "cell_type": "code",
   "execution_count": 33,
   "id": "332d7e67",
   "metadata": {},
   "outputs": [
    {
     "data": {
      "text/plain": [
       "[{'World Rank': 1,\n",
       "  'Institution': 'Harvard University',\n",
       "  'Country': 'USA',\n",
       "  'National Rank': 1,\n",
       "  'Quality of Education Rank': 2,\n",
       "  'Alumni Employment Rank': 1,\n",
       "  'Quality of Faculty Rank': 1,\n",
       "  'Research Performance Rank': 1,\n",
       "  'Score': 100.0,\n",
       "  'Year': '2019-2020'},\n",
       " {'World Rank': 2,\n",
       "  'Institution': 'Massachusetts Institute of Technology',\n",
       "  'Country': 'USA',\n",
       "  'National Rank': 2,\n",
       "  'Quality of Education Rank': 1,\n",
       "  'Alumni Employment Rank': 10,\n",
       "  'Quality of Faculty Rank': 2,\n",
       "  'Research Performance Rank': 5,\n",
       "  'Score': 96.7,\n",
       "  'Year': '2019-2020'},\n",
       " {'World Rank': 3,\n",
       "  'Institution': 'Stanford University',\n",
       "  'Country': 'USA',\n",
       "  'National Rank': 3,\n",
       "  'Quality of Education Rank': 9,\n",
       "  'Alumni Employment Rank': 3,\n",
       "  'Quality of Faculty Rank': 3,\n",
       "  'Research Performance Rank': 2,\n",
       "  'Score': 95.2,\n",
       "  'Year': '2019-2020'},\n",
       " {'World Rank': 4,\n",
       "  'Institution': 'University of Cambridge',\n",
       "  'Country': 'United Kingdom',\n",
       "  'National Rank': 1,\n",
       "  'Quality of Education Rank': 4,\n",
       "  'Alumni Employment Rank': 19,\n",
       "  'Quality of Faculty Rank': 5,\n",
       "  'Research Performance Rank': 11,\n",
       "  'Score': 94.1,\n",
       "  'Year': '2019-2020'},\n",
       " {'World Rank': 5,\n",
       "  'Institution': 'University of Oxford',\n",
       "  'Country': 'United Kingdom',\n",
       "  'National Rank': 2,\n",
       "  'Quality of Education Rank': 10,\n",
       "  'Alumni Employment Rank': 24,\n",
       "  'Quality of Faculty Rank': 10,\n",
       "  'Research Performance Rank': 4,\n",
       "  'Score': 93.3,\n",
       "  'Year': '2019-2020'}]"
      ]
     },
     "execution_count": 33,
     "metadata": {},
     "output_type": "execute_result"
    }
   ],
   "source": [
    "#Q19: Parse the contents of the table you found in `2019-2020.html` and represent it as a list of dicts. What are the first 5 dictionaries in the list?\n",
    "\n",
    "list(insert_year(table19, \"2019-2020\"))[:5]\n"
   ]
  },
  {
   "cell_type": "code",
   "execution_count": 30,
   "id": "fc3ad5fc",
   "metadata": {},
   "outputs": [],
   "source": [
    "#Q20: Parse the contents of `2019-2020.html`, `2020-2021.html`, and `2021-2022.html` and combine them to create a file titled `my_rankings.json`.\n",
    "\n",
    "files = [\"2019-2020.html\", \"2020-2021.html\", \"2021-2022.html\"]\n",
    "tables = map(lambda x: parse_html_table_file(x), files)\n",
    "tables = map(lambda x: list(insert_year(x[1], x[0].split(\".\")[0])), zip(files, tables))\n",
    "data = reduce(lambda x, y: x + y, tables)\n",
    "f = open(\"my_rankings.json\", \"w\")\n",
    "json.dump(data, f)\n",
    "f.close()"
   ]
  },
  {
   "cell_type": "code",
   "execution_count": null,
   "id": "0cb96653",
   "metadata": {},
   "outputs": [],
   "source": []
  },
  {
   "cell_type": "code",
   "execution_count": null,
   "id": "aa72ce81",
   "metadata": {},
   "outputs": [],
   "source": []
  }
 ],
 "metadata": {
  "kernelspec": {
   "display_name": "Python 3",
   "language": "python",
   "name": "python3"
  },
  "language_info": {
   "codemirror_mode": {
    "name": "ipython",
    "version": 3
   },
   "file_extension": ".py",
   "mimetype": "text/x-python",
   "name": "python",
   "nbconvert_exporter": "python",
   "pygments_lexer": "ipython3",
   "version": "3.8.8"
  }
 },
 "nbformat": 4,
 "nbformat_minor": 5
}
