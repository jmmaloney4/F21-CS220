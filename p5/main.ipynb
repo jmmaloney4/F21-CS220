{
 "cells": [
  {
   "cell_type": "code",
   "execution_count": null,
   "id": "39faf8b9",
   "metadata": {},
   "outputs": [],
   "source": []
  },
  {
   "cell_type": "code",
   "execution_count": 1,
   "id": "151146db",
   "metadata": {},
   "outputs": [
    {
     "name": "stdout",
     "output_type": "stream",
     "text": [
      "Help on module project:\n",
      "\n",
      "NAME\n",
      "    project\n",
      "\n",
      "FUNCTIONS\n",
      "    __init__()\n",
      "    \n",
      "    count()\n",
      "        This function will return the number of records in the dataset\n",
      "    \n",
      "    get_damage(idx)\n",
      "        get_damage(idx) returns the damage in dollars of the hurricane in row idx\n",
      "    \n",
      "    get_deaths(idx)\n",
      "        get_deaths(idx) returns the deaths of the hurricane in row idx\n",
      "    \n",
      "    get_dissipated(idx)\n",
      "        get_dissipated(idx) returns the date of dissipation of the hurricane in row idx\n",
      "    \n",
      "    get_formed(idx)\n",
      "        get_formed(idx) returns the date of formation of the hurricane in row idx\n",
      "    \n",
      "    get_mph(idx)\n",
      "        get_mph(idx) returns the mph of the hurricane in row idx\n",
      "    \n",
      "    get_name(idx)\n",
      "        get_name(idx) returns the name of the hurricane in row idx\n",
      "\n",
      "DATA\n",
      "    __hurricane__ = [{'damage': '2.55M', 'deaths': '38', 'dissipated': '09...\n",
      "\n",
      "FILE\n",
      "    /Users/ccm/Documents/F21-CS220/p5/project.py\n",
      "\n",
      "\n"
     ]
    }
   ],
   "source": [
    "import project\n",
    "dir(project)\n",
    "help(project)"
   ]
  },
  {
   "cell_type": "code",
   "execution_count": 2,
   "id": "2c4aeb92",
   "metadata": {},
   "outputs": [
    {
     "data": {
      "text/plain": [
       "141"
      ]
     },
     "execution_count": 2,
     "metadata": {},
     "output_type": "execute_result"
    }
   ],
   "source": [
    "#Q1: How many hurricanes are recorded in the dataset?\n",
    "project.count()"
   ]
  },
  {
   "cell_type": "code",
   "execution_count": 3,
   "id": "0f186290",
   "metadata": {},
   "outputs": [
    {
     "data": {
      "text/plain": [
       "'Isaias'"
      ]
     },
     "execution_count": 3,
     "metadata": {},
     "output_type": "execute_result"
    }
   ],
   "source": [
    "#Q2: What is the name of the hurricane at index 86?\n",
    "project.get_name(86)"
   ]
  },
  {
   "cell_type": "code",
   "execution_count": 4,
   "id": "8d7c988b",
   "metadata": {},
   "outputs": [
    {
     "data": {
      "text/plain": [
       "1"
      ]
     },
     "execution_count": 4,
     "metadata": {},
     "output_type": "execute_result"
    }
   ],
   "source": [
    "#Q3: How many deaths were caused by the hurricane at the last index?\n",
    "project.get_deaths(project.count() - 1)"
   ]
  },
  {
   "cell_type": "code",
   "execution_count": 45,
   "id": "868a1c67",
   "metadata": {
    "scrolled": false
   },
   "outputs": [
    {
     "data": {
      "text/plain": [
       "2"
      ]
     },
     "execution_count": 45,
     "metadata": {},
     "output_type": "execute_result"
    }
   ],
   "source": [
    "#Q4: How many hurricanes named Omar are in the dataset?\n",
    "x = project.count()\n",
    "count = 0\n",
    "\n",
    "for i in range(0,x):\n",
    "    if project.get_name(i).lower() == 'omar':\n",
    "        count += 1\n",
    "    i += 1\n",
    "count"
   ]
  },
  {
   "cell_type": "code",
   "execution_count": 6,
   "id": "32199657",
   "metadata": {},
   "outputs": [
    {
     "data": {
      "text/plain": [
       "75"
      ]
     },
     "execution_count": 6,
     "metadata": {},
     "output_type": "execute_result"
    }
   ],
   "source": [
    "#Q5: What is the slowest MPH a hurricane has ever gone?\n",
    "x = project.count()\n",
    "min(map(lambda i: project.get_mph(i), range(0,x)))\n"
   ]
  },
  {
   "cell_type": "code",
   "execution_count": 7,
   "id": "fb774373",
   "metadata": {},
   "outputs": [
    {
     "data": {
      "text/plain": [
       "115"
      ]
     },
     "execution_count": 7,
     "metadata": {},
     "output_type": "execute_result"
    }
   ],
   "source": [
    "#Q6: How much faster was the fastest hurricane compared to the slowest hurricane in the dataset?\n",
    "x = project.count()\n",
    "max(map(lambda i: project.get_mph(i), range(0,x))) - min(map(lambda i: project.get_mph(i), range(0,x)))"
   ]
  },
  {
   "cell_type": "code",
   "execution_count": 46,
   "id": "65a4c111",
   "metadata": {},
   "outputs": [
    {
     "data": {
      "text/plain": [
       "68700000000.0"
      ]
     },
     "execution_count": 46,
     "metadata": {},
     "output_type": "execute_result"
    }
   ],
   "source": [
    "#Q7: What is the damage (in dollars) caused by hurricane \"Sandy\"?\n",
    "def get_idx(hurricanename):\n",
    "    x = project.count()\n",
    "    count = 0\n",
    "    for i in range(0,x):\n",
    "        if project.get_name(i) == hurricanename:\n",
    "            return i\n",
    "            break\n",
    "        i += 1\n",
    "        \n",
    "def format_damage(name):\n",
    "    string_damage = project.get_damage(get_idx(name))\n",
    "    \n",
    "    if string_damage.endswith('B') == True:\n",
    "        damage = string_damage[:-1]\n",
    "        damage = float(damage) * 1000000000\n",
    "        \n",
    "    elif string_damage.endswith('M') == True:\n",
    "        damage = string_damage[:-1]\n",
    "        damage = float(damage) * 1000000\n",
    "        \n",
    "    elif string_damage.endswith('K') == True:\n",
    "        damage = string_damage[:-1]\n",
    "        damage = float(damage) * 1000\n",
    "        \n",
    "    return damage\n",
    "\n",
    "format_damage('Sandy')"
   ]
  },
  {
   "cell_type": "code",
   "execution_count": 30,
   "id": "7b755437",
   "metadata": {},
   "outputs": [
    {
     "data": {
      "text/plain": [
       "True"
      ]
     },
     "execution_count": 30,
     "metadata": {},
     "output_type": "execute_result"
    }
   ],
   "source": []
  },
  {
   "cell_type": "code",
   "execution_count": null,
   "id": "1da03ead",
   "metadata": {},
   "outputs": [],
   "source": []
  },
  {
   "cell_type": "code",
   "execution_count": null,
   "id": "3a92bce1",
   "metadata": {},
   "outputs": [],
   "source": []
  }
 ],
 "metadata": {
  "kernelspec": {
   "display_name": "Python 3",
   "language": "python",
   "name": "python3"
  },
  "language_info": {
   "codemirror_mode": {
    "name": "ipython",
    "version": 3
   },
   "file_extension": ".py",
   "mimetype": "text/x-python",
   "name": "python",
   "nbconvert_exporter": "python",
   "pygments_lexer": "ipython3",
   "version": "3.8.8"
  }
 },
 "nbformat": 4,
 "nbformat_minor": 5
}
