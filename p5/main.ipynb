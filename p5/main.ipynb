{
 "cells": [
  {
   "cell_type": "code",
   "execution_count": null,
   "id": "39faf8b9",
   "metadata": {},
   "outputs": [],
   "source": [
    "# project: p5\n",
    "# submitter: jmaloney3\n",
    "# partner: ccmaloney\n",
    "# hours: 6"
   ]
  },
  {
   "cell_type": "code",
   "execution_count": 1,
   "id": "151146db",
   "metadata": {},
   "outputs": [
    {
     "name": "stdout",
     "output_type": "stream",
     "text": [
      "Help on module project:\n",
      "\n",
      "NAME\n",
      "    project\n",
      "\n",
      "FUNCTIONS\n",
      "    __init__()\n",
      "    \n",
      "    count()\n",
      "        This function will return the number of records in the dataset\n",
      "    \n",
      "    get_damage(idx)\n",
      "        get_damage(idx) returns the damage in dollars of the hurricane in row idx\n",
      "    \n",
      "    get_deaths(idx)\n",
      "        get_deaths(idx) returns the deaths of the hurricane in row idx\n",
      "    \n",
      "    get_dissipated(idx)\n",
      "        get_dissipated(idx) returns the date of dissipation of the hurricane in row idx\n",
      "    \n",
      "    get_formed(idx)\n",
      "        get_formed(idx) returns the date of formation of the hurricane in row idx\n",
      "    \n",
      "    get_mph(idx)\n",
      "        get_mph(idx) returns the mph of the hurricane in row idx\n",
      "    \n",
      "    get_name(idx)\n",
      "        get_name(idx) returns the name of the hurricane in row idx\n",
      "\n",
      "DATA\n",
      "    __hurricane__ = [{'damage': '2.55M', 'deaths': '38', 'dissipated': '09...\n",
      "\n",
      "FILE\n",
      "    /Users/jack/Library/Mobile Documents/com~apple~CloudDocs/Developer/github.com/jmmaloney4/F21-CS220/p5/project.py\n",
      "\n",
      "\n"
     ]
    }
   ],
   "source": [
    "import project\n",
    "dir(project)\n",
    "help(project)"
   ]
  },
  {
   "cell_type": "code",
   "execution_count": 2,
   "id": "2c4aeb92",
   "metadata": {},
   "outputs": [
    {
     "data": {
      "text/plain": [
       "141"
      ]
     },
     "execution_count": 2,
     "metadata": {},
     "output_type": "execute_result"
    }
   ],
   "source": [
    "#Q1: How many hurricanes are recorded in the dataset?\n",
    "project.count()"
   ]
  },
  {
   "cell_type": "code",
   "execution_count": 3,
   "id": "0f186290",
   "metadata": {},
   "outputs": [
    {
     "data": {
      "text/plain": [
       "'Isaias'"
      ]
     },
     "execution_count": 3,
     "metadata": {},
     "output_type": "execute_result"
    }
   ],
   "source": [
    "#Q2: What is the name of the hurricane at index 86?\n",
    "project.get_name(86)"
   ]
  },
  {
   "cell_type": "code",
   "execution_count": 4,
   "id": "8d7c988b",
   "metadata": {},
   "outputs": [
    {
     "data": {
      "text/plain": [
       "1"
      ]
     },
     "execution_count": 4,
     "metadata": {},
     "output_type": "execute_result"
    }
   ],
   "source": [
    "#Q3: How many deaths were caused by the hurricane at the last index?\n",
    "project.get_deaths(project.count() - 1)"
   ]
  },
  {
   "cell_type": "code",
   "execution_count": 5,
   "id": "868a1c67",
   "metadata": {
    "scrolled": false
   },
   "outputs": [
    {
     "data": {
      "text/plain": [
       "2"
      ]
     },
     "execution_count": 5,
     "metadata": {},
     "output_type": "execute_result"
    }
   ],
   "source": [
    "#Q4: How many hurricanes named Omar are in the dataset?\n",
    "x = project.count()\n",
    "count = 0\n",
    "\n",
    "for i in range(0,x):\n",
    "    if project.get_name(i).lower() == 'omar':\n",
    "        count += 1\n",
    "    i += 1\n",
    "count"
   ]
  },
  {
   "cell_type": "code",
   "execution_count": 6,
   "id": "32199657",
   "metadata": {},
   "outputs": [
    {
     "data": {
      "text/plain": [
       "75"
      ]
     },
     "execution_count": 6,
     "metadata": {},
     "output_type": "execute_result"
    }
   ],
   "source": [
    "#Q5: What is the slowest MPH a hurricane has ever gone?\n",
    "x = project.count()\n",
    "min(map(lambda i: project.get_mph(i), range(0,x)))\n"
   ]
  },
  {
   "cell_type": "code",
   "execution_count": 7,
   "id": "fb774373",
   "metadata": {},
   "outputs": [
    {
     "data": {
      "text/plain": [
       "115"
      ]
     },
     "execution_count": 7,
     "metadata": {},
     "output_type": "execute_result"
    }
   ],
   "source": [
    "#Q6: How much faster was the fastest hurricane compared to the slowest hurricane in the dataset?\n",
    "x = project.count()\n",
    "max(map(lambda i: project.get_mph(i), range(0,x))) - min(map(lambda i: project.get_mph(i), range(0,x)))"
   ]
  },
  {
   "cell_type": "code",
   "execution_count": 8,
   "id": "65a4c111",
   "metadata": {},
   "outputs": [
    {
     "data": {
      "text/plain": [
       "68700000000.0"
      ]
     },
     "execution_count": 8,
     "metadata": {},
     "output_type": "execute_result"
    }
   ],
   "source": [
    "#Q7: What is the damage (in dollars) caused by hurricane \"Sandy\"?\n",
    "def get_idx(hurricanename):\n",
    "    x = project.count()\n",
    "    count = 0\n",
    "    for i in range(0,x):\n",
    "        if project.get_name(i) == hurricanename:\n",
    "            return i\n",
    "            break\n",
    "        i += 1\n",
    "        \n",
    "def format_damage(name):\n",
    "    string_damage = project.get_damage(get_idx(name))\n",
    "    \n",
    "    if string_damage.endswith('B') == True:\n",
    "        damage = string_damage[:-1]\n",
    "        damage = float(damage) * (10 ** 9)\n",
    "        \n",
    "    elif string_damage.endswith('M') == True:\n",
    "        damage = string_damage[:-1]\n",
    "        damage = float(damage) * (10 ** 6)\n",
    "        \n",
    "    elif string_damage.endswith('K') == True:\n",
    "        damage = string_damage[:-1]\n",
    "        damage = float(damage) * (10 ** 3)\n",
    "        \n",
    "    return damage\n",
    "\n",
    "format_damage('Sandy')"
   ]
  },
  {
   "cell_type": "code",
   "execution_count": 9,
   "id": "7b755437",
   "metadata": {},
   "outputs": [
    {
     "data": {
      "text/plain": [
       "'Katrina'"
      ]
     },
     "execution_count": 9,
     "metadata": {},
     "output_type": "execute_result"
    }
   ],
   "source": [
    "#Q8: What is the name of the hurricane which did the most damage?\n",
    "\n",
    "def all_hurricanes():\n",
    "    return list(map(project.get_name, range(0, project.count())))\n",
    "\n",
    "def most_dmg():\n",
    "    max_damage = max(map(format_damage, all_hurricanes()))\n",
    "    return list(map(lambda x: x[0],\n",
    "                    filter(lambda x: x[1] == max_damage, \n",
    "                        map(lambda name: (name, format_damage(name)), \n",
    "                            all_hurricanes()))))\n",
    "\n",
    "most_dmg()[0]"
   ]
  },
  {
   "cell_type": "code",
   "execution_count": 10,
   "id": "1da03ead",
   "metadata": {},
   "outputs": [
    {
     "data": {
      "text/plain": [
       "175"
      ]
     },
     "execution_count": 10,
     "metadata": {},
     "output_type": "execute_result"
    }
   ],
   "source": [
    "#Q9: What is the speed of the hurricane which did the most damage?\n",
    "\n",
    "project.get_mph(get_idx(most_dmg()[0]))"
   ]
  },
  {
   "cell_type": "code",
   "execution_count": 11,
   "id": "3a92bce1",
   "metadata": {},
   "outputs": [
    {
     "data": {
      "text/plain": [
       "2704200000.0"
      ]
     },
     "execution_count": 11,
     "metadata": {},
     "output_type": "execute_result"
    }
   ],
   "source": [
    "#Q10: What is the total damage caused by hurricanes with names starting with the letter E?\n",
    "\n",
    "sum(map(format_damage, filter(lambda x: x.startswith(\"E\"), all_hurricanes())))"
   ]
  },
  {
   "cell_type": "code",
   "execution_count": 37,
   "id": "d44e946e",
   "metadata": {},
   "outputs": [],
   "source": [
    "import datetime\n",
    "\n",
    "def parse_date(s):\n",
    "    return datetime.datetime.strptime(s, \"%m/%d/%Y\")\n",
    "\n",
    "def year_formed(i):\n",
    "    date = project.get_formed(i)\n",
    "    return datetime.datetime.strptime(date, \"%m/%d/%Y\").year\n",
    "\n",
    "def deadliest_in_range(rng):\n",
    "    max_deaths = max(map(project.get_deaths, filter(lambda i: year_formed(i) in rng, \n",
    "                   range(0, project.count()))))\n",
    "    \n",
    "    return list(map(lambda x: x[1], \n",
    "        filter(lambda x: x[0] == max_deaths,\n",
    "               map(lambda x: (project.get_deaths(x), project.get_name(x)), \n",
    "                   range(0, project.count())))))"
   ]
  },
  {
   "cell_type": "code",
   "execution_count": 38,
   "id": "f9ff58b2",
   "metadata": {},
   "outputs": [
    {
     "data": {
      "text/plain": [
       "'David'"
      ]
     },
     "execution_count": 38,
     "metadata": {},
     "output_type": "execute_result"
    }
   ],
   "source": [
    "#Q11: What is the name of the deadliest hurricane active in the 20th century (1901 to 2000, inclusive)?\n",
    "deadliest_in_range(range(1901, 2000 + 1))[0]"
   ]
  },
  {
   "cell_type": "code",
   "execution_count": 39,
   "id": "55b658ce",
   "metadata": {},
   "outputs": [
    {
     "data": {
      "text/plain": [
       "1899"
      ]
     },
     "execution_count": 39,
     "metadata": {},
     "output_type": "execute_result"
    }
   ],
   "source": [
    "#Q12: Which year in the dataset witnessed the formation of the deadliest hurricane?\n",
    "import sys\n",
    "year_formed(get_idx(deadliest_in_range(range(0, sys.maxsize))[0]))"
   ]
  },
  {
   "cell_type": "code",
   "execution_count": 40,
   "id": "40c1eea7",
   "metadata": {},
   "outputs": [
    {
     "data": {
      "text/plain": [
       "91610000000.0"
      ]
     },
     "execution_count": 40,
     "metadata": {},
     "output_type": "execute_result"
    }
   ],
   "source": [
    "#Q13: How much damage was done by the deadliest hurricane this century thus far (2001 to 2021, inclusive)?\n",
    "\n",
    "format_damage(deadliest_in_range(range(2001, 2021 + 1))[0])"
   ]
  },
  {
   "cell_type": "code",
   "execution_count": 41,
   "id": "bbc1e1cc",
   "metadata": {},
   "outputs": [
    {
     "data": {
      "text/plain": [
       "140"
      ]
     },
     "execution_count": 41,
     "metadata": {},
     "output_type": "execute_result"
    }
   ],
   "source": [
    "#Q14: What is the speed of the fastest hurricane which resulted in 0 deaths?\n",
    "zero_deaths = list(filter(lambda i: project.get_deaths(i) == 0, range(0, project.count())))\n",
    "max(map(project.get_mph, zero_deaths))"
   ]
  },
  {
   "cell_type": "code",
   "execution_count": 42,
   "id": "9a50358e",
   "metadata": {},
   "outputs": [],
   "source": [
    "def get_year_total(year):\n",
    "    return len(list(filter(lambda i: year_formed(i) == year, range(0, project.count()))))"
   ]
  },
  {
   "cell_type": "code",
   "execution_count": 43,
   "id": "3c8082aa",
   "metadata": {},
   "outputs": [
    {
     "data": {
      "text/plain": [
       "3"
      ]
     },
     "execution_count": 43,
     "metadata": {},
     "output_type": "execute_result"
    }
   ],
   "source": [
    "#Q15: How many hurricanes were formed in the year 2002?\n",
    "get_year_total(2002)"
   ]
  },
  {
   "cell_type": "code",
   "execution_count": 44,
   "id": "df4e64c1",
   "metadata": {},
   "outputs": [
    {
     "data": {
      "text/plain": [
       "22"
      ]
     },
     "execution_count": 44,
     "metadata": {},
     "output_type": "execute_result"
    }
   ],
   "source": [
    "#Q16: How many hurricanes were formed in the last decade (2011 to 2020, inclusive)?\n",
    "sum(list(map(get_year_total, range(2011, 2020 + 1))))"
   ]
  },
  {
   "cell_type": "code",
   "execution_count": 45,
   "id": "3b49c2b6",
   "metadata": {},
   "outputs": [],
   "source": [
    "def get_decade_total(start):\n",
    "    return sum(list(map(get_year_total, range(start, start + 11))))"
   ]
  },
  {
   "cell_type": "code",
   "execution_count": 46,
   "id": "997f238a",
   "metadata": {},
   "outputs": [
    {
     "data": {
      "text/plain": [
       "'1991 to 2000'"
      ]
     },
     "execution_count": 46,
     "metadata": {},
     "output_type": "execute_result"
    }
   ],
   "source": [
    "#Q17: Which decade in the 20th century suffered the most number of hurricanes?\n",
    "most_hurricanes = max(list(map(get_decade_total, range(1900, 2000, 10))))\n",
    "year = list(map(lambda x: x[0], \n",
    "         filter(lambda x: x[1] == most_hurricanes, \n",
    "                map(lambda x: (x, get_decade_total(x)), \n",
    "                    range(1900, 2000, 10)))))[0]\n",
    "f'{year + 1} to {year + 10}'"
   ]
  },
  {
   "cell_type": "code",
   "execution_count": 53,
   "id": "d7e1e510",
   "metadata": {},
   "outputs": [
    {
     "data": {
      "text/plain": [
       "59"
      ]
     },
     "execution_count": 53,
     "metadata": {},
     "output_type": "execute_result"
    }
   ],
   "source": [
    "#Q18: How many hurricanes lasted across at least 2 different months?\n",
    "\n",
    "len(list(filter(lambda i: parse_date(project.get_dissipated(i)).month != parse_date(project.get_formed(i)).month, range(0, project.count()))))\n"
   ]
  },
  {
   "cell_type": "code",
   "execution_count": 62,
   "id": "7ea515d0",
   "metadata": {},
   "outputs": [
    {
     "data": {
      "text/plain": [
       "'Dora'"
      ]
     },
     "execution_count": 62,
     "metadata": {},
     "output_type": "execute_result"
    }
   ],
   "source": [
    "#Q19: Which of two hurricanes took longer to dissipate: Dora or Karen?\n",
    "from functools import reduce\n",
    "\n",
    "project.get_name(\n",
    "    reduce(lambda x, y: x if x[1] > y[1] else y, \n",
    "       map(lambda i: (i, parse_date(project.get_dissipated(i)) - parse_date(project.get_formed(i))), \n",
    "           [get_idx('Dora'), get_idx('Karen')]))[0])"
   ]
  },
  {
   "cell_type": "code",
   "execution_count": 98,
   "id": "f6230970",
   "metadata": {},
   "outputs": [
    {
     "data": {
      "text/plain": [
       "'Earl'"
      ]
     },
     "execution_count": 98,
     "metadata": {},
     "output_type": "execute_result"
    }
   ],
   "source": [
    "#Q20: What is the name of the last hurricane to dissipate before the formation of the deadliest hurricane between 1981 and 2000 (inclusive)?\n",
    "\n",
    "deadliest_1981_2000 = deadliest_in_range(range(1981, 2000 + 1))[0]\n",
    "formed = parse_date(project.get_formed(get_idx(deadliest_1981_2000)))\n",
    "\n",
    "project.get_name(\n",
    "    reduce(lambda x, y: x if parse_date(project.get_dissipated(x)) > parse_date(project.get_dissipated(y)) else y,\n",
    "       filter(lambda i: parse_date(project.get_dissipated(i)) < formed, \n",
    "              range(0, project.count()))))\n"
   ]
  },
  {
   "cell_type": "code",
   "execution_count": null,
   "id": "9622433f",
   "metadata": {},
   "outputs": [],
   "source": []
  }
 ],
 "metadata": {
  "kernelspec": {
   "display_name": "Python 3",
   "language": "python",
   "name": "python3"
  },
  "language_info": {
   "codemirror_mode": {
    "name": "ipython",
    "version": 3
   },
   "file_extension": ".py",
   "mimetype": "text/x-python",
   "name": "python",
   "nbconvert_exporter": "python",
   "pygments_lexer": "ipython3",
   "version": "3.8.8"
  }
 },
 "nbformat": 4,
 "nbformat_minor": 5
}
