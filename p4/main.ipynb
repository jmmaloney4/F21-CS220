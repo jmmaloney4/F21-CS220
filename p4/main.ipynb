{
 "cells": [
  {
   "cell_type": "code",
   "execution_count": 1,
   "id": "1492217a",
   "metadata": {},
   "outputs": [],
   "source": [
    "# project: p4\n",
    "# submitter: ccmaloney\n",
    "# partner: NETID2\n",
    "# hours: ????"
   ]
  },
  {
   "cell_type": "code",
   "execution_count": 2,
   "id": "12596a0a",
   "metadata": {},
   "outputs": [
    {
     "name": "stdout",
     "output_type": "stream",
     "text": [
      "Help on module project:\n",
      "\n",
      "NAME\n",
      "    project\n",
      "\n",
      "FUNCTIONS\n",
      "    __init__()\n",
      "        Automatically loads the data from 'pokemon_stats.csv' and 'type_effectiveness_stats.csv' when this module is imported.\n",
      "    \n",
      "    get_attack(pkmn)\n",
      "        get_attack(pkmn) returns the Attack of the Pokémon with the name 'pkmn'\n",
      "    \n",
      "    get_defense(pkmn)\n",
      "        get_defense(pkmn) returns the Defense of the Pokémon with the name 'pkmn'\n",
      "    \n",
      "    get_hp(pkmn)\n",
      "        get_hp(pkmn) returns the HP of the Pokémon with the name 'pkmn'\n",
      "    \n",
      "    get_region(pkmn)\n",
      "        get_region(pkmn) returns the region of the Pokémon with the name 'pkmn'\n",
      "    \n",
      "    get_sp_atk(pkmn)\n",
      "        get_sp_atk(pkmn) returns the Special Attack of the Pokémon with the name 'pkmn'\n",
      "    \n",
      "    get_sp_def(pkmn)\n",
      "        get_sp_def(pkmn) returns the Special Defense of the Pokémon with the name 'pkmn'\n",
      "    \n",
      "    get_speed(pkmn)\n",
      "        get_speed(pkmn) returns the Speed of the Pokémon with the name 'pkmn'\n",
      "    \n",
      "    get_type1(pkmn)\n",
      "        get_type1(pkmn) returns Type 1 of the Pokémon with the name 'pkmn'\n",
      "    \n",
      "    get_type2(pkmn)\n",
      "        get_type2(pkmn) returns Type 2 of the Pokémon with the name 'pkmn'\n",
      "    \n",
      "    get_type_effectiveness(attacker_type, defender_type)\n",
      "        get_type_effectiveness(attacker_type, defender_type) returns the effectiveness of attacker's type against defender's type\n",
      "    \n",
      "    print_stats(pkmn)\n",
      "        print_stats(pkmn) prints all the statistics of the Pokémon with the name 'pkmn'\n",
      "\n",
      "DATA\n",
      "    __effectiveness__ = {'Bug': {'Bug': 1.0, 'Dark': 2.0, 'Dragon': 1.0, '...\n",
      "    __pokemon__ = {'Abomasnow': {'Attack': 92, 'Defense': 75, 'HP': 90, 'N...\n",
      "\n",
      "FILE\n",
      "    /Users/ccm/Documents/F21-CS220/p4/project.py\n",
      "\n",
      "\n"
     ]
    }
   ],
   "source": [
    "import project\n",
    "help(project)"
   ]
  },
  {
   "cell_type": "code",
   "execution_count": 3,
   "id": "f98dc52e",
   "metadata": {},
   "outputs": [],
   "source": [
    "import project\n",
    "project.__init__()"
   ]
  },
  {
   "cell_type": "code",
   "execution_count": 4,
   "id": "5997ead9",
   "metadata": {},
   "outputs": [],
   "source": [
    "\n",
    "\n",
    "        \n",
    "def damage(attacker, defender):\n",
    "    physical_damage = 10 * project.get_attack(attacker) / project.get_defense(defender)\n",
    "    special_damage = 10 * project.get_sp_atk(attacker) / project.get_sp_def(defender)\n",
    "    if physical_damage > special_damage:\n",
    "        return physical_damage\n",
    "    else:\n",
    "        return special_damage\n",
    "\n"
   ]
  },
  {
   "cell_type": "code",
   "execution_count": 5,
   "id": "0339282f",
   "metadata": {},
   "outputs": [
    {
     "data": {
      "text/plain": [
       "5.769230769230769"
      ]
     },
     "execution_count": 5,
     "metadata": {},
     "output_type": "execute_result"
    }
   ],
   "source": [
    "#Q1\n",
    "damage('Scraggy','Golem')"
   ]
  },
  {
   "cell_type": "code",
   "execution_count": 6,
   "id": "946e20f1",
   "metadata": {},
   "outputs": [
    {
     "data": {
      "text/plain": [
       "17.272727272727273"
      ]
     },
     "execution_count": 6,
     "metadata": {},
     "output_type": "execute_result"
    }
   ],
   "source": [
    "#Q2\n",
    "damage('Magnemite','Nidorina')"
   ]
  },
  {
   "cell_type": "code",
   "execution_count": 7,
   "id": "1b1f5a96",
   "metadata": {},
   "outputs": [],
   "source": [
    "def type_bonus(attack_type, defender):\n",
    "    defender_type1 = project.get_type1(defender)\n",
    "    defender_type2 = project.get_type2(defender)\n",
    "    if defender_type2 == 'None':\n",
    "        bonus = project.get_type_effectiveness(attack_type, defender_type1)\n",
    "    else:\n",
    "        bonus = project.get_type_effectiveness(attack_type, defender_type1) * project.get_type_effectiveness(attack_type, defender_type2)\n",
    "    return bonus"
   ]
  },
  {
   "cell_type": "code",
   "execution_count": 8,
   "id": "be0eed9e",
   "metadata": {
    "scrolled": true
   },
   "outputs": [
    {
     "data": {
      "text/plain": [
       "2.0"
      ]
     },
     "execution_count": 8,
     "metadata": {},
     "output_type": "execute_result"
    }
   ],
   "source": [
    "#Q3 How effective is Electric type against Magikarp?\n",
    "type_bonus('Electric', 'Magikarp')"
   ]
  },
  {
   "cell_type": "code",
   "execution_count": 9,
   "id": "362cad4b",
   "metadata": {},
   "outputs": [
    {
     "data": {
      "text/plain": [
       "0.25"
      ]
     },
     "execution_count": 9,
     "metadata": {},
     "output_type": "execute_result"
    }
   ],
   "source": [
    "#Q4 How effective is Bug type against Gastly?\n",
    "type_bonus('Bug', 'Gastly')"
   ]
  },
  {
   "cell_type": "code",
   "execution_count": 10,
   "id": "f9e788eb",
   "metadata": {},
   "outputs": [
    {
     "data": {
      "text/plain": [
       "'None'"
      ]
     },
     "execution_count": 10,
     "metadata": {},
     "output_type": "execute_result"
    }
   ],
   "source": []
  },
  {
   "cell_type": "code",
   "execution_count": 13,
   "id": "c0ef3bf8",
   "metadata": {},
   "outputs": [],
   "source": [
    "def effective_damage(attacker, defender):\n",
    "    attacker_type1 = project.get_type1(attacker)\n",
    "    attacker_type2 = project.get_type2(attacker)\n",
    "    defender_type1 = project.get_type1(defender)\n",
    "    defender_type2 = project.get_type2(defender)\n",
    "    if attacker_type2 == 'None':\n",
    "        bonus = type_bonus(project.get_type1(attacker), defender)\n",
    "        damage = damage(attacker, defender) * bonus \n",
    "        return damage\n",
    "    \n",
    "    else:\n",
    "        attacker_type_bonus1 = type_bonus(project.get_type1(attacker), defender)\n",
    "        attacker_type_bonus2 = type_bonus(project.get_type2(attacker), defender)\n",
    "        bonus = max(attacker_type_bonus1, attacker_type_bonus2)\n",
    "        damage = bonus * damage(attacker, defender)\n",
    "        return damage\n",
    "        \n",
    "\n",
    "    #TODO: check if attacker has two types\n",
    "    #TODO: compute the bonus of attacker's type(s) against defender\n",
    "    #TODO: find the attack_type with the higher bonus\n",
    "    #TODO: compute the damage caused by attack, considering the higher bonus and return it"
   ]
  },
  {
   "cell_type": "code",
   "execution_count": 12,
   "id": "7f0d8dc5",
   "metadata": {},
   "outputs": [
    {
     "ename": "UnboundLocalError",
     "evalue": "local variable 'damage' referenced before assignment",
     "output_type": "error",
     "traceback": [
      "\u001b[0;31m---------------------------------------------------------------------------\u001b[0m",
      "\u001b[0;31mUnboundLocalError\u001b[0m                         Traceback (most recent call last)",
      "\u001b[0;32m<ipython-input-12-e5f30103b5c6>\u001b[0m in \u001b[0;36m<module>\u001b[0;34m\u001b[0m\n\u001b[1;32m      2\u001b[0m \u001b[0;34m\u001b[0m\u001b[0m\n\u001b[1;32m      3\u001b[0m \u001b[0;34m\u001b[0m\u001b[0m\n\u001b[0;32m----> 4\u001b[0;31m \u001b[0meffective_damage\u001b[0m\u001b[0;34m(\u001b[0m\u001b[0;34m'Mewtwo'\u001b[0m\u001b[0;34m,\u001b[0m \u001b[0;34m'Gengar'\u001b[0m\u001b[0;34m)\u001b[0m\u001b[0;34m\u001b[0m\u001b[0;34m\u001b[0m\u001b[0m\n\u001b[0m",
      "\u001b[0;32m<ipython-input-11-1c92c5504920>\u001b[0m in \u001b[0;36meffective_damage\u001b[0;34m(attacker, defender)\u001b[0m\n\u001b[1;32m      6\u001b[0m     \u001b[0;32mif\u001b[0m \u001b[0mattacker_type2\u001b[0m \u001b[0;34m==\u001b[0m \u001b[0;34m'None'\u001b[0m\u001b[0;34m:\u001b[0m\u001b[0;34m\u001b[0m\u001b[0;34m\u001b[0m\u001b[0m\n\u001b[1;32m      7\u001b[0m         \u001b[0mbonus\u001b[0m \u001b[0;34m=\u001b[0m \u001b[0mtype_bonus\u001b[0m\u001b[0;34m(\u001b[0m\u001b[0mproject\u001b[0m\u001b[0;34m.\u001b[0m\u001b[0mget_type1\u001b[0m\u001b[0;34m(\u001b[0m\u001b[0mattacker\u001b[0m\u001b[0;34m)\u001b[0m\u001b[0;34m,\u001b[0m \u001b[0mdefender\u001b[0m\u001b[0;34m)\u001b[0m\u001b[0;34m\u001b[0m\u001b[0;34m\u001b[0m\u001b[0m\n\u001b[0;32m----> 8\u001b[0;31m         \u001b[0mdamage\u001b[0m \u001b[0;34m=\u001b[0m \u001b[0mdamage\u001b[0m\u001b[0;34m(\u001b[0m\u001b[0mattacker\u001b[0m\u001b[0;34m,\u001b[0m \u001b[0mdefender\u001b[0m\u001b[0;34m)\u001b[0m \u001b[0;34m*\u001b[0m \u001b[0mbonus\u001b[0m\u001b[0;34m\u001b[0m\u001b[0;34m\u001b[0m\u001b[0m\n\u001b[0m\u001b[1;32m      9\u001b[0m \u001b[0;34m\u001b[0m\u001b[0m\n\u001b[1;32m     10\u001b[0m \u001b[0;34m\u001b[0m\u001b[0m\n",
      "\u001b[0;31mUnboundLocalError\u001b[0m: local variable 'damage' referenced before assignment"
     ]
    }
   ],
   "source": [
    "#Q5: How much damage does Mewtwo do to Gengar?\n",
    "\n",
    "effective_damage('Mewtwo', 'Gengar')"
   ]
  },
  {
   "cell_type": "code",
   "execution_count": 17,
   "id": "94dbcf27",
   "metadata": {},
   "outputs": [
    {
     "name": "stdout",
     "output_type": "stream",
     "text": [
      "HELLO\n"
     ]
    }
   ],
   "source": []
  },
  {
   "cell_type": "code",
   "execution_count": null,
   "id": "8914110e",
   "metadata": {},
   "outputs": [],
   "source": []
  }
 ],
 "metadata": {
  "kernelspec": {
   "display_name": "Python 3",
   "language": "python",
   "name": "python3"
  },
  "language_info": {
   "codemirror_mode": {
    "name": "ipython",
    "version": 3
   },
   "file_extension": ".py",
   "mimetype": "text/x-python",
   "name": "python",
   "nbconvert_exporter": "python",
   "pygments_lexer": "ipython3",
   "version": "3.8.8"
  }
 },
 "nbformat": 4,
 "nbformat_minor": 5
}
