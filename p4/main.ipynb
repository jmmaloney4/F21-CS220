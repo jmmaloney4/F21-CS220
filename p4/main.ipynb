{
 "cells": [
  {
   "cell_type": "code",
   "execution_count": 1,
   "id": "dc7b8556",
   "metadata": {},
   "outputs": [],
   "source": [
    "# project: p4\n",
    "# submitter: ccmaloney\n",
    "# partner: jmaloney3\n",
    "# hours: 6"
   ]
  },
  {
   "cell_type": "code",
   "execution_count": 2,
   "id": "24d9271d",
   "metadata": {},
   "outputs": [
    {
     "name": "stdout",
     "output_type": "stream",
     "text": [
      "Help on module project:\n",
      "\n",
      "NAME\n",
      "    project\n",
      "\n",
      "FUNCTIONS\n",
      "    __init__()\n",
      "        Automatically loads the data from 'pokemon_stats.csv' and 'type_effectiveness_stats.csv' when this module is imported.\n",
      "    \n",
      "    get_attack(pkmn)\n",
      "        get_attack(pkmn) returns the Attack of the Pokémon with the name 'pkmn'\n",
      "    \n",
      "    get_defense(pkmn)\n",
      "        get_defense(pkmn) returns the Defense of the Pokémon with the name 'pkmn'\n",
      "    \n",
      "    get_hp(pkmn)\n",
      "        get_hp(pkmn) returns the HP of the Pokémon with the name 'pkmn'\n",
      "    \n",
      "    get_region(pkmn)\n",
      "        get_region(pkmn) returns the region of the Pokémon with the name 'pkmn'\n",
      "    \n",
      "    get_sp_atk(pkmn)\n",
      "        get_sp_atk(pkmn) returns the Special Attack of the Pokémon with the name 'pkmn'\n",
      "    \n",
      "    get_sp_def(pkmn)\n",
      "        get_sp_def(pkmn) returns the Special Defense of the Pokémon with the name 'pkmn'\n",
      "    \n",
      "    get_speed(pkmn)\n",
      "        get_speed(pkmn) returns the Speed of the Pokémon with the name 'pkmn'\n",
      "    \n",
      "    get_type1(pkmn)\n",
      "        get_type1(pkmn) returns Type 1 of the Pokémon with the name 'pkmn'\n",
      "    \n",
      "    get_type2(pkmn)\n",
      "        get_type2(pkmn) returns Type 2 of the Pokémon with the name 'pkmn'\n",
      "    \n",
      "    get_type_effectiveness(attacker_type, defender_type)\n",
      "        get_type_effectiveness(attacker_type, defender_type) returns the effectiveness of attacker's type against defender's type\n",
      "    \n",
      "    print_stats(pkmn)\n",
      "        print_stats(pkmn) prints all the statistics of the Pokémon with the name 'pkmn'\n",
      "\n",
      "DATA\n",
      "    __effectiveness__ = {'Bug': {'Bug': 1.0, 'Dark': 2.0, 'Dragon': 1.0, '...\n",
      "    __pokemon__ = {'Abomasnow': {'Attack': 92, 'Defense': 75, 'HP': 90, 'N...\n",
      "\n",
      "FILE\n",
      "    /Users/ccm/Documents/F21-CS220/p4/project.py\n",
      "\n",
      "\n"
     ]
    }
   ],
   "source": [
    "import math\n",
    "import project\n",
    "help(project)"
   ]
  },
  {
   "cell_type": "code",
   "execution_count": 3,
   "id": "2b94fff6",
   "metadata": {},
   "outputs": [],
   "source": [
    "import project\n",
    "project.__init__()"
   ]
  },
  {
   "cell_type": "code",
   "execution_count": 4,
   "id": "6fef7c6e",
   "metadata": {},
   "outputs": [],
   "source": [
    "\n",
    "\n",
    "        \n",
    "def damage(attacker, defender):\n",
    "    physical_damage = 10 * project.get_attack(attacker) / project.get_defense(defender)\n",
    "    special_damage = 10 * project.get_sp_atk(attacker) / project.get_sp_def(defender)\n",
    "    if physical_damage > special_damage:\n",
    "        return physical_damage\n",
    "    else:\n",
    "        return special_damage\n",
    "\n"
   ]
  },
  {
   "cell_type": "code",
   "execution_count": 5,
   "id": "836d63f0",
   "metadata": {},
   "outputs": [
    {
     "data": {
      "text/plain": [
       "5.769230769230769"
      ]
     },
     "execution_count": 5,
     "metadata": {},
     "output_type": "execute_result"
    }
   ],
   "source": [
    "#Q1\n",
    "damage('Scraggy','Golem')"
   ]
  },
  {
   "cell_type": "code",
   "execution_count": 6,
   "id": "0bbc8ba7",
   "metadata": {},
   "outputs": [
    {
     "data": {
      "text/plain": [
       "17.272727272727273"
      ]
     },
     "execution_count": 6,
     "metadata": {},
     "output_type": "execute_result"
    }
   ],
   "source": [
    "#Q2\n",
    "damage('Magnemite','Nidorina')"
   ]
  },
  {
   "cell_type": "code",
   "execution_count": 7,
   "id": "5625c84b",
   "metadata": {},
   "outputs": [],
   "source": [
    "def type_bonus(attack_type, defender):\n",
    "    defender_type1 = project.get_type1(defender)\n",
    "    defender_type2 = project.get_type2(defender)\n",
    "    if defender_type2 == 'None':\n",
    "        bonus = project.get_type_effectiveness(attack_type, defender_type1)\n",
    "    else:\n",
    "        bonus = project.get_type_effectiveness(attack_type, defender_type1) * project.get_type_effectiveness(attack_type, defender_type2)\n",
    "    return bonus"
   ]
  },
  {
   "cell_type": "code",
   "execution_count": 8,
   "id": "44883a7b",
   "metadata": {
    "scrolled": true
   },
   "outputs": [
    {
     "data": {
      "text/plain": [
       "2.0"
      ]
     },
     "execution_count": 8,
     "metadata": {},
     "output_type": "execute_result"
    }
   ],
   "source": [
    "#Q3 How effective is Electric type against Magikarp?\n",
    "type_bonus('Electric', 'Magikarp')"
   ]
  },
  {
   "cell_type": "code",
   "execution_count": 9,
   "id": "fc098fd2",
   "metadata": {},
   "outputs": [
    {
     "data": {
      "text/plain": [
       "0.25"
      ]
     },
     "execution_count": 9,
     "metadata": {},
     "output_type": "execute_result"
    }
   ],
   "source": [
    "#Q4 How effective is Bug type against Gastly?\n",
    "type_bonus('Bug', 'Gastly')"
   ]
  },
  {
   "cell_type": "code",
   "execution_count": null,
   "id": "8f33176f",
   "metadata": {},
   "outputs": [],
   "source": []
  },
  {
   "cell_type": "code",
   "execution_count": 10,
   "id": "bd7d8d7b",
   "metadata": {},
   "outputs": [],
   "source": [
    "def effective_damage(attacker, defender):\n",
    "    attacker_type1 = project.get_type1(attacker)\n",
    "    attacker_type2 = project.get_type2(attacker)\n",
    "    defender_type1 = project.get_type1(defender)\n",
    "    defender_type2 = project.get_type2(defender)\n",
    "    if attacker_type2 == 'None':\n",
    "        bonus = type_bonus(project.get_type1(attacker), defender)\n",
    "        rv = damage(attacker, defender) * bonus \n",
    "        return rv\n",
    "    \n",
    "    else:\n",
    "        attacker_type_bonus1 = type_bonus(project.get_type1(attacker), defender)\n",
    "        attacker_type_bonus2 = type_bonus(project.get_type2(attacker), defender)\n",
    "        bonus = max(attacker_type_bonus1, attacker_type_bonus2)\n",
    "        rv = bonus * damage(attacker, defender)\n",
    "        return rv\n",
    "        \n",
    "\n",
    "    #TODO: check if attacker has two types\n",
    "    #TODO: compute the bonus of attacker's type(s) against defender\n",
    "    #TODO: find the attack_type with the higher bonus\n",
    "    #TODO: compute the damage caused by attack, considering the higher bonus and return it"
   ]
  },
  {
   "cell_type": "code",
   "execution_count": 11,
   "id": "87298ca3",
   "metadata": {},
   "outputs": [
    {
     "data": {
      "text/plain": [
       "41.06666666666667"
      ]
     },
     "execution_count": 11,
     "metadata": {},
     "output_type": "execute_result"
    }
   ],
   "source": [
    "#Q5: How much damage does Mewtwo do to Gengar?\n",
    "\n",
    "effective_damage('Mewtwo', 'Gengar')"
   ]
  },
  {
   "cell_type": "code",
   "execution_count": 12,
   "id": "e5bae73b",
   "metadata": {},
   "outputs": [
    {
     "data": {
      "text/plain": [
       "22.5"
      ]
     },
     "execution_count": 12,
     "metadata": {},
     "output_type": "execute_result"
    }
   ],
   "source": [
    "#Q6: How much damage does Wooper do to Pikachu?\n",
    "effective_damage('Wooper', 'Pikachu')"
   ]
  },
  {
   "cell_type": "code",
   "execution_count": 13,
   "id": "63a95689",
   "metadata": {},
   "outputs": [
    {
     "data": {
      "text/plain": [
       "12.307692307692308"
      ]
     },
     "execution_count": 13,
     "metadata": {},
     "output_type": "execute_result"
    }
   ],
   "source": [
    "#Q7: How much damage does Slowpoke do to Steelix?\n",
    "effective_damage('Slowpoke', 'Steelix')"
   ]
  },
  {
   "cell_type": "code",
   "execution_count": 14,
   "id": "a2d00e0d",
   "metadata": {},
   "outputs": [],
   "source": [
    "def num_hits(attacker, defender):\n",
    "    return math.ceil(project.get_hp(defender)/effective_damage(attacker, defender))"
   ]
  },
  {
   "cell_type": "code",
   "execution_count": 15,
   "id": "c2985cf7",
   "metadata": {},
   "outputs": [
    {
     "data": {
      "text/plain": [
       "8"
      ]
     },
     "execution_count": 15,
     "metadata": {},
     "output_type": "execute_result"
    }
   ],
   "source": [
    "#Q8: How many hits can the defending pokemon Slowpoke take from Metapod (attacker)?\n",
    "num_hits('Metapod', 'Slowpoke')"
   ]
  },
  {
   "cell_type": "code",
   "execution_count": 16,
   "id": "84d88326",
   "metadata": {},
   "outputs": [
    {
     "data": {
      "text/plain": [
       "9"
      ]
     },
     "execution_count": 16,
     "metadata": {},
     "output_type": "execute_result"
    }
   ],
   "source": [
    "#Q9: How many hits can the defending pokemon Snivy take from Pikachu (attacker)?\n",
    "num_hits('Pikachu', 'Snivy')"
   ]
  },
  {
   "cell_type": "code",
   "execution_count": 17,
   "id": "8c291015",
   "metadata": {},
   "outputs": [],
   "source": [
    "def battle(pkmn1, pkmn2):\n",
    "    p1l = num_hits(pkmn2, pkmn1)\n",
    "    p2l = num_hits(pkmn1, pkmn2)\n",
    "    \n",
    "    if abs(p1l - p2l) > 10:\n",
    "        # Runs away\n",
    "        if p1l > p2l: return f\"{pkmn2} ran away\"\n",
    "        else: return f\"{pkmn1} ran away\"\n",
    "    else:\n",
    "        # Regular Battle\n",
    "        if p1l > p2l: return pkmn1\n",
    "        elif p2l > p1l: return pkmn2\n",
    "        else:\n",
    "            # Decide draw based on speed\n",
    "            p1s = project.get_speed(pkmn1)\n",
    "            p2s = project.get_speed(pkmn2)\n",
    "            print(p1s, p2s)\n",
    "            if p1s > p2s: return pkmn1\n",
    "            elif p2s > p1s: return pkmn2\n",
    "            else: return \"Draw\"\n",
    "    \n",
    "    #TODO: Return the name of the pkmn that can take more hits from the other\n",
    "    # pkmn. If both pkmn faint within the same number of moves, return the\n",
    "    # string 'Draw'"
   ]
  },
  {
   "cell_type": "code",
   "execution_count": 18,
   "id": "ff4eaa8d",
   "metadata": {},
   "outputs": [
    {
     "data": {
      "text/plain": [
       "'Sceptile'"
      ]
     },
     "execution_count": 18,
     "metadata": {},
     "output_type": "execute_result"
    }
   ],
   "source": [
    "#Q10: What is the output of battle('Krabby', 'Sceptile')?\n",
    "battle('Krabby', 'Sceptile')"
   ]
  },
  {
   "cell_type": "code",
   "execution_count": 19,
   "id": "2ad678bf",
   "metadata": {},
   "outputs": [
    {
     "data": {
      "text/plain": [
       "'Heracross'"
      ]
     },
     "execution_count": 19,
     "metadata": {},
     "output_type": "execute_result"
    }
   ],
   "source": [
    "#Q11: What is the output of battle('Heracross', 'Blastoise')?\n",
    "battle('Heracross', 'Blastoise')"
   ]
  },
  {
   "cell_type": "code",
   "execution_count": 20,
   "id": "cdcbf6b6",
   "metadata": {},
   "outputs": [
    {
     "name": "stdout",
     "output_type": "stream",
     "text": [
      "60 56\n"
     ]
    },
    {
     "data": {
      "text/plain": [
       "'Starly'"
      ]
     },
     "execution_count": 20,
     "metadata": {},
     "output_type": "execute_result"
    }
   ],
   "source": [
    "#Q12: What is the output of battle('Starly', 'Pidgey')?\n",
    "battle('Starly', 'Pidgey')"
   ]
  },
  {
   "cell_type": "code",
   "execution_count": 21,
   "id": "b3651029",
   "metadata": {},
   "outputs": [
    {
     "name": "stdout",
     "output_type": "stream",
     "text": [
      "45 70\n"
     ]
    },
    {
     "data": {
      "text/plain": [
       "'Spearow'"
      ]
     },
     "execution_count": 21,
     "metadata": {},
     "output_type": "execute_result"
    }
   ],
   "source": [
    "#Q13: What is the output of battle('Bulbasaur', 'Spearow')?\n",
    "battle('Bulbasaur', 'Spearow')"
   ]
  },
  {
   "cell_type": "code",
   "execution_count": 22,
   "id": "4608992d",
   "metadata": {},
   "outputs": [
    {
     "data": {
      "text/plain": [
       "'Bellsprout ran away'"
      ]
     },
     "execution_count": 22,
     "metadata": {},
     "output_type": "execute_result"
    }
   ],
   "source": [
    "#Q14: What is the output of battle('Heatran', 'Bellsprout')?\n",
    "battle('Heatran', 'Bellsprout')"
   ]
  },
  {
   "cell_type": "code",
   "execution_count": 23,
   "id": "92749ee1",
   "metadata": {},
   "outputs": [
    {
     "data": {
      "text/plain": [
       "'Meditite ran away'"
      ]
     },
     "execution_count": 23,
     "metadata": {},
     "output_type": "execute_result"
    }
   ],
   "source": [
    "#Q15: What is the output of battle('Meditite', 'Gyarados')?\n",
    "battle('Meditite', 'Gyarados')"
   ]
  },
  {
   "cell_type": "code",
   "execution_count": 24,
   "id": "6371f7dd",
   "metadata": {
    "scrolled": false
   },
   "outputs": [
    {
     "name": "stdout",
     "output_type": "stream",
     "text": [
      "40 40\n"
     ]
    },
    {
     "data": {
      "text/plain": [
       "'Draw'"
      ]
     },
     "execution_count": 24,
     "metadata": {},
     "output_type": "execute_result"
    }
   ],
   "source": [
    "#Q16: What is the output of battle('Mudkip', 'Gulpin')?\n",
    "battle('Mudkip', 'Gulpin')"
   ]
  },
  {
   "cell_type": "code",
   "execution_count": 25,
   "id": "9c7c7549",
   "metadata": {},
   "outputs": [],
   "source": [
    "def two_on_two_battle(pkmn1, pkmn2, pkmn3, pkmn4):\n",
    "    winner_battle1 = battle(pkmn1, pkmn3)\n",
    "    winner_battle2 = battle(pkmn2, pkmn4)\n",
    "    print(winner_battle1)\n",
    "    print(winner_battle2)\n",
    "    #first round\n",
    "    if winner_battle1 == pkmn1 and winner_battle2 == pkmn2:\n",
    "        return \"Team A wins\"\n",
    "    elif winner_battle1 == pkmn3 and winner_battle2 == pkmn4:\n",
    "        return \"Team B wins\"\n",
    "    \n",
    "    #seccond round\n",
    "    elif winner_battle1 == pkmn1 and winner_battle2 == pkmn4:\n",
    "        winner_battle3 = battle(pkmn1, pkmn4)\n",
    "        if winner_battle3 == pkmn1:\n",
    "            return \"Team A wins\"\n",
    "        else: return \"Team B wins\"\n",
    "        \n",
    "    elif winner_battle2 == pkmn2 and winner_battle1 == pkmn3:\n",
    "        winner_battle4 = battle(pkmn2, pkmn3)\n",
    "        if winner_battle4 == pkmn2:\n",
    "            return \"Team A wins\"\n",
    "        else: return \"Team B wins\"\n",
    "        \n",
    "    #fallback  \n",
    "    else:\n",
    "        return \"No result\"\n",
    "       \n",
    "    # TODO: implement the first round\n",
    "    # TODO: implement the second round\n"
   ]
  },
  {
   "cell_type": "code",
   "execution_count": 26,
   "id": "d7c5f165",
   "metadata": {},
   "outputs": [
    {
     "name": "stdout",
     "output_type": "stream",
     "text": [
      "Infernape\n",
      "Charizard\n"
     ]
    },
    {
     "data": {
      "text/plain": [
       "'Team B wins'"
      ]
     },
     "execution_count": 26,
     "metadata": {},
     "output_type": "execute_result"
    }
   ],
   "source": [
    "#Q17: What is the output of two_on_two_battle('Squirtle', 'Mudkip', 'Infernape', 'Charizard')?\n",
    "two_on_two_battle('Squirtle', 'Mudkip', 'Infernape', 'Charizard')"
   ]
  },
  {
   "cell_type": "code",
   "execution_count": 27,
   "id": "7efe94ff",
   "metadata": {},
   "outputs": [
    {
     "name": "stdout",
     "output_type": "stream",
     "text": [
      "Umbreon\n",
      "Flareon\n"
     ]
    },
    {
     "data": {
      "text/plain": [
       "'Team A wins'"
      ]
     },
     "execution_count": 27,
     "metadata": {},
     "output_type": "execute_result"
    }
   ],
   "source": [
    "#Q18: What is the output of two_on_two_battle(\"Umbreon\", \"Flareon\", \"Jolteon\", \"Glaceon\")?\n",
    "two_on_two_battle(\"Umbreon\", \"Flareon\", \"Jolteon\", \"Glaceon\")"
   ]
  },
  {
   "cell_type": "code",
   "execution_count": 28,
   "id": "f84f3bbe",
   "metadata": {},
   "outputs": [
    {
     "name": "stdout",
     "output_type": "stream",
     "text": [
      "Electivire\n",
      "Charizard\n"
     ]
    },
    {
     "data": {
      "text/plain": [
       "'Team A wins'"
      ]
     },
     "execution_count": 28,
     "metadata": {},
     "output_type": "execute_result"
    }
   ],
   "source": [
    "#Q19: What is the output of two_on_two_battle(\"Electivire\", \"Arcanine\", \"Greninja\", \"Charizard\")?\n",
    "two_on_two_battle(\"Electivire\", \"Arcanine\", \"Greninja\", \"Charizard\")"
   ]
  },
  {
   "cell_type": "code",
   "execution_count": 29,
   "id": "e7aab78f",
   "metadata": {},
   "outputs": [
    {
     "name": "stdout",
     "output_type": "stream",
     "text": [
      "Garchomp\n",
      "Sceptile\n"
     ]
    },
    {
     "data": {
      "text/plain": [
       "'Team B wins'"
      ]
     },
     "execution_count": 29,
     "metadata": {},
     "output_type": "execute_result"
    }
   ],
   "source": [
    "#Q20: What is the output of two_on_two_battle('Flygon', 'Sceptile', 'Garchomp', 'Torterra')\n",
    "two_on_two_battle('Flygon', 'Sceptile', 'Garchomp', 'Torterra')"
   ]
  },
  {
   "cell_type": "code",
   "execution_count": null,
   "id": "5653be2b",
   "metadata": {},
   "outputs": [],
   "source": []
  }
 ],
 "metadata": {
  "interpreter": {
   "hash": "767d51c1340bd893661ea55ea3124f6de3c7a262a8b4abca0554b478b1e2ff90"
  },
  "kernelspec": {
   "display_name": "Python 2.7.16 64-bit",
   "name": "python3"
  },
  "language_info": {
   "codemirror_mode": {
    "name": "ipython",
    "version": 3
   },
   "file_extension": ".py",
   "mimetype": "text/x-python",
   "name": "python",
   "nbconvert_exporter": "python",
   "pygments_lexer": "ipython3",
   "version": "2.7.16"
  }
 },
 "nbformat": 4,
 "nbformat_minor": 5
}
